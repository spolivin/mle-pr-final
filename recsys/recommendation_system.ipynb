{
 "cells": [
  {
   "cell_type": "markdown",
   "metadata": {},
   "source": [
    "# Recommendation system"
   ]
  },
  {
   "cell_type": "markdown",
   "metadata": {},
   "source": [
    "## Imports"
   ]
  },
  {
   "cell_type": "markdown",
   "metadata": {},
   "source": [
    "Для начала импортируем библиотеки, которые понадобятся нам для исследовательского анализа данных и дальнейшего построения рекомендательной системы:"
   ]
  },
  {
   "cell_type": "code",
   "execution_count": 1,
   "metadata": {},
   "outputs": [],
   "source": [
    "import os\n",
    "import joblib\n",
    "from datetime import datetime\n",
    "\n",
    "import matplotlib.pyplot as plt\n",
    "import mlflow\n",
    "import numpy as np\n",
    "import pandas as pd\n",
    "import scipy\n",
    "import seaborn as sns\n",
    "from catboost import CatBoostClassifier, Pool\n",
    "from implicit.cpu.als import AlternatingLeastSquares\n",
    "from pandas.errors import MergeError\n",
    "from sklearn.preprocessing import LabelEncoder\n",
    "\n",
    "RAW_DATA_DIR = \"../data\"\n",
    "RECOMMENDATIONS_DATA_DIR = \"../fastapi_service/recommendations\"\n",
    "POSTGRES_DATA_DIR = \"../airflow_service/postgres_data\"\n",
    "ASSETS_DIR = \"./assets\"\n",
    "RANDOM_STATE = 2049\n",
    "EXPERIMENT_NAME = \"RECSYS_DEV_EXPERIMENT\"\n",
    "TRACKING_SERVER_HOST = \"127.0.0.1\"\n",
    "TRACKING_SERVER_PORT = 5000\n",
    "\n",
    "sns.set_theme()"
   ]
  },
  {
   "cell_type": "markdown",
   "metadata": {},
   "source": [
    "Теперь создадим несколько директорий (если они еще не созданы) для хранения следующих типов файлов:\n",
    "\n",
    "* `ASSETS_DIR` => Артефакты для логирования в Mlflow;\n",
    "* `RECOMMENDATIONS_DATA_DIR` => Таблицы с рекомендациями, которые будут использоваться для генерации рекомендаций во время работы сервиса `fastapi_service`. Сюда из базы данных будут попадать уже готовые таблицы с рекомендациями для показа пользователям при взаимодействии с сервисом;\n",
    "* `POSTGRES_DATA_DIR` => Таблицы с рекомендациями, а также кандидаты для тренировки и инференса модели, которые используются в графах Airflow в `airflow_service`. Из данной папки все файлы, созданные в этом ноутбуке будут отправляться в базу данных посредством Airflow;\n",
    "\n",
    "Таким образом, созданные файлы будем сразу сохранять именно в ту директорию, в которой они будут в дальнейшем использоваться."
   ]
  },
  {
   "cell_type": "code",
   "execution_count": 2,
   "metadata": {},
   "outputs": [],
   "source": [
    "# Directory for mlflow artifacts to be logged\n",
    "if not os.path.exists(ASSETS_DIR):\n",
    "    os.mkdir(ASSETS_DIR)\n",
    "\n",
    "# Directory for recommendations to be used in a FastAPI service\n",
    "if not os.path.exists(RECOMMENDATIONS_DATA_DIR):\n",
    "    os.mkdir(RECOMMENDATIONS_DATA_DIR)\n",
    "\n",
    "# Directory for data to be used in Airflow DAGs\n",
    "if not os.path.exists(POSTGRES_DATA_DIR):\n",
    "    os.mkdir(POSTGRES_DATA_DIR)"
   ]
  },
  {
   "cell_type": "markdown",
   "metadata": {},
   "source": [
    "## Mlflow tracking"
   ]
  },
  {
   "cell_type": "markdown",
   "metadata": {},
   "source": [
    "Теперь запускаем трэкинг Mlflow, чтобы можно было производить логирование артефактов, которые будем получать на различных этапах. \n",
    "\n",
    "*NOTE*: Перед запуском следующих двух ячеек сналача необходимо развернуть Mlflow с хранилищем артефактов следующими командами из корневой директории проекта:\n",
    "\n",
    "```bash\n",
    "cd recsys\n",
    "sh run_mlflow_server.sh\n",
    "```"
   ]
  },
  {
   "cell_type": "markdown",
   "metadata": {},
   "source": [
    "После запуска скрипта сервер Mlflow будет развернут на порте 5000. Запускаем трэкинг:"
   ]
  },
  {
   "cell_type": "code",
   "execution_count": 3,
   "metadata": {},
   "outputs": [],
   "source": [
    "os.environ[\"MLFLOW_S3_ENDPOINT_URL\"] = \"https://storage.yandexcloud.net\"\n",
    "os.environ[\"AWS_ACCESS_KEY_ID\"] = os.getenv(\"AWS_ACCESS_KEY_ID\")\n",
    "os.environ[\"AWS_SECRET_ACCESS_KEY\"] = os.getenv(\"AWS_SECRET_ACCESS_KEY\")\n",
    "\n",
    "mlflow.set_tracking_uri(f\"http://{TRACKING_SERVER_HOST}:{TRACKING_SERVER_PORT}\")\n",
    "mlflow.set_registry_uri(f\"http://{TRACKING_SERVER_HOST}:{TRACKING_SERVER_PORT}\")"
   ]
  },
  {
   "cell_type": "markdown",
   "metadata": {},
   "source": [
    "В следующей ячейке мы создадим эксперимент (если он еще не создан), в который будем впоследствии логировать артефакты:"
   ]
  },
  {
   "cell_type": "code",
   "execution_count": 4,
   "metadata": {},
   "outputs": [],
   "source": [
    "experiment = mlflow.get_experiment_by_name(EXPERIMENT_NAME)\n",
    "if not experiment:\n",
    "    experiment_id = mlflow.create_experiment(EXPERIMENT_NAME)\n",
    "else:\n",
    "    experiment_id = experiment.experiment_id"
   ]
  },
  {
   "cell_type": "code",
   "execution_count": 5,
   "metadata": {},
   "outputs": [
    {
     "name": "stdout",
     "output_type": "stream",
     "text": [
      "Experiment name: RECSYS_DEV_EXPERIMENT\n",
      "Experiment number: 19\n"
     ]
    }
   ],
   "source": [
    "print(\"Experiment name: {}\".format(EXPERIMENT_NAME))\n",
    "print(\"Experiment number: {}\".format(experiment_id))"
   ]
  },
  {
   "cell_type": "markdown",
   "metadata": {},
   "source": [
    "## Loading data"
   ]
  },
  {
   "cell_type": "markdown",
   "metadata": {},
   "source": [
    "Теперь загрузим данные:"
   ]
  },
  {
   "cell_type": "code",
   "execution_count": 6,
   "metadata": {},
   "outputs": [
    {
     "name": "stdout",
     "output_type": "stream",
     "text": [
      "CPU times: user 10.1 s, sys: 1.29 s, total: 11.4 s\n",
      "Wall time: 21.8 s\n"
     ]
    }
   ],
   "source": [
    "%%time\n",
    "category_tree = pd.read_csv(f\"{RAW_DATA_DIR}/category_tree.csv\")\n",
    "events = pd.read_csv(f\"{RAW_DATA_DIR}/events.csv\")\n",
    "item_props_1 = pd.read_csv(f\"{RAW_DATA_DIR}/item_properties_part1.csv\")\n",
    "item_props_2 = pd.read_csv(f\"{RAW_DATA_DIR}/item_properties_part2.csv\")"
   ]
  },
  {
   "cell_type": "markdown",
   "metadata": {},
   "source": [
    "## Exploratory data analysis"
   ]
  },
  {
   "cell_type": "markdown",
   "metadata": {},
   "source": [
    "Прежде чем переходить непосредственно к созданию системы рекомендаций товаров, необходимо сначала изучить данные, выявить их особенности и некоторые закономерности. \n",
    "\n",
    "Рассмотрим каждый датафрейм, созданный на предыдущем этапе, по-отдельности:\n",
    "\n",
    "* Category tree => `category_tree`\n",
    "* Events => `events`\n",
    "* Item properties => `item_props_1`, `item_props_2`"
   ]
  },
  {
   "cell_type": "markdown",
   "metadata": {},
   "source": [
    "### Category tree"
   ]
  },
  {
   "cell_type": "code",
   "execution_count": null,
   "metadata": {},
   "outputs": [
    {
     "name": "stdout",
     "output_type": "stream",
     "text": [
      "<class 'pandas.core.frame.DataFrame'>\n",
      "RangeIndex: 1669 entries, 0 to 1668\n",
      "Data columns (total 2 columns):\n",
      " #   Column      Non-Null Count  Dtype  \n",
      "---  ------      --------------  -----  \n",
      " 0   categoryid  1669 non-null   int64  \n",
      " 1   parentid    1644 non-null   float64\n",
      "dtypes: float64(1), int64(1)\n",
      "memory usage: 26.2 KB\n"
     ]
    }
   ],
   "source": [
    "category_tree.info()"
   ]
  },
  {
   "cell_type": "markdown",
   "metadata": {},
   "source": [
    "Данная таблица представляет собой 2 столбца, где мы имеем определенные категории и родительские категогии, к которым они относятся. Посмотрим, как это выглядит:"
   ]
  },
  {
   "cell_type": "code",
   "execution_count": 8,
   "metadata": {},
   "outputs": [
    {
     "data": {
      "text/html": [
       "<div>\n",
       "<style scoped>\n",
       "    .dataframe tbody tr th:only-of-type {\n",
       "        vertical-align: middle;\n",
       "    }\n",
       "\n",
       "    .dataframe tbody tr th {\n",
       "        vertical-align: top;\n",
       "    }\n",
       "\n",
       "    .dataframe thead th {\n",
       "        text-align: right;\n",
       "    }\n",
       "</style>\n",
       "<table border=\"1\" class=\"dataframe\">\n",
       "  <thead>\n",
       "    <tr style=\"text-align: right;\">\n",
       "      <th></th>\n",
       "      <th>categoryid</th>\n",
       "      <th>parentid</th>\n",
       "    </tr>\n",
       "  </thead>\n",
       "  <tbody>\n",
       "    <tr>\n",
       "      <th>0</th>\n",
       "      <td>1016</td>\n",
       "      <td>213.0</td>\n",
       "    </tr>\n",
       "    <tr>\n",
       "      <th>1</th>\n",
       "      <td>809</td>\n",
       "      <td>169.0</td>\n",
       "    </tr>\n",
       "    <tr>\n",
       "      <th>2</th>\n",
       "      <td>570</td>\n",
       "      <td>9.0</td>\n",
       "    </tr>\n",
       "    <tr>\n",
       "      <th>3</th>\n",
       "      <td>1691</td>\n",
       "      <td>885.0</td>\n",
       "    </tr>\n",
       "    <tr>\n",
       "      <th>4</th>\n",
       "      <td>536</td>\n",
       "      <td>1691.0</td>\n",
       "    </tr>\n",
       "  </tbody>\n",
       "</table>\n",
       "</div>"
      ],
      "text/plain": [
       "   categoryid  parentid\n",
       "0        1016     213.0\n",
       "1         809     169.0\n",
       "2         570       9.0\n",
       "3        1691     885.0\n",
       "4         536    1691.0"
      ]
     },
     "execution_count": 8,
     "metadata": {},
     "output_type": "execute_result"
    }
   ],
   "source": [
    "category_tree.head()"
   ]
  },
  {
   "cell_type": "markdown",
   "metadata": {},
   "source": [
    "На первый вгляд неясно, что к чему относится, но если взять например родительскую категорию 1698:"
   ]
  },
  {
   "cell_type": "code",
   "execution_count": 9,
   "metadata": {},
   "outputs": [
    {
     "data": {
      "text/html": [
       "<div>\n",
       "<style scoped>\n",
       "    .dataframe tbody tr th:only-of-type {\n",
       "        vertical-align: middle;\n",
       "    }\n",
       "\n",
       "    .dataframe tbody tr th {\n",
       "        vertical-align: top;\n",
       "    }\n",
       "\n",
       "    .dataframe thead th {\n",
       "        text-align: right;\n",
       "    }\n",
       "</style>\n",
       "<table border=\"1\" class=\"dataframe\">\n",
       "  <thead>\n",
       "    <tr style=\"text-align: right;\">\n",
       "      <th></th>\n",
       "      <th>categoryid</th>\n",
       "      <th>parentid</th>\n",
       "    </tr>\n",
       "  </thead>\n",
       "  <tbody>\n",
       "    <tr>\n",
       "      <th>1276</th>\n",
       "      <td>1160</td>\n",
       "      <td>1698.0</td>\n",
       "    </tr>\n",
       "    <tr>\n",
       "      <th>1283</th>\n",
       "      <td>110</td>\n",
       "      <td>1698.0</td>\n",
       "    </tr>\n",
       "    <tr>\n",
       "      <th>1299</th>\n",
       "      <td>1678</td>\n",
       "      <td>1698.0</td>\n",
       "    </tr>\n",
       "    <tr>\n",
       "      <th>1300</th>\n",
       "      <td>1034</td>\n",
       "      <td>1698.0</td>\n",
       "    </tr>\n",
       "    <tr>\n",
       "      <th>1328</th>\n",
       "      <td>1582</td>\n",
       "      <td>1698.0</td>\n",
       "    </tr>\n",
       "    <tr>\n",
       "      <th>1406</th>\n",
       "      <td>1502</td>\n",
       "      <td>1698.0</td>\n",
       "    </tr>\n",
       "    <tr>\n",
       "      <th>1651</th>\n",
       "      <td>760</td>\n",
       "      <td>1698.0</td>\n",
       "    </tr>\n",
       "  </tbody>\n",
       "</table>\n",
       "</div>"
      ],
      "text/plain": [
       "      categoryid  parentid\n",
       "1276        1160    1698.0\n",
       "1283         110    1698.0\n",
       "1299        1678    1698.0\n",
       "1300        1034    1698.0\n",
       "1328        1582    1698.0\n",
       "1406        1502    1698.0\n",
       "1651         760    1698.0"
      ]
     },
     "execution_count": 9,
     "metadata": {},
     "output_type": "execute_result"
    }
   ],
   "source": [
    "category_tree.query(\"parentid == 1698\")"
   ]
  },
  {
   "cell_type": "markdown",
   "metadata": {},
   "source": [
    "Видим, что к некой большой категории с номером 1698 относятся некоторые категории, к которым в свою очередь относятся товары, которые нам предстоит рекомендовать пользователям.\n",
    "\n",
    "Проверим уникальные значения в каждой из колонок:"
   ]
  },
  {
   "cell_type": "code",
   "execution_count": 10,
   "metadata": {},
   "outputs": [
    {
     "name": "stdout",
     "output_type": "stream",
     "text": [
      "Number of unique categories: 1,669\n",
      "Number of unique parent categories: 362\n"
     ]
    }
   ],
   "source": [
    "cat_ids_unique = category_tree.categoryid.nunique()\n",
    "par_ids_unique = category_tree.parentid.nunique()\n",
    "\n",
    "print(\"Number of unique categories: {:,}\".format(cat_ids_unique))\n",
    "print(\"Number of unique parent categories: {:,}\".format(par_ids_unique))"
   ]
  },
  {
   "cell_type": "markdown",
   "metadata": {},
   "source": [
    "Итак, в данных есть 362 комплексных групп, к которым относятся некоторые из 1669 категорий, содержащих разные товары.\n",
    "\n",
    "Посмотрим на пропуски:"
   ]
  },
  {
   "cell_type": "code",
   "execution_count": 11,
   "metadata": {},
   "outputs": [
    {
     "data": {
      "text/plain": [
       "categoryid     0\n",
       "parentid      25\n",
       "dtype: int64"
      ]
     },
     "execution_count": 11,
     "metadata": {},
     "output_type": "execute_result"
    }
   ],
   "source": [
    "category_tree.isnull().sum()"
   ]
  },
  {
   "cell_type": "markdown",
   "metadata": {},
   "source": [
    "Получается, что некоторые категории не имеют более старших групп, то есть возможно, что такие категории и являются группами. Для наглядности выведем такие категории:"
   ]
  },
  {
   "cell_type": "code",
   "execution_count": 12,
   "metadata": {},
   "outputs": [
    {
     "data": {
      "text/html": [
       "<div>\n",
       "<style scoped>\n",
       "    .dataframe tbody tr th:only-of-type {\n",
       "        vertical-align: middle;\n",
       "    }\n",
       "\n",
       "    .dataframe tbody tr th {\n",
       "        vertical-align: top;\n",
       "    }\n",
       "\n",
       "    .dataframe thead th {\n",
       "        text-align: right;\n",
       "    }\n",
       "</style>\n",
       "<table border=\"1\" class=\"dataframe\">\n",
       "  <thead>\n",
       "    <tr style=\"text-align: right;\">\n",
       "      <th></th>\n",
       "      <th>categoryid</th>\n",
       "      <th>parentid</th>\n",
       "    </tr>\n",
       "  </thead>\n",
       "  <tbody>\n",
       "    <tr>\n",
       "      <th>5</th>\n",
       "      <td>231</td>\n",
       "      <td>NaN</td>\n",
       "    </tr>\n",
       "    <tr>\n",
       "      <th>589</th>\n",
       "      <td>791</td>\n",
       "      <td>NaN</td>\n",
       "    </tr>\n",
       "    <tr>\n",
       "      <th>861</th>\n",
       "      <td>1490</td>\n",
       "      <td>NaN</td>\n",
       "    </tr>\n",
       "    <tr>\n",
       "      <th>939</th>\n",
       "      <td>431</td>\n",
       "      <td>NaN</td>\n",
       "    </tr>\n",
       "    <tr>\n",
       "      <th>1111</th>\n",
       "      <td>755</td>\n",
       "      <td>NaN</td>\n",
       "    </tr>\n",
       "    <tr>\n",
       "      <th>1142</th>\n",
       "      <td>378</td>\n",
       "      <td>NaN</td>\n",
       "    </tr>\n",
       "    <tr>\n",
       "      <th>1208</th>\n",
       "      <td>1579</td>\n",
       "      <td>NaN</td>\n",
       "    </tr>\n",
       "    <tr>\n",
       "      <th>1211</th>\n",
       "      <td>1394</td>\n",
       "      <td>NaN</td>\n",
       "    </tr>\n",
       "    <tr>\n",
       "      <th>1322</th>\n",
       "      <td>659</td>\n",
       "      <td>NaN</td>\n",
       "    </tr>\n",
       "    <tr>\n",
       "      <th>1329</th>\n",
       "      <td>1057</td>\n",
       "      <td>NaN</td>\n",
       "    </tr>\n",
       "    <tr>\n",
       "      <th>1375</th>\n",
       "      <td>859</td>\n",
       "      <td>NaN</td>\n",
       "    </tr>\n",
       "    <tr>\n",
       "      <th>1392</th>\n",
       "      <td>803</td>\n",
       "      <td>NaN</td>\n",
       "    </tr>\n",
       "    <tr>\n",
       "      <th>1395</th>\n",
       "      <td>250</td>\n",
       "      <td>NaN</td>\n",
       "    </tr>\n",
       "    <tr>\n",
       "      <th>1476</th>\n",
       "      <td>1452</td>\n",
       "      <td>NaN</td>\n",
       "    </tr>\n",
       "    <tr>\n",
       "      <th>1484</th>\n",
       "      <td>1182</td>\n",
       "      <td>NaN</td>\n",
       "    </tr>\n",
       "    <tr>\n",
       "      <th>1490</th>\n",
       "      <td>1692</td>\n",
       "      <td>NaN</td>\n",
       "    </tr>\n",
       "    <tr>\n",
       "      <th>1614</th>\n",
       "      <td>1600</td>\n",
       "      <td>NaN</td>\n",
       "    </tr>\n",
       "    <tr>\n",
       "      <th>1616</th>\n",
       "      <td>1482</td>\n",
       "      <td>NaN</td>\n",
       "    </tr>\n",
       "    <tr>\n",
       "      <th>1622</th>\n",
       "      <td>1224</td>\n",
       "      <td>NaN</td>\n",
       "    </tr>\n",
       "    <tr>\n",
       "      <th>1623</th>\n",
       "      <td>1532</td>\n",
       "      <td>NaN</td>\n",
       "    </tr>\n",
       "    <tr>\n",
       "      <th>1624</th>\n",
       "      <td>395</td>\n",
       "      <td>NaN</td>\n",
       "    </tr>\n",
       "    <tr>\n",
       "      <th>1628</th>\n",
       "      <td>653</td>\n",
       "      <td>NaN</td>\n",
       "    </tr>\n",
       "    <tr>\n",
       "      <th>1629</th>\n",
       "      <td>140</td>\n",
       "      <td>NaN</td>\n",
       "    </tr>\n",
       "    <tr>\n",
       "      <th>1650</th>\n",
       "      <td>1698</td>\n",
       "      <td>NaN</td>\n",
       "    </tr>\n",
       "    <tr>\n",
       "      <th>1657</th>\n",
       "      <td>679</td>\n",
       "      <td>NaN</td>\n",
       "    </tr>\n",
       "  </tbody>\n",
       "</table>\n",
       "</div>"
      ],
      "text/plain": [
       "      categoryid  parentid\n",
       "5            231       NaN\n",
       "589          791       NaN\n",
       "861         1490       NaN\n",
       "939          431       NaN\n",
       "1111         755       NaN\n",
       "1142         378       NaN\n",
       "1208        1579       NaN\n",
       "1211        1394       NaN\n",
       "1322         659       NaN\n",
       "1329        1057       NaN\n",
       "1375         859       NaN\n",
       "1392         803       NaN\n",
       "1395         250       NaN\n",
       "1476        1452       NaN\n",
       "1484        1182       NaN\n",
       "1490        1692       NaN\n",
       "1614        1600       NaN\n",
       "1616        1482       NaN\n",
       "1622        1224       NaN\n",
       "1623        1532       NaN\n",
       "1624         395       NaN\n",
       "1628         653       NaN\n",
       "1629         140       NaN\n",
       "1650        1698       NaN\n",
       "1657         679       NaN"
      ]
     },
     "execution_count": 12,
     "metadata": {},
     "output_type": "execute_result"
    }
   ],
   "source": [
    "category_tree[category_tree.parentid.isnull() == True]"
   ]
  },
  {
   "cell_type": "markdown",
   "metadata": {},
   "source": [
    "Можем также посмотреть на самые многочисленные группы (возьмем топ-30):"
   ]
  },
  {
   "cell_type": "code",
   "execution_count": 16,
   "metadata": {},
   "outputs": [
    {
     "data": {
      "text/html": [
       "<div>\n",
       "<style scoped>\n",
       "    .dataframe tbody tr th:only-of-type {\n",
       "        vertical-align: middle;\n",
       "    }\n",
       "\n",
       "    .dataframe tbody tr th {\n",
       "        vertical-align: top;\n",
       "    }\n",
       "\n",
       "    .dataframe thead th {\n",
       "        text-align: right;\n",
       "    }\n",
       "</style>\n",
       "<table border=\"1\" class=\"dataframe\">\n",
       "  <thead>\n",
       "    <tr style=\"text-align: right;\">\n",
       "      <th></th>\n",
       "      <th>parentid</th>\n",
       "      <th>categoryid</th>\n",
       "    </tr>\n",
       "  </thead>\n",
       "  <tbody>\n",
       "    <tr>\n",
       "      <th>0</th>\n",
       "      <td>250.0</td>\n",
       "      <td>31</td>\n",
       "    </tr>\n",
       "    <tr>\n",
       "      <th>1</th>\n",
       "      <td>1009.0</td>\n",
       "      <td>22</td>\n",
       "    </tr>\n",
       "    <tr>\n",
       "      <th>2</th>\n",
       "      <td>362.0</td>\n",
       "      <td>22</td>\n",
       "    </tr>\n",
       "    <tr>\n",
       "      <th>3</th>\n",
       "      <td>351.0</td>\n",
       "      <td>19</td>\n",
       "    </tr>\n",
       "    <tr>\n",
       "      <th>4</th>\n",
       "      <td>1259.0</td>\n",
       "      <td>18</td>\n",
       "    </tr>\n",
       "    <tr>\n",
       "      <th>5</th>\n",
       "      <td>1687.0</td>\n",
       "      <td>17</td>\n",
       "    </tr>\n",
       "    <tr>\n",
       "      <th>6</th>\n",
       "      <td>945.0</td>\n",
       "      <td>15</td>\n",
       "    </tr>\n",
       "    <tr>\n",
       "      <th>7</th>\n",
       "      <td>312.0</td>\n",
       "      <td>15</td>\n",
       "    </tr>\n",
       "    <tr>\n",
       "      <th>8</th>\n",
       "      <td>893.0</td>\n",
       "      <td>13</td>\n",
       "    </tr>\n",
       "    <tr>\n",
       "      <th>9</th>\n",
       "      <td>1482.0</td>\n",
       "      <td>13</td>\n",
       "    </tr>\n",
       "    <tr>\n",
       "      <th>10</th>\n",
       "      <td>92.0</td>\n",
       "      <td>13</td>\n",
       "    </tr>\n",
       "    <tr>\n",
       "      <th>11</th>\n",
       "      <td>540.0</td>\n",
       "      <td>12</td>\n",
       "    </tr>\n",
       "    <tr>\n",
       "      <th>12</th>\n",
       "      <td>593.0</td>\n",
       "      <td>12</td>\n",
       "    </tr>\n",
       "    <tr>\n",
       "      <th>13</th>\n",
       "      <td>1224.0</td>\n",
       "      <td>11</td>\n",
       "    </tr>\n",
       "    <tr>\n",
       "      <th>14</th>\n",
       "      <td>131.0</td>\n",
       "      <td>11</td>\n",
       "    </tr>\n",
       "    <tr>\n",
       "      <th>15</th>\n",
       "      <td>520.0</td>\n",
       "      <td>10</td>\n",
       "    </tr>\n",
       "    <tr>\n",
       "      <th>16</th>\n",
       "      <td>605.0</td>\n",
       "      <td>10</td>\n",
       "    </tr>\n",
       "    <tr>\n",
       "      <th>17</th>\n",
       "      <td>763.0</td>\n",
       "      <td>10</td>\n",
       "    </tr>\n",
       "    <tr>\n",
       "      <th>18</th>\n",
       "      <td>1110.0</td>\n",
       "      <td>10</td>\n",
       "    </tr>\n",
       "    <tr>\n",
       "      <th>19</th>\n",
       "      <td>381.0</td>\n",
       "      <td>10</td>\n",
       "    </tr>\n",
       "    <tr>\n",
       "      <th>20</th>\n",
       "      <td>587.0</td>\n",
       "      <td>10</td>\n",
       "    </tr>\n",
       "    <tr>\n",
       "      <th>21</th>\n",
       "      <td>653.0</td>\n",
       "      <td>10</td>\n",
       "    </tr>\n",
       "    <tr>\n",
       "      <th>22</th>\n",
       "      <td>1424.0</td>\n",
       "      <td>10</td>\n",
       "    </tr>\n",
       "    <tr>\n",
       "      <th>23</th>\n",
       "      <td>1600.0</td>\n",
       "      <td>10</td>\n",
       "    </tr>\n",
       "    <tr>\n",
       "      <th>24</th>\n",
       "      <td>1490.0</td>\n",
       "      <td>10</td>\n",
       "    </tr>\n",
       "    <tr>\n",
       "      <th>25</th>\n",
       "      <td>1579.0</td>\n",
       "      <td>10</td>\n",
       "    </tr>\n",
       "    <tr>\n",
       "      <th>26</th>\n",
       "      <td>727.0</td>\n",
       "      <td>9</td>\n",
       "    </tr>\n",
       "    <tr>\n",
       "      <th>27</th>\n",
       "      <td>768.0</td>\n",
       "      <td>9</td>\n",
       "    </tr>\n",
       "    <tr>\n",
       "      <th>28</th>\n",
       "      <td>1229.0</td>\n",
       "      <td>9</td>\n",
       "    </tr>\n",
       "    <tr>\n",
       "      <th>29</th>\n",
       "      <td>1181.0</td>\n",
       "      <td>9</td>\n",
       "    </tr>\n",
       "  </tbody>\n",
       "</table>\n",
       "</div>"
      ],
      "text/plain": [
       "    parentid  categoryid\n",
       "0      250.0          31\n",
       "1     1009.0          22\n",
       "2      362.0          22\n",
       "3      351.0          19\n",
       "4     1259.0          18\n",
       "5     1687.0          17\n",
       "6      945.0          15\n",
       "7      312.0          15\n",
       "8      893.0          13\n",
       "9     1482.0          13\n",
       "10      92.0          13\n",
       "11     540.0          12\n",
       "12     593.0          12\n",
       "13    1224.0          11\n",
       "14     131.0          11\n",
       "15     520.0          10\n",
       "16     605.0          10\n",
       "17     763.0          10\n",
       "18    1110.0          10\n",
       "19     381.0          10\n",
       "20     587.0          10\n",
       "21     653.0          10\n",
       "22    1424.0          10\n",
       "23    1600.0          10\n",
       "24    1490.0          10\n",
       "25    1579.0          10\n",
       "26     727.0           9\n",
       "27     768.0           9\n",
       "28    1229.0           9\n",
       "29    1181.0           9"
      ]
     },
     "execution_count": 16,
     "metadata": {},
     "output_type": "execute_result"
    }
   ],
   "source": [
    "category_tree \\\n",
    "            .groupby(\"parentid\") \\\n",
    "            .agg({\"categoryid\": \"count\"}) \\\n",
    "            .sort_values(by=\"categoryid\", ascending=False) \\\n",
    "            .reset_index() \\\n",
    "            .head(30)"
   ]
  },
  {
   "cell_type": "markdown",
   "metadata": {},
   "source": [
    "### Events"
   ]
  },
  {
   "cell_type": "markdown",
   "metadata": {},
   "source": [
    "Теперь посмотрим на события: действия, которые пользователи делали с товарами:"
   ]
  },
  {
   "cell_type": "code",
   "execution_count": 17,
   "metadata": {},
   "outputs": [
    {
     "name": "stdout",
     "output_type": "stream",
     "text": [
      "<class 'pandas.core.frame.DataFrame'>\n",
      "RangeIndex: 2756101 entries, 0 to 2756100\n",
      "Data columns (total 5 columns):\n",
      " #   Column         Dtype  \n",
      "---  ------         -----  \n",
      " 0   timestamp      int64  \n",
      " 1   visitorid      int64  \n",
      " 2   event          object \n",
      " 3   itemid         int64  \n",
      " 4   transactionid  float64\n",
      "dtypes: float64(1), int64(3), object(1)\n",
      "memory usage: 244.9 MB\n"
     ]
    }
   ],
   "source": [
    "events.info(memory_usage=\"deep\")"
   ]
  },
  {
   "cell_type": "code",
   "execution_count": 18,
   "metadata": {},
   "outputs": [
    {
     "data": {
      "text/html": [
       "<div>\n",
       "<style scoped>\n",
       "    .dataframe tbody tr th:only-of-type {\n",
       "        vertical-align: middle;\n",
       "    }\n",
       "\n",
       "    .dataframe tbody tr th {\n",
       "        vertical-align: top;\n",
       "    }\n",
       "\n",
       "    .dataframe thead th {\n",
       "        text-align: right;\n",
       "    }\n",
       "</style>\n",
       "<table border=\"1\" class=\"dataframe\">\n",
       "  <thead>\n",
       "    <tr style=\"text-align: right;\">\n",
       "      <th></th>\n",
       "      <th>timestamp</th>\n",
       "      <th>visitorid</th>\n",
       "      <th>event</th>\n",
       "      <th>itemid</th>\n",
       "      <th>transactionid</th>\n",
       "    </tr>\n",
       "  </thead>\n",
       "  <tbody>\n",
       "    <tr>\n",
       "      <th>487392</th>\n",
       "      <td>1435134103816</td>\n",
       "      <td>1286569</td>\n",
       "      <td>view</td>\n",
       "      <td>358594</td>\n",
       "      <td>NaN</td>\n",
       "    </tr>\n",
       "    <tr>\n",
       "      <th>2356113</th>\n",
       "      <td>1436929418282</td>\n",
       "      <td>880315</td>\n",
       "      <td>view</td>\n",
       "      <td>373842</td>\n",
       "      <td>NaN</td>\n",
       "    </tr>\n",
       "    <tr>\n",
       "      <th>812145</th>\n",
       "      <td>1439414093765</td>\n",
       "      <td>78620</td>\n",
       "      <td>view</td>\n",
       "      <td>211458</td>\n",
       "      <td>NaN</td>\n",
       "    </tr>\n",
       "    <tr>\n",
       "      <th>1567508</th>\n",
       "      <td>1431030652925</td>\n",
       "      <td>368177</td>\n",
       "      <td>view</td>\n",
       "      <td>434214</td>\n",
       "      <td>NaN</td>\n",
       "    </tr>\n",
       "    <tr>\n",
       "      <th>763670</th>\n",
       "      <td>1439181882071</td>\n",
       "      <td>491079</td>\n",
       "      <td>view</td>\n",
       "      <td>364147</td>\n",
       "      <td>NaN</td>\n",
       "    </tr>\n",
       "    <tr>\n",
       "      <th>49005</th>\n",
       "      <td>1433391715926</td>\n",
       "      <td>776534</td>\n",
       "      <td>view</td>\n",
       "      <td>20388</td>\n",
       "      <td>NaN</td>\n",
       "    </tr>\n",
       "    <tr>\n",
       "      <th>2185894</th>\n",
       "      <td>1436321400086</td>\n",
       "      <td>1200367</td>\n",
       "      <td>view</td>\n",
       "      <td>367588</td>\n",
       "      <td>NaN</td>\n",
       "    </tr>\n",
       "    <tr>\n",
       "      <th>1069940</th>\n",
       "      <td>1440630508956</td>\n",
       "      <td>393638</td>\n",
       "      <td>view</td>\n",
       "      <td>125466</td>\n",
       "      <td>NaN</td>\n",
       "    </tr>\n",
       "    <tr>\n",
       "      <th>759499</th>\n",
       "      <td>1439101521391</td>\n",
       "      <td>223358</td>\n",
       "      <td>view</td>\n",
       "      <td>411200</td>\n",
       "      <td>NaN</td>\n",
       "    </tr>\n",
       "    <tr>\n",
       "      <th>1245597</th>\n",
       "      <td>1441475607939</td>\n",
       "      <td>229502</td>\n",
       "      <td>transaction</td>\n",
       "      <td>12720</td>\n",
       "      <td>5654.0</td>\n",
       "    </tr>\n",
       "  </tbody>\n",
       "</table>\n",
       "</div>"
      ],
      "text/plain": [
       "             timestamp  visitorid        event  itemid  transactionid\n",
       "487392   1435134103816    1286569         view  358594            NaN\n",
       "2356113  1436929418282     880315         view  373842            NaN\n",
       "812145   1439414093765      78620         view  211458            NaN\n",
       "1567508  1431030652925     368177         view  434214            NaN\n",
       "763670   1439181882071     491079         view  364147            NaN\n",
       "49005    1433391715926     776534         view   20388            NaN\n",
       "2185894  1436321400086    1200367         view  367588            NaN\n",
       "1069940  1440630508956     393638         view  125466            NaN\n",
       "759499   1439101521391     223358         view  411200            NaN\n",
       "1245597  1441475607939     229502  transaction   12720         5654.0"
      ]
     },
     "execution_count": 18,
     "metadata": {},
     "output_type": "execute_result"
    }
   ],
   "source": [
    "events.sample(10, random_state=RANDOM_STATE)"
   ]
  },
  {
   "cell_type": "markdown",
   "metadata": {},
   "source": [
    "Итак, у нас есть порядка двух миллионов различных действий пользователей с товарами, где каждый такой пользователь отмечен в колонке `visitorid`, который выполнял с товаром в `itemid` действие в колонке `event`. Дополнительно у нас есть временная метка `timestamp` с идентификаторов покупки в `transactionid`.\n",
    "\n",
    "Например, посмотрим на данные для различных пользователей:"
   ]
  },
  {
   "cell_type": "code",
   "execution_count": 19,
   "metadata": {},
   "outputs": [
    {
     "data": {
      "text/html": [
       "<div>\n",
       "<style scoped>\n",
       "    .dataframe tbody tr th:only-of-type {\n",
       "        vertical-align: middle;\n",
       "    }\n",
       "\n",
       "    .dataframe tbody tr th {\n",
       "        vertical-align: top;\n",
       "    }\n",
       "\n",
       "    .dataframe thead th {\n",
       "        text-align: right;\n",
       "    }\n",
       "</style>\n",
       "<table border=\"1\" class=\"dataframe\">\n",
       "  <thead>\n",
       "    <tr style=\"text-align: right;\">\n",
       "      <th></th>\n",
       "      <th>timestamp</th>\n",
       "      <th>visitorid</th>\n",
       "      <th>event</th>\n",
       "      <th>itemid</th>\n",
       "      <th>transactionid</th>\n",
       "    </tr>\n",
       "  </thead>\n",
       "  <tbody>\n",
       "    <tr>\n",
       "      <th>1140018</th>\n",
       "      <td>1440996791626</td>\n",
       "      <td>355903</td>\n",
       "      <td>view</td>\n",
       "      <td>389780</td>\n",
       "      <td>NaN</td>\n",
       "    </tr>\n",
       "    <tr>\n",
       "      <th>1145219</th>\n",
       "      <td>1440996740746</td>\n",
       "      <td>355903</td>\n",
       "      <td>view</td>\n",
       "      <td>102903</td>\n",
       "      <td>NaN</td>\n",
       "    </tr>\n",
       "    <tr>\n",
       "      <th>1145255</th>\n",
       "      <td>1440996903983</td>\n",
       "      <td>355903</td>\n",
       "      <td>view</td>\n",
       "      <td>269631</td>\n",
       "      <td>NaN</td>\n",
       "    </tr>\n",
       "    <tr>\n",
       "      <th>1145262</th>\n",
       "      <td>1440996962079</td>\n",
       "      <td>355903</td>\n",
       "      <td>view</td>\n",
       "      <td>136524</td>\n",
       "      <td>NaN</td>\n",
       "    </tr>\n",
       "  </tbody>\n",
       "</table>\n",
       "</div>"
      ],
      "text/plain": [
       "             timestamp  visitorid event  itemid  transactionid\n",
       "1140018  1440996791626     355903  view  389780            NaN\n",
       "1145219  1440996740746     355903  view  102903            NaN\n",
       "1145255  1440996903983     355903  view  269631            NaN\n",
       "1145262  1440996962079     355903  view  136524            NaN"
      ]
     },
     "execution_count": 19,
     "metadata": {},
     "output_type": "execute_result"
    }
   ],
   "source": [
    "events.query(\"visitorid == 355903\")"
   ]
  },
  {
   "cell_type": "code",
   "execution_count": 20,
   "metadata": {},
   "outputs": [
    {
     "data": {
      "text/html": [
       "<div>\n",
       "<style scoped>\n",
       "    .dataframe tbody tr th:only-of-type {\n",
       "        vertical-align: middle;\n",
       "    }\n",
       "\n",
       "    .dataframe tbody tr th {\n",
       "        vertical-align: top;\n",
       "    }\n",
       "\n",
       "    .dataframe thead th {\n",
       "        text-align: right;\n",
       "    }\n",
       "</style>\n",
       "<table border=\"1\" class=\"dataframe\">\n",
       "  <thead>\n",
       "    <tr style=\"text-align: right;\">\n",
       "      <th></th>\n",
       "      <th>timestamp</th>\n",
       "      <th>visitorid</th>\n",
       "      <th>event</th>\n",
       "      <th>itemid</th>\n",
       "      <th>transactionid</th>\n",
       "    </tr>\n",
       "  </thead>\n",
       "  <tbody>\n",
       "    <tr>\n",
       "      <th>741075</th>\n",
       "      <td>1439005882692</td>\n",
       "      <td>599729</td>\n",
       "      <td>view</td>\n",
       "      <td>442793</td>\n",
       "      <td>NaN</td>\n",
       "    </tr>\n",
       "  </tbody>\n",
       "</table>\n",
       "</div>"
      ],
      "text/plain": [
       "            timestamp  visitorid event  itemid  transactionid\n",
       "741075  1439005882692     599729  view  442793            NaN"
      ]
     },
     "execution_count": 20,
     "metadata": {},
     "output_type": "execute_result"
    }
   ],
   "source": [
    "events.query(\"visitorid == 599729\")"
   ]
  },
  {
   "cell_type": "code",
   "execution_count": 21,
   "metadata": {},
   "outputs": [
    {
     "data": {
      "text/html": [
       "<div>\n",
       "<style scoped>\n",
       "    .dataframe tbody tr th:only-of-type {\n",
       "        vertical-align: middle;\n",
       "    }\n",
       "\n",
       "    .dataframe tbody tr th {\n",
       "        vertical-align: top;\n",
       "    }\n",
       "\n",
       "    .dataframe thead th {\n",
       "        text-align: right;\n",
       "    }\n",
       "</style>\n",
       "<table border=\"1\" class=\"dataframe\">\n",
       "  <thead>\n",
       "    <tr style=\"text-align: right;\">\n",
       "      <th></th>\n",
       "      <th>timestamp</th>\n",
       "      <th>visitorid</th>\n",
       "      <th>event</th>\n",
       "      <th>itemid</th>\n",
       "      <th>transactionid</th>\n",
       "    </tr>\n",
       "  </thead>\n",
       "  <tbody>\n",
       "    <tr>\n",
       "      <th>473003</th>\n",
       "      <td>1435192011355</td>\n",
       "      <td>50734</td>\n",
       "      <td>view</td>\n",
       "      <td>101718</td>\n",
       "      <td>NaN</td>\n",
       "    </tr>\n",
       "    <tr>\n",
       "      <th>475456</th>\n",
       "      <td>1435191902774</td>\n",
       "      <td>50734</td>\n",
       "      <td>view</td>\n",
       "      <td>365204</td>\n",
       "      <td>NaN</td>\n",
       "    </tr>\n",
       "    <tr>\n",
       "      <th>485288</th>\n",
       "      <td>1435191946820</td>\n",
       "      <td>50734</td>\n",
       "      <td>view</td>\n",
       "      <td>365204</td>\n",
       "      <td>NaN</td>\n",
       "    </tr>\n",
       "    <tr>\n",
       "      <th>486752</th>\n",
       "      <td>1435191236400</td>\n",
       "      <td>50734</td>\n",
       "      <td>view</td>\n",
       "      <td>272907</td>\n",
       "      <td>NaN</td>\n",
       "    </tr>\n",
       "    <tr>\n",
       "      <th>486798</th>\n",
       "      <td>1435193216976</td>\n",
       "      <td>50734</td>\n",
       "      <td>view</td>\n",
       "      <td>4442</td>\n",
       "      <td>NaN</td>\n",
       "    </tr>\n",
       "    <tr>\n",
       "      <th>486857</th>\n",
       "      <td>1435192854825</td>\n",
       "      <td>50734</td>\n",
       "      <td>view</td>\n",
       "      <td>4442</td>\n",
       "      <td>NaN</td>\n",
       "    </tr>\n",
       "    <tr>\n",
       "      <th>490545</th>\n",
       "      <td>1435194074910</td>\n",
       "      <td>50734</td>\n",
       "      <td>view</td>\n",
       "      <td>365204</td>\n",
       "      <td>NaN</td>\n",
       "    </tr>\n",
       "    <tr>\n",
       "      <th>539163</th>\n",
       "      <td>1435352138722</td>\n",
       "      <td>50734</td>\n",
       "      <td>view</td>\n",
       "      <td>79285</td>\n",
       "      <td>NaN</td>\n",
       "    </tr>\n",
       "  </tbody>\n",
       "</table>\n",
       "</div>"
      ],
      "text/plain": [
       "            timestamp  visitorid event  itemid  transactionid\n",
       "473003  1435192011355      50734  view  101718            NaN\n",
       "475456  1435191902774      50734  view  365204            NaN\n",
       "485288  1435191946820      50734  view  365204            NaN\n",
       "486752  1435191236400      50734  view  272907            NaN\n",
       "486798  1435193216976      50734  view    4442            NaN\n",
       "486857  1435192854825      50734  view    4442            NaN\n",
       "490545  1435194074910      50734  view  365204            NaN\n",
       "539163  1435352138722      50734  view   79285            NaN"
      ]
     },
     "execution_count": 21,
     "metadata": {},
     "output_type": "execute_result"
    }
   ],
   "source": [
    "events.query(\"visitorid == 50734\")"
   ]
  },
  {
   "cell_type": "markdown",
   "metadata": {},
   "source": [
    "Взятые три случайных пользователя по нашим данным просто просматривали товары без каких-то дальнейших действий. \n",
    "\n",
    "Посмотрим на данные, где все же был зафиксирован факт покупки:"
   ]
  },
  {
   "cell_type": "code",
   "execution_count": 22,
   "metadata": {},
   "outputs": [
    {
     "data": {
      "text/html": [
       "<div>\n",
       "<style scoped>\n",
       "    .dataframe tbody tr th:only-of-type {\n",
       "        vertical-align: middle;\n",
       "    }\n",
       "\n",
       "    .dataframe tbody tr th {\n",
       "        vertical-align: top;\n",
       "    }\n",
       "\n",
       "    .dataframe thead th {\n",
       "        text-align: right;\n",
       "    }\n",
       "</style>\n",
       "<table border=\"1\" class=\"dataframe\">\n",
       "  <thead>\n",
       "    <tr style=\"text-align: right;\">\n",
       "      <th></th>\n",
       "      <th>timestamp</th>\n",
       "      <th>visitorid</th>\n",
       "      <th>event</th>\n",
       "      <th>itemid</th>\n",
       "      <th>transactionid</th>\n",
       "    </tr>\n",
       "  </thead>\n",
       "  <tbody>\n",
       "    <tr>\n",
       "      <th>130</th>\n",
       "      <td>1433222276276</td>\n",
       "      <td>599528</td>\n",
       "      <td>transaction</td>\n",
       "      <td>356475</td>\n",
       "      <td>4000.0</td>\n",
       "    </tr>\n",
       "    <tr>\n",
       "      <th>304</th>\n",
       "      <td>1433193500981</td>\n",
       "      <td>121688</td>\n",
       "      <td>transaction</td>\n",
       "      <td>15335</td>\n",
       "      <td>11117.0</td>\n",
       "    </tr>\n",
       "    <tr>\n",
       "      <th>418</th>\n",
       "      <td>1433193915008</td>\n",
       "      <td>552148</td>\n",
       "      <td>transaction</td>\n",
       "      <td>81345</td>\n",
       "      <td>5444.0</td>\n",
       "    </tr>\n",
       "    <tr>\n",
       "      <th>814</th>\n",
       "      <td>1433176736375</td>\n",
       "      <td>102019</td>\n",
       "      <td>transaction</td>\n",
       "      <td>150318</td>\n",
       "      <td>13556.0</td>\n",
       "    </tr>\n",
       "    <tr>\n",
       "      <th>843</th>\n",
       "      <td>1433174518180</td>\n",
       "      <td>189384</td>\n",
       "      <td>transaction</td>\n",
       "      <td>310791</td>\n",
       "      <td>7244.0</td>\n",
       "    </tr>\n",
       "    <tr>\n",
       "      <th>...</th>\n",
       "      <td>...</td>\n",
       "      <td>...</td>\n",
       "      <td>...</td>\n",
       "      <td>...</td>\n",
       "      <td>...</td>\n",
       "    </tr>\n",
       "    <tr>\n",
       "      <th>2755294</th>\n",
       "      <td>1438377176570</td>\n",
       "      <td>1050575</td>\n",
       "      <td>transaction</td>\n",
       "      <td>31640</td>\n",
       "      <td>8354.0</td>\n",
       "    </tr>\n",
       "    <tr>\n",
       "      <th>2755349</th>\n",
       "      <td>1438379878779</td>\n",
       "      <td>861299</td>\n",
       "      <td>transaction</td>\n",
       "      <td>456602</td>\n",
       "      <td>3643.0</td>\n",
       "    </tr>\n",
       "    <tr>\n",
       "      <th>2755508</th>\n",
       "      <td>1438357730123</td>\n",
       "      <td>855941</td>\n",
       "      <td>transaction</td>\n",
       "      <td>235771</td>\n",
       "      <td>4385.0</td>\n",
       "    </tr>\n",
       "    <tr>\n",
       "      <th>2755603</th>\n",
       "      <td>1438355560300</td>\n",
       "      <td>548772</td>\n",
       "      <td>transaction</td>\n",
       "      <td>29167</td>\n",
       "      <td>13872.0</td>\n",
       "    </tr>\n",
       "    <tr>\n",
       "      <th>2755607</th>\n",
       "      <td>1438358989163</td>\n",
       "      <td>1051054</td>\n",
       "      <td>transaction</td>\n",
       "      <td>312728</td>\n",
       "      <td>17579.0</td>\n",
       "    </tr>\n",
       "  </tbody>\n",
       "</table>\n",
       "<p>22457 rows × 5 columns</p>\n",
       "</div>"
      ],
      "text/plain": [
       "             timestamp  visitorid        event  itemid  transactionid\n",
       "130      1433222276276     599528  transaction  356475         4000.0\n",
       "304      1433193500981     121688  transaction   15335        11117.0\n",
       "418      1433193915008     552148  transaction   81345         5444.0\n",
       "814      1433176736375     102019  transaction  150318        13556.0\n",
       "843      1433174518180     189384  transaction  310791         7244.0\n",
       "...                ...        ...          ...     ...            ...\n",
       "2755294  1438377176570    1050575  transaction   31640         8354.0\n",
       "2755349  1438379878779     861299  transaction  456602         3643.0\n",
       "2755508  1438357730123     855941  transaction  235771         4385.0\n",
       "2755603  1438355560300     548772  transaction   29167        13872.0\n",
       "2755607  1438358989163    1051054  transaction  312728        17579.0\n",
       "\n",
       "[22457 rows x 5 columns]"
      ]
     },
     "execution_count": 22,
     "metadata": {},
     "output_type": "execute_result"
    }
   ],
   "source": [
    "events[~events.transactionid.isna()]"
   ]
  },
  {
   "cell_type": "markdown",
   "metadata": {},
   "source": [
    "Только около 22 тысячи действий пользователей из двух миллионов привели к покупке (около 0.8%), что отмечено действием `transaction`.\n",
    "\n",
    "Возьмем трех таких пользователей:"
   ]
  },
  {
   "cell_type": "code",
   "execution_count": 23,
   "metadata": {},
   "outputs": [
    {
     "data": {
      "text/html": [
       "<div>\n",
       "<style scoped>\n",
       "    .dataframe tbody tr th:only-of-type {\n",
       "        vertical-align: middle;\n",
       "    }\n",
       "\n",
       "    .dataframe tbody tr th {\n",
       "        vertical-align: top;\n",
       "    }\n",
       "\n",
       "    .dataframe thead th {\n",
       "        text-align: right;\n",
       "    }\n",
       "</style>\n",
       "<table border=\"1\" class=\"dataframe\">\n",
       "  <thead>\n",
       "    <tr style=\"text-align: right;\">\n",
       "      <th></th>\n",
       "      <th>timestamp</th>\n",
       "      <th>visitorid</th>\n",
       "      <th>event</th>\n",
       "      <th>itemid</th>\n",
       "      <th>transactionid</th>\n",
       "    </tr>\n",
       "  </thead>\n",
       "  <tbody>\n",
       "    <tr>\n",
       "      <th>112</th>\n",
       "      <td>1433221941632</td>\n",
       "      <td>599528</td>\n",
       "      <td>addtocart</td>\n",
       "      <td>356475</td>\n",
       "      <td>NaN</td>\n",
       "    </tr>\n",
       "    <tr>\n",
       "      <th>130</th>\n",
       "      <td>1433222276276</td>\n",
       "      <td>599528</td>\n",
       "      <td>transaction</td>\n",
       "      <td>356475</td>\n",
       "      <td>4000.0</td>\n",
       "    </tr>\n",
       "    <tr>\n",
       "      <th>16729</th>\n",
       "      <td>1433221896102</td>\n",
       "      <td>599528</td>\n",
       "      <td>view</td>\n",
       "      <td>356475</td>\n",
       "      <td>NaN</td>\n",
       "    </tr>\n",
       "    <tr>\n",
       "      <th>29505</th>\n",
       "      <td>1433297545235</td>\n",
       "      <td>599528</td>\n",
       "      <td>view</td>\n",
       "      <td>356475</td>\n",
       "      <td>NaN</td>\n",
       "    </tr>\n",
       "    <tr>\n",
       "      <th>114163</th>\n",
       "      <td>1433625010602</td>\n",
       "      <td>599528</td>\n",
       "      <td>view</td>\n",
       "      <td>356475</td>\n",
       "      <td>NaN</td>\n",
       "    </tr>\n",
       "    <tr>\n",
       "      <th>145498</th>\n",
       "      <td>1433731497480</td>\n",
       "      <td>599528</td>\n",
       "      <td>view</td>\n",
       "      <td>356475</td>\n",
       "      <td>NaN</td>\n",
       "    </tr>\n",
       "    <tr>\n",
       "      <th>171995</th>\n",
       "      <td>1433896477794</td>\n",
       "      <td>599528</td>\n",
       "      <td>view</td>\n",
       "      <td>356475</td>\n",
       "      <td>NaN</td>\n",
       "    </tr>\n",
       "    <tr>\n",
       "      <th>187497</th>\n",
       "      <td>1433896449376</td>\n",
       "      <td>599528</td>\n",
       "      <td>view</td>\n",
       "      <td>356475</td>\n",
       "      <td>NaN</td>\n",
       "    </tr>\n",
       "    <tr>\n",
       "      <th>192471</th>\n",
       "      <td>1433960567121</td>\n",
       "      <td>599528</td>\n",
       "      <td>view</td>\n",
       "      <td>356475</td>\n",
       "      <td>NaN</td>\n",
       "    </tr>\n",
       "    <tr>\n",
       "      <th>197272</th>\n",
       "      <td>1433960259198</td>\n",
       "      <td>599528</td>\n",
       "      <td>view</td>\n",
       "      <td>356475</td>\n",
       "      <td>NaN</td>\n",
       "    </tr>\n",
       "    <tr>\n",
       "      <th>198282</th>\n",
       "      <td>1433963102402</td>\n",
       "      <td>599528</td>\n",
       "      <td>view</td>\n",
       "      <td>356475</td>\n",
       "      <td>NaN</td>\n",
       "    </tr>\n",
       "    <tr>\n",
       "      <th>198625</th>\n",
       "      <td>1433973462396</td>\n",
       "      <td>599528</td>\n",
       "      <td>view</td>\n",
       "      <td>356475</td>\n",
       "      <td>NaN</td>\n",
       "    </tr>\n",
       "    <tr>\n",
       "      <th>230066</th>\n",
       "      <td>1434078873027</td>\n",
       "      <td>599528</td>\n",
       "      <td>view</td>\n",
       "      <td>356475</td>\n",
       "      <td>NaN</td>\n",
       "    </tr>\n",
       "    <tr>\n",
       "      <th>234266</th>\n",
       "      <td>1434086434308</td>\n",
       "      <td>599528</td>\n",
       "      <td>view</td>\n",
       "      <td>356475</td>\n",
       "      <td>NaN</td>\n",
       "    </tr>\n",
       "    <tr>\n",
       "      <th>244007</th>\n",
       "      <td>1434038132984</td>\n",
       "      <td>599528</td>\n",
       "      <td>view</td>\n",
       "      <td>356475</td>\n",
       "      <td>NaN</td>\n",
       "    </tr>\n",
       "    <tr>\n",
       "      <th>259779</th>\n",
       "      <td>1434115231654</td>\n",
       "      <td>599528</td>\n",
       "      <td>view</td>\n",
       "      <td>356475</td>\n",
       "      <td>NaN</td>\n",
       "    </tr>\n",
       "    <tr>\n",
       "      <th>1039541</th>\n",
       "      <td>1440527523642</td>\n",
       "      <td>599528</td>\n",
       "      <td>view</td>\n",
       "      <td>64279</td>\n",
       "      <td>NaN</td>\n",
       "    </tr>\n",
       "  </tbody>\n",
       "</table>\n",
       "</div>"
      ],
      "text/plain": [
       "             timestamp  visitorid        event  itemid  transactionid\n",
       "112      1433221941632     599528    addtocart  356475            NaN\n",
       "130      1433222276276     599528  transaction  356475         4000.0\n",
       "16729    1433221896102     599528         view  356475            NaN\n",
       "29505    1433297545235     599528         view  356475            NaN\n",
       "114163   1433625010602     599528         view  356475            NaN\n",
       "145498   1433731497480     599528         view  356475            NaN\n",
       "171995   1433896477794     599528         view  356475            NaN\n",
       "187497   1433896449376     599528         view  356475            NaN\n",
       "192471   1433960567121     599528         view  356475            NaN\n",
       "197272   1433960259198     599528         view  356475            NaN\n",
       "198282   1433963102402     599528         view  356475            NaN\n",
       "198625   1433973462396     599528         view  356475            NaN\n",
       "230066   1434078873027     599528         view  356475            NaN\n",
       "234266   1434086434308     599528         view  356475            NaN\n",
       "244007   1434038132984     599528         view  356475            NaN\n",
       "259779   1434115231654     599528         view  356475            NaN\n",
       "1039541  1440527523642     599528         view   64279            NaN"
      ]
     },
     "execution_count": 23,
     "metadata": {},
     "output_type": "execute_result"
    }
   ],
   "source": [
    "events.query(\"visitorid == 599528\")"
   ]
  },
  {
   "cell_type": "code",
   "execution_count": 24,
   "metadata": {},
   "outputs": [
    {
     "data": {
      "text/html": [
       "<div>\n",
       "<style scoped>\n",
       "    .dataframe tbody tr th:only-of-type {\n",
       "        vertical-align: middle;\n",
       "    }\n",
       "\n",
       "    .dataframe tbody tr th {\n",
       "        vertical-align: top;\n",
       "    }\n",
       "\n",
       "    .dataframe thead th {\n",
       "        text-align: right;\n",
       "    }\n",
       "</style>\n",
       "<table border=\"1\" class=\"dataframe\">\n",
       "  <thead>\n",
       "    <tr style=\"text-align: right;\">\n",
       "      <th></th>\n",
       "      <th>timestamp</th>\n",
       "      <th>visitorid</th>\n",
       "      <th>event</th>\n",
       "      <th>itemid</th>\n",
       "      <th>transactionid</th>\n",
       "    </tr>\n",
       "  </thead>\n",
       "  <tbody>\n",
       "    <tr>\n",
       "      <th>2739787</th>\n",
       "      <td>1438359416397</td>\n",
       "      <td>1051054</td>\n",
       "      <td>transaction</td>\n",
       "      <td>463002</td>\n",
       "      <td>11404.0</td>\n",
       "    </tr>\n",
       "    <tr>\n",
       "      <th>2739839</th>\n",
       "      <td>1438358858548</td>\n",
       "      <td>1051054</td>\n",
       "      <td>addtocart</td>\n",
       "      <td>312728</td>\n",
       "      <td>NaN</td>\n",
       "    </tr>\n",
       "    <tr>\n",
       "      <th>2755578</th>\n",
       "      <td>1438359194127</td>\n",
       "      <td>1051054</td>\n",
       "      <td>addtocart</td>\n",
       "      <td>463002</td>\n",
       "      <td>NaN</td>\n",
       "    </tr>\n",
       "    <tr>\n",
       "      <th>2755593</th>\n",
       "      <td>1438358847786</td>\n",
       "      <td>1051054</td>\n",
       "      <td>view</td>\n",
       "      <td>312728</td>\n",
       "      <td>NaN</td>\n",
       "    </tr>\n",
       "    <tr>\n",
       "      <th>2755607</th>\n",
       "      <td>1438358989163</td>\n",
       "      <td>1051054</td>\n",
       "      <td>transaction</td>\n",
       "      <td>312728</td>\n",
       "      <td>17579.0</td>\n",
       "    </tr>\n",
       "  </tbody>\n",
       "</table>\n",
       "</div>"
      ],
      "text/plain": [
       "             timestamp  visitorid        event  itemid  transactionid\n",
       "2739787  1438359416397    1051054  transaction  463002        11404.0\n",
       "2739839  1438358858548    1051054    addtocart  312728            NaN\n",
       "2755578  1438359194127    1051054    addtocart  463002            NaN\n",
       "2755593  1438358847786    1051054         view  312728            NaN\n",
       "2755607  1438358989163    1051054  transaction  312728        17579.0"
      ]
     },
     "execution_count": 24,
     "metadata": {},
     "output_type": "execute_result"
    }
   ],
   "source": [
    "events.query(\"visitorid == 1051054\")"
   ]
  },
  {
   "cell_type": "code",
   "execution_count": 25,
   "metadata": {},
   "outputs": [
    {
     "data": {
      "text/html": [
       "<div>\n",
       "<style scoped>\n",
       "    .dataframe tbody tr th:only-of-type {\n",
       "        vertical-align: middle;\n",
       "    }\n",
       "\n",
       "    .dataframe tbody tr th {\n",
       "        vertical-align: top;\n",
       "    }\n",
       "\n",
       "    .dataframe thead th {\n",
       "        text-align: right;\n",
       "    }\n",
       "</style>\n",
       "<table border=\"1\" class=\"dataframe\">\n",
       "  <thead>\n",
       "    <tr style=\"text-align: right;\">\n",
       "      <th></th>\n",
       "      <th>timestamp</th>\n",
       "      <th>visitorid</th>\n",
       "      <th>event</th>\n",
       "      <th>itemid</th>\n",
       "      <th>transactionid</th>\n",
       "    </tr>\n",
       "  </thead>\n",
       "  <tbody>\n",
       "    <tr>\n",
       "      <th>2754118</th>\n",
       "      <td>1438365085777</td>\n",
       "      <td>861299</td>\n",
       "      <td>view</td>\n",
       "      <td>204057</td>\n",
       "      <td>NaN</td>\n",
       "    </tr>\n",
       "    <tr>\n",
       "      <th>2754591</th>\n",
       "      <td>1438383952746</td>\n",
       "      <td>861299</td>\n",
       "      <td>view</td>\n",
       "      <td>391484</td>\n",
       "      <td>NaN</td>\n",
       "    </tr>\n",
       "    <tr>\n",
       "      <th>2754701</th>\n",
       "      <td>1438370210252</td>\n",
       "      <td>861299</td>\n",
       "      <td>view</td>\n",
       "      <td>546</td>\n",
       "      <td>NaN</td>\n",
       "    </tr>\n",
       "    <tr>\n",
       "      <th>2754754</th>\n",
       "      <td>1438368794533</td>\n",
       "      <td>861299</td>\n",
       "      <td>view</td>\n",
       "      <td>367032</td>\n",
       "      <td>NaN</td>\n",
       "    </tr>\n",
       "    <tr>\n",
       "      <th>2754872</th>\n",
       "      <td>1438370067882</td>\n",
       "      <td>861299</td>\n",
       "      <td>view</td>\n",
       "      <td>546</td>\n",
       "      <td>NaN</td>\n",
       "    </tr>\n",
       "    <tr>\n",
       "      <th>2754908</th>\n",
       "      <td>1438390902050</td>\n",
       "      <td>861299</td>\n",
       "      <td>view</td>\n",
       "      <td>295448</td>\n",
       "      <td>NaN</td>\n",
       "    </tr>\n",
       "    <tr>\n",
       "      <th>2754994</th>\n",
       "      <td>1438388002882</td>\n",
       "      <td>861299</td>\n",
       "      <td>view</td>\n",
       "      <td>243355</td>\n",
       "      <td>NaN</td>\n",
       "    </tr>\n",
       "    <tr>\n",
       "      <th>2755003</th>\n",
       "      <td>1438386491922</td>\n",
       "      <td>861299</td>\n",
       "      <td>view</td>\n",
       "      <td>30308</td>\n",
       "      <td>NaN</td>\n",
       "    </tr>\n",
       "    <tr>\n",
       "      <th>2755033</th>\n",
       "      <td>1438389817314</td>\n",
       "      <td>861299</td>\n",
       "      <td>addtocart</td>\n",
       "      <td>191763</td>\n",
       "      <td>NaN</td>\n",
       "    </tr>\n",
       "    <tr>\n",
       "      <th>2755156</th>\n",
       "      <td>1438376953339</td>\n",
       "      <td>861299</td>\n",
       "      <td>transaction</td>\n",
       "      <td>22969</td>\n",
       "      <td>14059.0</td>\n",
       "    </tr>\n",
       "    <tr>\n",
       "      <th>2755349</th>\n",
       "      <td>1438379878779</td>\n",
       "      <td>861299</td>\n",
       "      <td>transaction</td>\n",
       "      <td>456602</td>\n",
       "      <td>3643.0</td>\n",
       "    </tr>\n",
       "    <tr>\n",
       "      <th>2755390</th>\n",
       "      <td>1438379771868</td>\n",
       "      <td>861299</td>\n",
       "      <td>view</td>\n",
       "      <td>313230</td>\n",
       "      <td>NaN</td>\n",
       "    </tr>\n",
       "    <tr>\n",
       "      <th>2755392</th>\n",
       "      <td>1438380430262</td>\n",
       "      <td>861299</td>\n",
       "      <td>view</td>\n",
       "      <td>441852</td>\n",
       "      <td>NaN</td>\n",
       "    </tr>\n",
       "    <tr>\n",
       "      <th>2755552</th>\n",
       "      <td>1438356834160</td>\n",
       "      <td>861299</td>\n",
       "      <td>addtocart</td>\n",
       "      <td>411482</td>\n",
       "      <td>NaN</td>\n",
       "    </tr>\n",
       "    <tr>\n",
       "      <th>2755581</th>\n",
       "      <td>1438355580762</td>\n",
       "      <td>861299</td>\n",
       "      <td>view</td>\n",
       "      <td>110018</td>\n",
       "      <td>NaN</td>\n",
       "    </tr>\n",
       "  </tbody>\n",
       "</table>\n",
       "</div>"
      ],
      "text/plain": [
       "             timestamp  visitorid        event  itemid  transactionid\n",
       "2754118  1438365085777     861299         view  204057            NaN\n",
       "2754591  1438383952746     861299         view  391484            NaN\n",
       "2754701  1438370210252     861299         view     546            NaN\n",
       "2754754  1438368794533     861299         view  367032            NaN\n",
       "2754872  1438370067882     861299         view     546            NaN\n",
       "2754908  1438390902050     861299         view  295448            NaN\n",
       "2754994  1438388002882     861299         view  243355            NaN\n",
       "2755003  1438386491922     861299         view   30308            NaN\n",
       "2755033  1438389817314     861299    addtocart  191763            NaN\n",
       "2755156  1438376953339     861299  transaction   22969        14059.0\n",
       "2755349  1438379878779     861299  transaction  456602         3643.0\n",
       "2755390  1438379771868     861299         view  313230            NaN\n",
       "2755392  1438380430262     861299         view  441852            NaN\n",
       "2755552  1438356834160     861299    addtocart  411482            NaN\n",
       "2755581  1438355580762     861299         view  110018            NaN"
      ]
     },
     "execution_count": 25,
     "metadata": {},
     "output_type": "execute_result"
    }
   ],
   "source": [
    "events.query(\"visitorid == 861299\").tail(15)"
   ]
  },
  {
   "cell_type": "markdown",
   "metadata": {},
   "source": [
    "Видим, что до покупки пользователь добавляет товар в корзину (действие `addtocart`). Из действий случайных трех пользователей видно, что так обычно и происходит, но есть действия, где после добавления товара в корзину ничего не случается дальше, то есть добавление в корзинуне всегда конвертируется в покупку.\n",
    "\n",
    "Расчитаем число уникальных пользователей и товаров:"
   ]
  },
  {
   "cell_type": "code",
   "execution_count": 26,
   "metadata": {},
   "outputs": [
    {
     "name": "stdout",
     "output_type": "stream",
     "text": [
      "Number of unique users: 1,407,580\n",
      "Number of unique items: 235,061\n"
     ]
    }
   ],
   "source": [
    "users_unique = events.visitorid.nunique()\n",
    "items_unique = events.itemid.nunique()\n",
    "\n",
    "print(\"Number of unique users: {:,}\".format(users_unique))\n",
    "print(\"Number of unique items: {:,}\".format(items_unique))"
   ]
  },
  {
   "cell_type": "markdown",
   "metadata": {},
   "source": [
    "Наблюдаем довольно обширное число товаров вместе с почти полутора миллиона пользователей.\n",
    "\n",
    "Посмотрим, как распределены действия пользователей:"
   ]
  },
  {
   "cell_type": "code",
   "execution_count": 27,
   "metadata": {},
   "outputs": [
    {
     "data": {
      "image/png": "[encoded data removed]",
      "text/plain": [
       "<Figure size 640x480 with 1 Axes>"
      ]
     },
     "metadata": {},
     "output_type": "display_data"
    }
   ],
   "source": [
    "events.event \\\n",
    "    .value_counts(normalize=True) \\\n",
    "    .plot(kind=\"bar\")\n",
    "plt.xticks(rotation=0)\n",
    "plt.ylabel(\"Share of objects\")\n",
    "plt.xlabel(\"User's action\")\n",
    "plt.title(\"Actions of users with items\")\n",
    "plt.tight_layout()\n",
    "plt.savefig(f\"{ASSETS_DIR}/user_actions.png\")\n",
    "plt.show()"
   ]
  },
  {
   "cell_type": "markdown",
   "metadata": {},
   "source": [
    "Видно, что в основном пользователи только смотрят товары, но не все такие действия реализуются в покупку (об этом свидетельствует чуть более высокая величина столбика для `addtocart` по сравнению с `transaction`). Даже добавление в корзину (как было замечено выше) не всегда приводит к покупке. Например, пользователь может добавить товар в корзину, чтобы сохранить его на будущее.\n",
    "\n",
    "Посмотрим на транзакции подробнее:"
   ]
  },
  {
   "cell_type": "code",
   "execution_count": 28,
   "metadata": {},
   "outputs": [
    {
     "data": {
      "text/html": [
       "<div>\n",
       "<style scoped>\n",
       "    .dataframe tbody tr th:only-of-type {\n",
       "        vertical-align: middle;\n",
       "    }\n",
       "\n",
       "    .dataframe tbody tr th {\n",
       "        vertical-align: top;\n",
       "    }\n",
       "\n",
       "    .dataframe thead th {\n",
       "        text-align: right;\n",
       "    }\n",
       "</style>\n",
       "<table border=\"1\" class=\"dataframe\">\n",
       "  <thead>\n",
       "    <tr style=\"text-align: right;\">\n",
       "      <th></th>\n",
       "      <th>timestamp</th>\n",
       "      <th>visitorid</th>\n",
       "      <th>event</th>\n",
       "      <th>itemid</th>\n",
       "      <th>transactionid</th>\n",
       "    </tr>\n",
       "  </thead>\n",
       "  <tbody>\n",
       "    <tr>\n",
       "      <th>130</th>\n",
       "      <td>1433222276276</td>\n",
       "      <td>599528</td>\n",
       "      <td>transaction</td>\n",
       "      <td>356475</td>\n",
       "      <td>4000.0</td>\n",
       "    </tr>\n",
       "    <tr>\n",
       "      <th>304</th>\n",
       "      <td>1433193500981</td>\n",
       "      <td>121688</td>\n",
       "      <td>transaction</td>\n",
       "      <td>15335</td>\n",
       "      <td>11117.0</td>\n",
       "    </tr>\n",
       "    <tr>\n",
       "      <th>418</th>\n",
       "      <td>1433193915008</td>\n",
       "      <td>552148</td>\n",
       "      <td>transaction</td>\n",
       "      <td>81345</td>\n",
       "      <td>5444.0</td>\n",
       "    </tr>\n",
       "    <tr>\n",
       "      <th>814</th>\n",
       "      <td>1433176736375</td>\n",
       "      <td>102019</td>\n",
       "      <td>transaction</td>\n",
       "      <td>150318</td>\n",
       "      <td>13556.0</td>\n",
       "    </tr>\n",
       "    <tr>\n",
       "      <th>843</th>\n",
       "      <td>1433174518180</td>\n",
       "      <td>189384</td>\n",
       "      <td>transaction</td>\n",
       "      <td>310791</td>\n",
       "      <td>7244.0</td>\n",
       "    </tr>\n",
       "    <tr>\n",
       "      <th>...</th>\n",
       "      <td>...</td>\n",
       "      <td>...</td>\n",
       "      <td>...</td>\n",
       "      <td>...</td>\n",
       "      <td>...</td>\n",
       "    </tr>\n",
       "    <tr>\n",
       "      <th>2755294</th>\n",
       "      <td>1438377176570</td>\n",
       "      <td>1050575</td>\n",
       "      <td>transaction</td>\n",
       "      <td>31640</td>\n",
       "      <td>8354.0</td>\n",
       "    </tr>\n",
       "    <tr>\n",
       "      <th>2755349</th>\n",
       "      <td>1438379878779</td>\n",
       "      <td>861299</td>\n",
       "      <td>transaction</td>\n",
       "      <td>456602</td>\n",
       "      <td>3643.0</td>\n",
       "    </tr>\n",
       "    <tr>\n",
       "      <th>2755508</th>\n",
       "      <td>1438357730123</td>\n",
       "      <td>855941</td>\n",
       "      <td>transaction</td>\n",
       "      <td>235771</td>\n",
       "      <td>4385.0</td>\n",
       "    </tr>\n",
       "    <tr>\n",
       "      <th>2755603</th>\n",
       "      <td>1438355560300</td>\n",
       "      <td>548772</td>\n",
       "      <td>transaction</td>\n",
       "      <td>29167</td>\n",
       "      <td>13872.0</td>\n",
       "    </tr>\n",
       "    <tr>\n",
       "      <th>2755607</th>\n",
       "      <td>1438358989163</td>\n",
       "      <td>1051054</td>\n",
       "      <td>transaction</td>\n",
       "      <td>312728</td>\n",
       "      <td>17579.0</td>\n",
       "    </tr>\n",
       "  </tbody>\n",
       "</table>\n",
       "<p>22457 rows × 5 columns</p>\n",
       "</div>"
      ],
      "text/plain": [
       "             timestamp  visitorid        event  itemid  transactionid\n",
       "130      1433222276276     599528  transaction  356475         4000.0\n",
       "304      1433193500981     121688  transaction   15335        11117.0\n",
       "418      1433193915008     552148  transaction   81345         5444.0\n",
       "814      1433176736375     102019  transaction  150318        13556.0\n",
       "843      1433174518180     189384  transaction  310791         7244.0\n",
       "...                ...        ...          ...     ...            ...\n",
       "2755294  1438377176570    1050575  transaction   31640         8354.0\n",
       "2755349  1438379878779     861299  transaction  456602         3643.0\n",
       "2755508  1438357730123     855941  transaction  235771         4385.0\n",
       "2755603  1438355560300     548772  transaction   29167        13872.0\n",
       "2755607  1438358989163    1051054  transaction  312728        17579.0\n",
       "\n",
       "[22457 rows x 5 columns]"
      ]
     },
     "execution_count": 28,
     "metadata": {},
     "output_type": "execute_result"
    }
   ],
   "source": [
    "events_transactions = events[~events.transactionid.isna()]\n",
    "events_transactions"
   ]
  },
  {
   "cell_type": "code",
   "execution_count": 29,
   "metadata": {},
   "outputs": [
    {
     "data": {
      "text/plain": [
       "17672"
      ]
     },
     "execution_count": 29,
     "metadata": {},
     "output_type": "execute_result"
    }
   ],
   "source": [
    "events.transactionid.nunique()"
   ]
  },
  {
   "cell_type": "code",
   "execution_count": 30,
   "metadata": {},
   "outputs": [
    {
     "data": {
      "text/html": [
       "<div>\n",
       "<style scoped>\n",
       "    .dataframe tbody tr th:only-of-type {\n",
       "        vertical-align: middle;\n",
       "    }\n",
       "\n",
       "    .dataframe tbody tr th {\n",
       "        vertical-align: top;\n",
       "    }\n",
       "\n",
       "    .dataframe thead th {\n",
       "        text-align: right;\n",
       "    }\n",
       "</style>\n",
       "<table border=\"1\" class=\"dataframe\">\n",
       "  <thead>\n",
       "    <tr style=\"text-align: right;\">\n",
       "      <th></th>\n",
       "      <th>timestamp</th>\n",
       "      <th>visitorid</th>\n",
       "      <th>event</th>\n",
       "      <th>itemid</th>\n",
       "      <th>transactionid</th>\n",
       "    </tr>\n",
       "  </thead>\n",
       "  <tbody>\n",
       "    <tr>\n",
       "      <th>1793308</th>\n",
       "      <td>1431978994534</td>\n",
       "      <td>288956</td>\n",
       "      <td>transaction</td>\n",
       "      <td>432742</td>\n",
       "      <td>12.0</td>\n",
       "    </tr>\n",
       "    <tr>\n",
       "      <th>77335</th>\n",
       "      <td>1433448499720</td>\n",
       "      <td>527277</td>\n",
       "      <td>transaction</td>\n",
       "      <td>397642</td>\n",
       "      <td>23.0</td>\n",
       "    </tr>\n",
       "    <tr>\n",
       "      <th>80335</th>\n",
       "      <td>1433448499642</td>\n",
       "      <td>527277</td>\n",
       "      <td>transaction</td>\n",
       "      <td>93556</td>\n",
       "      <td>23.0</td>\n",
       "    </tr>\n",
       "    <tr>\n",
       "      <th>92102</th>\n",
       "      <td>1433448499642</td>\n",
       "      <td>527277</td>\n",
       "      <td>transaction</td>\n",
       "      <td>57548</td>\n",
       "      <td>23.0</td>\n",
       "    </tr>\n",
       "    <tr>\n",
       "      <th>2533069</th>\n",
       "      <td>1437584753292</td>\n",
       "      <td>518659</td>\n",
       "      <td>transaction</td>\n",
       "      <td>130226</td>\n",
       "      <td>27.0</td>\n",
       "    </tr>\n",
       "    <tr>\n",
       "      <th>...</th>\n",
       "      <td>...</td>\n",
       "      <td>...</td>\n",
       "      <td>...</td>\n",
       "      <td>...</td>\n",
       "      <td>...</td>\n",
       "    </tr>\n",
       "    <tr>\n",
       "      <th>805249</th>\n",
       "      <td>1439345589053</td>\n",
       "      <td>530559</td>\n",
       "      <td>transaction</td>\n",
       "      <td>157743</td>\n",
       "      <td>17660.0</td>\n",
       "    </tr>\n",
       "    <tr>\n",
       "      <th>791365</th>\n",
       "      <td>1439345588928</td>\n",
       "      <td>530559</td>\n",
       "      <td>transaction</td>\n",
       "      <td>265920</td>\n",
       "      <td>17660.0</td>\n",
       "    </tr>\n",
       "    <tr>\n",
       "      <th>929833</th>\n",
       "      <td>1439949233505</td>\n",
       "      <td>795731</td>\n",
       "      <td>transaction</td>\n",
       "      <td>442610</td>\n",
       "      <td>17662.0</td>\n",
       "    </tr>\n",
       "    <tr>\n",
       "      <th>924918</th>\n",
       "      <td>1439924299698</td>\n",
       "      <td>465862</td>\n",
       "      <td>transaction</td>\n",
       "      <td>180349</td>\n",
       "      <td>17663.0</td>\n",
       "    </tr>\n",
       "    <tr>\n",
       "      <th>1810396</th>\n",
       "      <td>1432072691718</td>\n",
       "      <td>163561</td>\n",
       "      <td>transaction</td>\n",
       "      <td>260256</td>\n",
       "      <td>17669.0</td>\n",
       "    </tr>\n",
       "  </tbody>\n",
       "</table>\n",
       "<p>4785 rows × 5 columns</p>\n",
       "</div>"
      ],
      "text/plain": [
       "             timestamp  visitorid        event  itemid  transactionid\n",
       "1793308  1431978994534     288956  transaction  432742           12.0\n",
       "77335    1433448499720     527277  transaction  397642           23.0\n",
       "80335    1433448499642     527277  transaction   93556           23.0\n",
       "92102    1433448499642     527277  transaction   57548           23.0\n",
       "2533069  1437584753292     518659  transaction  130226           27.0\n",
       "...                ...        ...          ...     ...            ...\n",
       "805249   1439345589053     530559  transaction  157743        17660.0\n",
       "791365   1439345588928     530559  transaction  265920        17660.0\n",
       "929833   1439949233505     795731  transaction  442610        17662.0\n",
       "924918   1439924299698     465862  transaction  180349        17663.0\n",
       "1810396  1432072691718     163561  transaction  260256        17669.0\n",
       "\n",
       "[4785 rows x 5 columns]"
      ]
     },
     "execution_count": 30,
     "metadata": {},
     "output_type": "execute_result"
    }
   ],
   "source": [
    "events_transactions[\n",
    "    events_transactions.duplicated(subset=[\"transactionid\"])\n",
    "].sort_values(by=\"transactionid\")"
   ]
  },
  {
   "cell_type": "markdown",
   "metadata": {},
   "source": [
    "Из ячеек выше видно, что число уникальных идентификаторов транзакций не совпадает с общим числом транзакций пользователей. Это результат того, что пользователи могут добавлять в корзину и покупать сразу несколько товаров, то есть у таких пользователей для разных товаров будет один идентификатор транзакции (что можно заметить по датафрейму с дубликатами выше).\n",
    "\n",
    "Можем также взглянуть на пользователей с большим числом покупок:"
   ]
  },
  {
   "cell_type": "code",
   "execution_count": 31,
   "metadata": {},
   "outputs": [
    {
     "data": {
      "text/html": [
       "<div>\n",
       "<style scoped>\n",
       "    .dataframe tbody tr th:only-of-type {\n",
       "        vertical-align: middle;\n",
       "    }\n",
       "\n",
       "    .dataframe tbody tr th {\n",
       "        vertical-align: top;\n",
       "    }\n",
       "\n",
       "    .dataframe thead th {\n",
       "        text-align: right;\n",
       "    }\n",
       "</style>\n",
       "<table border=\"1\" class=\"dataframe\">\n",
       "  <thead>\n",
       "    <tr style=\"text-align: right;\">\n",
       "      <th></th>\n",
       "      <th>visitorid</th>\n",
       "      <th>transactionid</th>\n",
       "    </tr>\n",
       "  </thead>\n",
       "  <tbody>\n",
       "    <tr>\n",
       "      <th>0</th>\n",
       "      <td>1150086</td>\n",
       "      <td>502</td>\n",
       "    </tr>\n",
       "    <tr>\n",
       "      <th>1</th>\n",
       "      <td>152963</td>\n",
       "      <td>278</td>\n",
       "    </tr>\n",
       "    <tr>\n",
       "      <th>2</th>\n",
       "      <td>530559</td>\n",
       "      <td>221</td>\n",
       "    </tr>\n",
       "    <tr>\n",
       "      <th>3</th>\n",
       "      <td>684514</td>\n",
       "      <td>162</td>\n",
       "    </tr>\n",
       "    <tr>\n",
       "      <th>4</th>\n",
       "      <td>76757</td>\n",
       "      <td>155</td>\n",
       "    </tr>\n",
       "    <tr>\n",
       "      <th>5</th>\n",
       "      <td>861299</td>\n",
       "      <td>148</td>\n",
       "    </tr>\n",
       "    <tr>\n",
       "      <th>6</th>\n",
       "      <td>138131</td>\n",
       "      <td>137</td>\n",
       "    </tr>\n",
       "    <tr>\n",
       "      <th>7</th>\n",
       "      <td>247235</td>\n",
       "      <td>124</td>\n",
       "    </tr>\n",
       "    <tr>\n",
       "      <th>8</th>\n",
       "      <td>1297062</td>\n",
       "      <td>111</td>\n",
       "    </tr>\n",
       "    <tr>\n",
       "      <th>9</th>\n",
       "      <td>890980</td>\n",
       "      <td>104</td>\n",
       "    </tr>\n",
       "    <tr>\n",
       "      <th>10</th>\n",
       "      <td>1161163</td>\n",
       "      <td>93</td>\n",
       "    </tr>\n",
       "    <tr>\n",
       "      <th>11</th>\n",
       "      <td>350566</td>\n",
       "      <td>92</td>\n",
       "    </tr>\n",
       "    <tr>\n",
       "      <th>12</th>\n",
       "      <td>198270</td>\n",
       "      <td>88</td>\n",
       "    </tr>\n",
       "    <tr>\n",
       "      <th>13</th>\n",
       "      <td>645525</td>\n",
       "      <td>85</td>\n",
       "    </tr>\n",
       "    <tr>\n",
       "      <th>14</th>\n",
       "      <td>757355</td>\n",
       "      <td>82</td>\n",
       "    </tr>\n",
       "    <tr>\n",
       "      <th>15</th>\n",
       "      <td>163561</td>\n",
       "      <td>81</td>\n",
       "    </tr>\n",
       "    <tr>\n",
       "      <th>16</th>\n",
       "      <td>836635</td>\n",
       "      <td>79</td>\n",
       "    </tr>\n",
       "    <tr>\n",
       "      <th>17</th>\n",
       "      <td>371606</td>\n",
       "      <td>79</td>\n",
       "    </tr>\n",
       "    <tr>\n",
       "      <th>18</th>\n",
       "      <td>705542</td>\n",
       "      <td>79</td>\n",
       "    </tr>\n",
       "    <tr>\n",
       "      <th>19</th>\n",
       "      <td>994820</td>\n",
       "      <td>70</td>\n",
       "    </tr>\n",
       "    <tr>\n",
       "      <th>20</th>\n",
       "      <td>286616</td>\n",
       "      <td>62</td>\n",
       "    </tr>\n",
       "    <tr>\n",
       "      <th>21</th>\n",
       "      <td>1385073</td>\n",
       "      <td>61</td>\n",
       "    </tr>\n",
       "    <tr>\n",
       "      <th>22</th>\n",
       "      <td>1293358</td>\n",
       "      <td>56</td>\n",
       "    </tr>\n",
       "    <tr>\n",
       "      <th>23</th>\n",
       "      <td>809822</td>\n",
       "      <td>56</td>\n",
       "    </tr>\n",
       "    <tr>\n",
       "      <th>24</th>\n",
       "      <td>53842</td>\n",
       "      <td>56</td>\n",
       "    </tr>\n",
       "    <tr>\n",
       "      <th>25</th>\n",
       "      <td>227091</td>\n",
       "      <td>53</td>\n",
       "    </tr>\n",
       "    <tr>\n",
       "      <th>26</th>\n",
       "      <td>899857</td>\n",
       "      <td>51</td>\n",
       "    </tr>\n",
       "    <tr>\n",
       "      <th>27</th>\n",
       "      <td>1093035</td>\n",
       "      <td>47</td>\n",
       "    </tr>\n",
       "    <tr>\n",
       "      <th>28</th>\n",
       "      <td>1143383</td>\n",
       "      <td>47</td>\n",
       "    </tr>\n",
       "    <tr>\n",
       "      <th>29</th>\n",
       "      <td>548772</td>\n",
       "      <td>45</td>\n",
       "    </tr>\n",
       "  </tbody>\n",
       "</table>\n",
       "</div>"
      ],
      "text/plain": [
       "    visitorid  transactionid\n",
       "0     1150086            502\n",
       "1      152963            278\n",
       "2      530559            221\n",
       "3      684514            162\n",
       "4       76757            155\n",
       "5      861299            148\n",
       "6      138131            137\n",
       "7      247235            124\n",
       "8     1297062            111\n",
       "9      890980            104\n",
       "10    1161163             93\n",
       "11     350566             92\n",
       "12     198270             88\n",
       "13     645525             85\n",
       "14     757355             82\n",
       "15     163561             81\n",
       "16     836635             79\n",
       "17     371606             79\n",
       "18     705542             79\n",
       "19     994820             70\n",
       "20     286616             62\n",
       "21    1385073             61\n",
       "22    1293358             56\n",
       "23     809822             56\n",
       "24      53842             56\n",
       "25     227091             53\n",
       "26     899857             51\n",
       "27    1093035             47\n",
       "28    1143383             47\n",
       "29     548772             45"
      ]
     },
     "execution_count": 31,
     "metadata": {},
     "output_type": "execute_result"
    }
   ],
   "source": [
    "events \\\n",
    "    .groupby(\"visitorid\") \\\n",
    "    .agg({\"transactionid\": \"nunique\"}) \\\n",
    "    .sort_values(by=\"transactionid\", ascending=False) \\\n",
    "    .reset_index() \\\n",
    "    .head(30)"
   ]
  },
  {
   "cell_type": "markdown",
   "metadata": {},
   "source": [
    "И так же на наиболее покупаемые товары:"
   ]
  },
  {
   "cell_type": "code",
   "execution_count": 32,
   "metadata": {},
   "outputs": [
    {
     "data": {
      "text/html": [
       "<div>\n",
       "<style scoped>\n",
       "    .dataframe tbody tr th:only-of-type {\n",
       "        vertical-align: middle;\n",
       "    }\n",
       "\n",
       "    .dataframe tbody tr th {\n",
       "        vertical-align: top;\n",
       "    }\n",
       "\n",
       "    .dataframe thead th {\n",
       "        text-align: right;\n",
       "    }\n",
       "</style>\n",
       "<table border=\"1\" class=\"dataframe\">\n",
       "  <thead>\n",
       "    <tr style=\"text-align: right;\">\n",
       "      <th></th>\n",
       "      <th>itemid</th>\n",
       "      <th>transactionid</th>\n",
       "    </tr>\n",
       "  </thead>\n",
       "  <tbody>\n",
       "    <tr>\n",
       "      <th>0</th>\n",
       "      <td>461686</td>\n",
       "      <td>133</td>\n",
       "    </tr>\n",
       "    <tr>\n",
       "      <th>1</th>\n",
       "      <td>119736</td>\n",
       "      <td>96</td>\n",
       "    </tr>\n",
       "    <tr>\n",
       "      <th>2</th>\n",
       "      <td>213834</td>\n",
       "      <td>92</td>\n",
       "    </tr>\n",
       "    <tr>\n",
       "      <th>3</th>\n",
       "      <td>312728</td>\n",
       "      <td>46</td>\n",
       "    </tr>\n",
       "    <tr>\n",
       "      <th>4</th>\n",
       "      <td>7943</td>\n",
       "      <td>46</td>\n",
       "    </tr>\n",
       "    <tr>\n",
       "      <th>5</th>\n",
       "      <td>445351</td>\n",
       "      <td>45</td>\n",
       "    </tr>\n",
       "    <tr>\n",
       "      <th>6</th>\n",
       "      <td>48030</td>\n",
       "      <td>41</td>\n",
       "    </tr>\n",
       "    <tr>\n",
       "      <th>7</th>\n",
       "      <td>248455</td>\n",
       "      <td>38</td>\n",
       "    </tr>\n",
       "    <tr>\n",
       "      <th>8</th>\n",
       "      <td>420960</td>\n",
       "      <td>38</td>\n",
       "    </tr>\n",
       "    <tr>\n",
       "      <th>9</th>\n",
       "      <td>17478</td>\n",
       "      <td>37</td>\n",
       "    </tr>\n",
       "    <tr>\n",
       "      <th>10</th>\n",
       "      <td>409804</td>\n",
       "      <td>35</td>\n",
       "    </tr>\n",
       "    <tr>\n",
       "      <th>11</th>\n",
       "      <td>320130</td>\n",
       "      <td>33</td>\n",
       "    </tr>\n",
       "    <tr>\n",
       "      <th>12</th>\n",
       "      <td>416017</td>\n",
       "      <td>32</td>\n",
       "    </tr>\n",
       "    <tr>\n",
       "      <th>13</th>\n",
       "      <td>369447</td>\n",
       "      <td>31</td>\n",
       "    </tr>\n",
       "    <tr>\n",
       "      <th>14</th>\n",
       "      <td>46156</td>\n",
       "      <td>31</td>\n",
       "    </tr>\n",
       "    <tr>\n",
       "      <th>15</th>\n",
       "      <td>268883</td>\n",
       "      <td>29</td>\n",
       "    </tr>\n",
       "    <tr>\n",
       "      <th>16</th>\n",
       "      <td>334401</td>\n",
       "      <td>28</td>\n",
       "    </tr>\n",
       "    <tr>\n",
       "      <th>17</th>\n",
       "      <td>257040</td>\n",
       "      <td>27</td>\n",
       "    </tr>\n",
       "    <tr>\n",
       "      <th>18</th>\n",
       "      <td>441852</td>\n",
       "      <td>27</td>\n",
       "    </tr>\n",
       "    <tr>\n",
       "      <th>19</th>\n",
       "      <td>37029</td>\n",
       "      <td>25</td>\n",
       "    </tr>\n",
       "    <tr>\n",
       "      <th>20</th>\n",
       "      <td>9877</td>\n",
       "      <td>25</td>\n",
       "    </tr>\n",
       "    <tr>\n",
       "      <th>21</th>\n",
       "      <td>546</td>\n",
       "      <td>23</td>\n",
       "    </tr>\n",
       "    <tr>\n",
       "      <th>22</th>\n",
       "      <td>450082</td>\n",
       "      <td>22</td>\n",
       "    </tr>\n",
       "    <tr>\n",
       "      <th>23</th>\n",
       "      <td>318333</td>\n",
       "      <td>22</td>\n",
       "    </tr>\n",
       "    <tr>\n",
       "      <th>24</th>\n",
       "      <td>190000</td>\n",
       "      <td>20</td>\n",
       "    </tr>\n",
       "    <tr>\n",
       "      <th>25</th>\n",
       "      <td>222888</td>\n",
       "      <td>20</td>\n",
       "    </tr>\n",
       "    <tr>\n",
       "      <th>26</th>\n",
       "      <td>138427</td>\n",
       "      <td>20</td>\n",
       "    </tr>\n",
       "    <tr>\n",
       "      <th>27</th>\n",
       "      <td>46232</td>\n",
       "      <td>19</td>\n",
       "    </tr>\n",
       "    <tr>\n",
       "      <th>28</th>\n",
       "      <td>369158</td>\n",
       "      <td>19</td>\n",
       "    </tr>\n",
       "    <tr>\n",
       "      <th>29</th>\n",
       "      <td>29196</td>\n",
       "      <td>19</td>\n",
       "    </tr>\n",
       "  </tbody>\n",
       "</table>\n",
       "</div>"
      ],
      "text/plain": [
       "    itemid  transactionid\n",
       "0   461686            133\n",
       "1   119736             96\n",
       "2   213834             92\n",
       "3   312728             46\n",
       "4     7943             46\n",
       "5   445351             45\n",
       "6    48030             41\n",
       "7   248455             38\n",
       "8   420960             38\n",
       "9    17478             37\n",
       "10  409804             35\n",
       "11  320130             33\n",
       "12  416017             32\n",
       "13  369447             31\n",
       "14   46156             31\n",
       "15  268883             29\n",
       "16  334401             28\n",
       "17  257040             27\n",
       "18  441852             27\n",
       "19   37029             25\n",
       "20    9877             25\n",
       "21     546             23\n",
       "22  450082             22\n",
       "23  318333             22\n",
       "24  190000             20\n",
       "25  222888             20\n",
       "26  138427             20\n",
       "27   46232             19\n",
       "28  369158             19\n",
       "29   29196             19"
      ]
     },
     "execution_count": 32,
     "metadata": {},
     "output_type": "execute_result"
    }
   ],
   "source": [
    "events \\\n",
    "    .groupby(\"itemid\") \\\n",
    "    .agg({\"transactionid\": \"nunique\"}) \\\n",
    "    .sort_values(by=\"transactionid\", ascending=False) \\\n",
    "    .reset_index() \\\n",
    "    .head(30)"
   ]
  },
  {
   "cell_type": "markdown",
   "metadata": {},
   "source": [
    "### Item properties"
   ]
  },
  {
   "cell_type": "markdown",
   "metadata": {},
   "source": [
    "У нас остался последний датасет, который поделен на две части - характеристики товаров. Рассмотрим каждый датафрейм:"
   ]
  },
  {
   "cell_type": "code",
   "execution_count": 33,
   "metadata": {},
   "outputs": [
    {
     "name": "stdout",
     "output_type": "stream",
     "text": [
      "<class 'pandas.core.frame.DataFrame'>\n",
      "RangeIndex: 10999999 entries, 0 to 10999998\n",
      "Data columns (total 4 columns):\n",
      " #   Column     Dtype \n",
      "---  ------     ----- \n",
      " 0   timestamp  int64 \n",
      " 1   itemid     int64 \n",
      " 2   property   object\n",
      " 3   value      object\n",
      "dtypes: int64(2), object(2)\n",
      "memory usage: 1.5 GB\n"
     ]
    }
   ],
   "source": [
    "item_props_1.info(memory_usage=\"deep\")"
   ]
  },
  {
   "cell_type": "code",
   "execution_count": 34,
   "metadata": {},
   "outputs": [
    {
     "name": "stdout",
     "output_type": "stream",
     "text": [
      "<class 'pandas.core.frame.DataFrame'>\n",
      "RangeIndex: 9275903 entries, 0 to 9275902\n",
      "Data columns (total 4 columns):\n",
      " #   Column     Dtype \n",
      "---  ------     ----- \n",
      " 0   timestamp  int64 \n",
      " 1   itemid     int64 \n",
      " 2   property   object\n",
      " 3   value      object\n",
      "dtypes: int64(2), object(2)\n",
      "memory usage: 1.3 GB\n"
     ]
    }
   ],
   "source": [
    "item_props_2.info(memory_usage=\"deep\")"
   ]
  },
  {
   "cell_type": "markdown",
   "metadata": {},
   "source": [
    "Итак, имеется обширная информация о характеристиках товаров, где для каждого товара `itemid` имеется некая обезличенная фича `property` с соответствующими значениями `value`. \n",
    "\n",
    "Посмотрим на выборку из датафреймов:"
   ]
  },
  {
   "cell_type": "code",
   "execution_count": 35,
   "metadata": {},
   "outputs": [
    {
     "data": {
      "text/html": [
       "<div>\n",
       "<style scoped>\n",
       "    .dataframe tbody tr th:only-of-type {\n",
       "        vertical-align: middle;\n",
       "    }\n",
       "\n",
       "    .dataframe tbody tr th {\n",
       "        vertical-align: top;\n",
       "    }\n",
       "\n",
       "    .dataframe thead th {\n",
       "        text-align: right;\n",
       "    }\n",
       "</style>\n",
       "<table border=\"1\" class=\"dataframe\">\n",
       "  <thead>\n",
       "    <tr style=\"text-align: right;\">\n",
       "      <th></th>\n",
       "      <th>timestamp</th>\n",
       "      <th>itemid</th>\n",
       "      <th>property</th>\n",
       "      <th>value</th>\n",
       "    </tr>\n",
       "  </thead>\n",
       "  <tbody>\n",
       "    <tr>\n",
       "      <th>10587428</th>\n",
       "      <td>1435460400000</td>\n",
       "      <td>50452</td>\n",
       "      <td>678</td>\n",
       "      <td>1250065</td>\n",
       "    </tr>\n",
       "    <tr>\n",
       "      <th>2539292</th>\n",
       "      <td>1431226800000</td>\n",
       "      <td>145954</td>\n",
       "      <td>283</td>\n",
       "      <td>733376 963847 567627</td>\n",
       "    </tr>\n",
       "    <tr>\n",
       "      <th>5433365</th>\n",
       "      <td>1436670000000</td>\n",
       "      <td>59094</td>\n",
       "      <td>678</td>\n",
       "      <td>1034258</td>\n",
       "    </tr>\n",
       "    <tr>\n",
       "      <th>835224</th>\n",
       "      <td>1431226800000</td>\n",
       "      <td>335391</td>\n",
       "      <td>790</td>\n",
       "      <td>n125040.000</td>\n",
       "    </tr>\n",
       "    <tr>\n",
       "      <th>471710</th>\n",
       "      <td>1431831600000</td>\n",
       "      <td>391178</td>\n",
       "      <td>790</td>\n",
       "      <td>n14052.000</td>\n",
       "    </tr>\n",
       "    <tr>\n",
       "      <th>3060814</th>\n",
       "      <td>1431226800000</td>\n",
       "      <td>356309</td>\n",
       "      <td>917</td>\n",
       "      <td>656423</td>\n",
       "    </tr>\n",
       "    <tr>\n",
       "      <th>582451</th>\n",
       "      <td>1436670000000</td>\n",
       "      <td>169841</td>\n",
       "      <td>776</td>\n",
       "      <td>1047247</td>\n",
       "    </tr>\n",
       "    <tr>\n",
       "      <th>2351208</th>\n",
       "      <td>1432436400000</td>\n",
       "      <td>224902</td>\n",
       "      <td>227</td>\n",
       "      <td>316731 31884</td>\n",
       "    </tr>\n",
       "    <tr>\n",
       "      <th>1320274</th>\n",
       "      <td>1433646000000</td>\n",
       "      <td>442781</td>\n",
       "      <td>451</td>\n",
       "      <td>1141052 n24.000</td>\n",
       "    </tr>\n",
       "    <tr>\n",
       "      <th>4041475</th>\n",
       "      <td>1432436400000</td>\n",
       "      <td>401323</td>\n",
       "      <td>833</td>\n",
       "      <td>1293282</td>\n",
       "    </tr>\n",
       "  </tbody>\n",
       "</table>\n",
       "</div>"
      ],
      "text/plain": [
       "              timestamp  itemid property                 value\n",
       "10587428  1435460400000   50452      678               1250065\n",
       "2539292   1431226800000  145954      283  733376 963847 567627\n",
       "5433365   1436670000000   59094      678               1034258\n",
       "835224    1431226800000  335391      790           n125040.000\n",
       "471710    1431831600000  391178      790            n14052.000\n",
       "3060814   1431226800000  356309      917                656423\n",
       "582451    1436670000000  169841      776               1047247\n",
       "2351208   1432436400000  224902      227          316731 31884\n",
       "1320274   1433646000000  442781      451       1141052 n24.000\n",
       "4041475   1432436400000  401323      833               1293282"
      ]
     },
     "execution_count": 35,
     "metadata": {},
     "output_type": "execute_result"
    }
   ],
   "source": [
    "item_props_1.sample(10, random_state=RANDOM_STATE)"
   ]
  },
  {
   "cell_type": "code",
   "execution_count": 36,
   "metadata": {},
   "outputs": [
    {
     "data": {
      "text/plain": [
       "417053"
      ]
     },
     "execution_count": 36,
     "metadata": {},
     "output_type": "execute_result"
    }
   ],
   "source": [
    "item_props_1.itemid.nunique()"
   ]
  },
  {
   "cell_type": "code",
   "execution_count": 37,
   "metadata": {},
   "outputs": [
    {
     "data": {
      "text/plain": [
       "property\n",
       "888           1629817\n",
       "790            970800\n",
       "available      817387\n",
       "categoryid     426305\n",
       "6              343207\n",
       "               ...   \n",
       "471                 1\n",
       "244                 1\n",
       "424                 1\n",
       "494                 1\n",
       "712                 1\n",
       "Name: count, Length: 1097, dtype: int64"
      ]
     },
     "execution_count": 37,
     "metadata": {},
     "output_type": "execute_result"
    }
   ],
   "source": [
    "item_props_1.property.value_counts()"
   ]
  },
  {
   "cell_type": "code",
   "execution_count": 38,
   "metadata": {},
   "outputs": [
    {
     "data": {
      "text/html": [
       "<div>\n",
       "<style scoped>\n",
       "    .dataframe tbody tr th:only-of-type {\n",
       "        vertical-align: middle;\n",
       "    }\n",
       "\n",
       "    .dataframe tbody tr th {\n",
       "        vertical-align: top;\n",
       "    }\n",
       "\n",
       "    .dataframe thead th {\n",
       "        text-align: right;\n",
       "    }\n",
       "</style>\n",
       "<table border=\"1\" class=\"dataframe\">\n",
       "  <thead>\n",
       "    <tr style=\"text-align: right;\">\n",
       "      <th></th>\n",
       "      <th>timestamp</th>\n",
       "      <th>itemid</th>\n",
       "      <th>property</th>\n",
       "      <th>value</th>\n",
       "    </tr>\n",
       "  </thead>\n",
       "  <tbody>\n",
       "    <tr>\n",
       "      <th>8807910</th>\n",
       "      <td>1437274800000</td>\n",
       "      <td>322608</td>\n",
       "      <td>364</td>\n",
       "      <td>199190</td>\n",
       "    </tr>\n",
       "    <tr>\n",
       "      <th>4906424</th>\n",
       "      <td>1431226800000</td>\n",
       "      <td>268004</td>\n",
       "      <td>917</td>\n",
       "      <td>1166326 n18048.000 824508</td>\n",
       "    </tr>\n",
       "    <tr>\n",
       "      <th>6782763</th>\n",
       "      <td>1435460400000</td>\n",
       "      <td>77565</td>\n",
       "      <td>678</td>\n",
       "      <td>367680</td>\n",
       "    </tr>\n",
       "    <tr>\n",
       "      <th>2008747</th>\n",
       "      <td>1433041200000</td>\n",
       "      <td>98703</td>\n",
       "      <td>227</td>\n",
       "      <td>1149640</td>\n",
       "    </tr>\n",
       "    <tr>\n",
       "      <th>2377781</th>\n",
       "      <td>1433041200000</td>\n",
       "      <td>75107</td>\n",
       "      <td>678</td>\n",
       "      <td>1034258</td>\n",
       "    </tr>\n",
       "    <tr>\n",
       "      <th>3070033</th>\n",
       "      <td>1439694000000</td>\n",
       "      <td>208669</td>\n",
       "      <td>888</td>\n",
       "      <td>1155033 139596</td>\n",
       "    </tr>\n",
       "    <tr>\n",
       "      <th>8511294</th>\n",
       "      <td>1431226800000</td>\n",
       "      <td>424759</td>\n",
       "      <td>764</td>\n",
       "      <td>1285872</td>\n",
       "    </tr>\n",
       "    <tr>\n",
       "      <th>4944141</th>\n",
       "      <td>1431226800000</td>\n",
       "      <td>24816</td>\n",
       "      <td>categoryid</td>\n",
       "      <td>1244</td>\n",
       "    </tr>\n",
       "    <tr>\n",
       "      <th>4974578</th>\n",
       "      <td>1431226800000</td>\n",
       "      <td>27131</td>\n",
       "      <td>112</td>\n",
       "      <td>679677</td>\n",
       "    </tr>\n",
       "    <tr>\n",
       "      <th>7452226</th>\n",
       "      <td>1435460400000</td>\n",
       "      <td>415783</td>\n",
       "      <td>227</td>\n",
       "      <td>253511</td>\n",
       "    </tr>\n",
       "  </tbody>\n",
       "</table>\n",
       "</div>"
      ],
      "text/plain": [
       "             timestamp  itemid    property                      value\n",
       "8807910  1437274800000  322608         364                     199190\n",
       "4906424  1431226800000  268004         917  1166326 n18048.000 824508\n",
       "6782763  1435460400000   77565         678                     367680\n",
       "2008747  1433041200000   98703         227                    1149640\n",
       "2377781  1433041200000   75107         678                    1034258\n",
       "3070033  1439694000000  208669         888             1155033 139596\n",
       "8511294  1431226800000  424759         764                    1285872\n",
       "4944141  1431226800000   24816  categoryid                       1244\n",
       "4974578  1431226800000   27131         112                     679677\n",
       "7452226  1435460400000  415783         227                     253511"
      ]
     },
     "execution_count": 38,
     "metadata": {},
     "output_type": "execute_result"
    }
   ],
   "source": [
    "item_props_2.sample(10, random_state=RANDOM_STATE)"
   ]
  },
  {
   "cell_type": "code",
   "execution_count": 39,
   "metadata": {},
   "outputs": [
    {
     "data": {
      "text/plain": [
       "417053"
      ]
     },
     "execution_count": 39,
     "metadata": {},
     "output_type": "execute_result"
    }
   ],
   "source": [
    "item_props_2.itemid.nunique()"
   ]
  },
  {
   "cell_type": "code",
   "execution_count": 40,
   "metadata": {},
   "outputs": [
    {
     "data": {
      "text/plain": [
       "property\n",
       "888           1370581\n",
       "790            819716\n",
       "available      686252\n",
       "categoryid     361909\n",
       "6              288264\n",
       "               ...   \n",
       "634                 1\n",
       "57                  1\n",
       "1091                1\n",
       "522                 1\n",
       "769                 1\n",
       "Name: count, Length: 1094, dtype: int64"
      ]
     },
     "execution_count": 40,
     "metadata": {},
     "output_type": "execute_result"
    }
   ],
   "source": [
    "item_props_2.property.value_counts()"
   ]
  },
  {
   "cell_type": "markdown",
   "metadata": {},
   "source": [
    "Из результатов выше мы можем установить, что в данных датафреймах содержится не только информация о обезличенных фичах, но и о категориях, к которым принадлежит товар, а также о его доступности. \n",
    "\n",
    "Сначала отделим информацию о категориях от остальной информации:"
   ]
  },
  {
   "cell_type": "code",
   "execution_count": 41,
   "metadata": {},
   "outputs": [
    {
     "name": "stdout",
     "output_type": "stream",
     "text": [
      "(426305, 4)\n",
      "(361909, 4)\n"
     ]
    }
   ],
   "source": [
    "category_props_1 = item_props_1.query(\"property == 'categoryid'\")\n",
    "print(category_props_1.shape)\n",
    "category_props_2 = item_props_2.query(\"property == 'categoryid'\")\n",
    "print(category_props_2.shape)"
   ]
  },
  {
   "cell_type": "markdown",
   "metadata": {},
   "source": [
    "Соединим информацию вместе:"
   ]
  },
  {
   "cell_type": "code",
   "execution_count": 42,
   "metadata": {},
   "outputs": [
    {
     "data": {
      "text/plain": [
       "(788214, 4)"
      ]
     },
     "execution_count": 42,
     "metadata": {},
     "output_type": "execute_result"
    }
   ],
   "source": [
    "category_props = pd.concat([category_props_1, category_props_2])\n",
    "category_props.shape"
   ]
  },
  {
   "cell_type": "markdown",
   "metadata": {},
   "source": [
    "В результате объединения мы могли получить ряд дубликатов, которые в зависимости от времени могут принимать разные значения фичей. Чтобы иметь возможность уникально определять объекты, выберем только последний дубликат их всех дубликатов для данного товара (отсортировав таблицу по товару и временной метке в порядке возрастания, мы выберем последний по времени объект). Далее, мы примержим датафрейм `category_tree`, что нам позволит хранить информацию о товарах и их категориях в одном месте:"
   ]
  },
  {
   "cell_type": "code",
   "execution_count": 43,
   "metadata": {},
   "outputs": [
    {
     "data": {
      "text/html": [
       "<div>\n",
       "<style scoped>\n",
       "    .dataframe tbody tr th:only-of-type {\n",
       "        vertical-align: middle;\n",
       "    }\n",
       "\n",
       "    .dataframe tbody tr th {\n",
       "        vertical-align: top;\n",
       "    }\n",
       "\n",
       "    .dataframe thead th {\n",
       "        text-align: right;\n",
       "    }\n",
       "</style>\n",
       "<table border=\"1\" class=\"dataframe\">\n",
       "  <thead>\n",
       "    <tr style=\"text-align: right;\">\n",
       "      <th></th>\n",
       "      <th>itemid</th>\n",
       "      <th>categoryid</th>\n",
       "      <th>parentid</th>\n",
       "    </tr>\n",
       "  </thead>\n",
       "  <tbody>\n",
       "    <tr>\n",
       "      <th>0</th>\n",
       "      <td>0</td>\n",
       "      <td>209</td>\n",
       "      <td>293.0</td>\n",
       "    </tr>\n",
       "    <tr>\n",
       "      <th>1</th>\n",
       "      <td>91</td>\n",
       "      <td>209</td>\n",
       "      <td>293.0</td>\n",
       "    </tr>\n",
       "    <tr>\n",
       "      <th>2</th>\n",
       "      <td>176</td>\n",
       "      <td>209</td>\n",
       "      <td>293.0</td>\n",
       "    </tr>\n",
       "    <tr>\n",
       "      <th>3</th>\n",
       "      <td>245</td>\n",
       "      <td>209</td>\n",
       "      <td>293.0</td>\n",
       "    </tr>\n",
       "    <tr>\n",
       "      <th>4</th>\n",
       "      <td>349</td>\n",
       "      <td>209</td>\n",
       "      <td>293.0</td>\n",
       "    </tr>\n",
       "  </tbody>\n",
       "</table>\n",
       "</div>"
      ],
      "text/plain": [
       "   itemid  categoryid  parentid\n",
       "0       0         209     293.0\n",
       "1      91         209     293.0\n",
       "2     176         209     293.0\n",
       "3     245         209     293.0\n",
       "4     349         209     293.0"
      ]
     },
     "execution_count": 43,
     "metadata": {},
     "output_type": "execute_result"
    }
   ],
   "source": [
    "# Converting type of `value` column\n",
    "category_props[\"value\"] = category_props[\"value\"].astype(\"int64\")\n",
    "\n",
    "# Removing duplicates and merging categories to items\n",
    "category_props = category_props \\\n",
    "            .sort_values(by=[\"itemid\", \"timestamp\"]) \\\n",
    "            .drop_duplicates(subset=[\"itemid\"], keep=\"last\") \\\n",
    "            .merge(category_tree, left_on=\"value\", right_on=\"categoryid\") \\\n",
    "            .drop([\"timestamp\", \"property\", \"value\"], axis=1)\n",
    "category_props.head()"
   ]
  },
  {
   "cell_type": "code",
   "execution_count": 44,
   "metadata": {},
   "outputs": [
    {
     "data": {
      "text/plain": [
       "itemid         0\n",
       "categoryid     0\n",
       "parentid      25\n",
       "dtype: int64"
      ]
     },
     "execution_count": 44,
     "metadata": {},
     "output_type": "execute_result"
    }
   ],
   "source": [
    "category_props.isna().sum()"
   ]
  },
  {
   "cell_type": "markdown",
   "metadata": {},
   "source": [
    "Как и раньше у нас остались 25 родительских категорий с пропусками, где нет более высокой категории. Мы может повторить почти такие же действия, чтобы сохранить всю информацию о доступности товара. Естетственно, что доступность товара постоянно меняется, однако в данном случае нам нужно зафиксировать данный фактор в последней доступной точке."
   ]
  },
  {
   "cell_type": "code",
   "execution_count": 45,
   "metadata": {},
   "outputs": [
    {
     "name": "stdout",
     "output_type": "stream",
     "text": [
      "(817387, 4)\n",
      "(686252, 4)\n"
     ]
    }
   ],
   "source": [
    "availability_props_1 = item_props_1.query(\"property == 'available'\")\n",
    "print(availability_props_1.shape)\n",
    "availability_props_2 = item_props_2.query(\"property == 'available'\")\n",
    "print(availability_props_2.shape)"
   ]
  },
  {
   "cell_type": "code",
   "execution_count": 46,
   "metadata": {},
   "outputs": [
    {
     "data": {
      "text/plain": [
       "(1503639, 4)"
      ]
     },
     "execution_count": 46,
     "metadata": {},
     "output_type": "execute_result"
    }
   ],
   "source": [
    "availability_props = pd.concat([availability_props_1, availability_props_2])\n",
    "availability_props.shape"
   ]
  },
  {
   "cell_type": "code",
   "execution_count": 47,
   "metadata": {},
   "outputs": [
    {
     "data": {
      "text/html": [
       "<div>\n",
       "<style scoped>\n",
       "    .dataframe tbody tr th:only-of-type {\n",
       "        vertical-align: middle;\n",
       "    }\n",
       "\n",
       "    .dataframe tbody tr th {\n",
       "        vertical-align: top;\n",
       "    }\n",
       "\n",
       "    .dataframe thead th {\n",
       "        text-align: right;\n",
       "    }\n",
       "</style>\n",
       "<table border=\"1\" class=\"dataframe\">\n",
       "  <thead>\n",
       "    <tr style=\"text-align: right;\">\n",
       "      <th></th>\n",
       "      <th>itemid</th>\n",
       "      <th>value</th>\n",
       "    </tr>\n",
       "  </thead>\n",
       "  <tbody>\n",
       "    <tr>\n",
       "      <th>9066791</th>\n",
       "      <td>0</td>\n",
       "      <td>0</td>\n",
       "    </tr>\n",
       "    <tr>\n",
       "      <th>7699440</th>\n",
       "      <td>1</td>\n",
       "      <td>0</td>\n",
       "    </tr>\n",
       "    <tr>\n",
       "      <th>2122310</th>\n",
       "      <td>2</td>\n",
       "      <td>0</td>\n",
       "    </tr>\n",
       "    <tr>\n",
       "      <th>795922</th>\n",
       "      <td>3</td>\n",
       "      <td>0</td>\n",
       "    </tr>\n",
       "    <tr>\n",
       "      <th>725402</th>\n",
       "      <td>4</td>\n",
       "      <td>0</td>\n",
       "    </tr>\n",
       "  </tbody>\n",
       "</table>\n",
       "</div>"
      ],
      "text/plain": [
       "         itemid  value\n",
       "9066791       0      0\n",
       "7699440       1      0\n",
       "2122310       2      0\n",
       "795922        3      0\n",
       "725402        4      0"
      ]
     },
     "execution_count": 47,
     "metadata": {},
     "output_type": "execute_result"
    }
   ],
   "source": [
    "availability_props[\"value\"] = availability_props[\"value\"].astype(\"int64\")\n",
    "availability_props = availability_props \\\n",
    "            .sort_values(by=[\"itemid\", \"timestamp\"]) \\\n",
    "            .drop_duplicates(subset=[\"itemid\"], keep=\"last\") \\\n",
    "            .drop([\"timestamp\", \"property\"], axis=1)\n",
    "availability_props.head()"
   ]
  },
  {
   "cell_type": "markdown",
   "metadata": {},
   "source": [
    "На последнем этапе переименуем названия колонок, чтобы более удобно было с ними работать:"
   ]
  },
  {
   "cell_type": "code",
   "execution_count": 48,
   "metadata": {},
   "outputs": [
    {
     "data": {
      "text/html": [
       "<div>\n",
       "<style scoped>\n",
       "    .dataframe tbody tr th:only-of-type {\n",
       "        vertical-align: middle;\n",
       "    }\n",
       "\n",
       "    .dataframe tbody tr th {\n",
       "        vertical-align: top;\n",
       "    }\n",
       "\n",
       "    .dataframe thead th {\n",
       "        text-align: right;\n",
       "    }\n",
       "</style>\n",
       "<table border=\"1\" class=\"dataframe\">\n",
       "  <thead>\n",
       "    <tr style=\"text-align: right;\">\n",
       "      <th></th>\n",
       "      <th>item_id</th>\n",
       "      <th>category_id</th>\n",
       "      <th>parent_id</th>\n",
       "    </tr>\n",
       "  </thead>\n",
       "  <tbody>\n",
       "    <tr>\n",
       "      <th>0</th>\n",
       "      <td>0</td>\n",
       "      <td>209</td>\n",
       "      <td>293.0</td>\n",
       "    </tr>\n",
       "    <tr>\n",
       "      <th>1</th>\n",
       "      <td>91</td>\n",
       "      <td>209</td>\n",
       "      <td>293.0</td>\n",
       "    </tr>\n",
       "    <tr>\n",
       "      <th>2</th>\n",
       "      <td>176</td>\n",
       "      <td>209</td>\n",
       "      <td>293.0</td>\n",
       "    </tr>\n",
       "    <tr>\n",
       "      <th>3</th>\n",
       "      <td>245</td>\n",
       "      <td>209</td>\n",
       "      <td>293.0</td>\n",
       "    </tr>\n",
       "    <tr>\n",
       "      <th>4</th>\n",
       "      <td>349</td>\n",
       "      <td>209</td>\n",
       "      <td>293.0</td>\n",
       "    </tr>\n",
       "  </tbody>\n",
       "</table>\n",
       "</div>"
      ],
      "text/plain": [
       "   item_id  category_id  parent_id\n",
       "0        0          209      293.0\n",
       "1       91          209      293.0\n",
       "2      176          209      293.0\n",
       "3      245          209      293.0\n",
       "4      349          209      293.0"
      ]
     },
     "execution_count": 48,
     "metadata": {},
     "output_type": "execute_result"
    }
   ],
   "source": [
    "category_props = category_props.rename(\n",
    "    columns={\n",
    "        \"itemid\": \"item_id\",\n",
    "        \"categoryid\": \"category_id\",\n",
    "        \"parentid\": \"parent_id\",\n",
    "    }\n",
    ")\n",
    "category_props.head()"
   ]
  },
  {
   "cell_type": "code",
   "execution_count": 49,
   "metadata": {},
   "outputs": [
    {
     "data": {
      "text/html": [
       "<div>\n",
       "<style scoped>\n",
       "    .dataframe tbody tr th:only-of-type {\n",
       "        vertical-align: middle;\n",
       "    }\n",
       "\n",
       "    .dataframe tbody tr th {\n",
       "        vertical-align: top;\n",
       "    }\n",
       "\n",
       "    .dataframe thead th {\n",
       "        text-align: right;\n",
       "    }\n",
       "</style>\n",
       "<table border=\"1\" class=\"dataframe\">\n",
       "  <thead>\n",
       "    <tr style=\"text-align: right;\">\n",
       "      <th></th>\n",
       "      <th>item_id</th>\n",
       "      <th>available</th>\n",
       "    </tr>\n",
       "  </thead>\n",
       "  <tbody>\n",
       "    <tr>\n",
       "      <th>9066791</th>\n",
       "      <td>0</td>\n",
       "      <td>0</td>\n",
       "    </tr>\n",
       "    <tr>\n",
       "      <th>7699440</th>\n",
       "      <td>1</td>\n",
       "      <td>0</td>\n",
       "    </tr>\n",
       "    <tr>\n",
       "      <th>2122310</th>\n",
       "      <td>2</td>\n",
       "      <td>0</td>\n",
       "    </tr>\n",
       "    <tr>\n",
       "      <th>795922</th>\n",
       "      <td>3</td>\n",
       "      <td>0</td>\n",
       "    </tr>\n",
       "    <tr>\n",
       "      <th>725402</th>\n",
       "      <td>4</td>\n",
       "      <td>0</td>\n",
       "    </tr>\n",
       "  </tbody>\n",
       "</table>\n",
       "</div>"
      ],
      "text/plain": [
       "         item_id  available\n",
       "9066791        0          0\n",
       "7699440        1          0\n",
       "2122310        2          0\n",
       "795922         3          0\n",
       "725402         4          0"
      ]
     },
     "execution_count": 49,
     "metadata": {},
     "output_type": "execute_result"
    }
   ],
   "source": [
    "availability_props = availability_props.rename(\n",
    "    columns={\n",
    "        \"itemid\": \"item_id\",\n",
    "        \"value\": \"available\",\n",
    "    }\n",
    ")\n",
    "availability_props.head()"
   ]
  },
  {
   "cell_type": "markdown",
   "metadata": {},
   "source": [
    "Заметим из ячеек выше, что:\n",
    "\n",
    "1. В значениях характеристик товаров присутствуют значения типа `n156` или `274.200`, что нужно предобработать в случае их использования как фичей. \n",
    "2. В обоих датафреймах число уникальных товаров одинаково, то есть можем предположить, что разделение на два датасета было вызвано большим объемом данных, то есть каждый датафрейм дополняет другой.\n",
    "3. Глядя на колонку `property` замечаем, что здесь присутствуют не только закодированные фичи, но и совершенно понятные `available` и `categoryid`, которые дают нам понять, какие товары доступны и к каким категориям относятся."
   ]
  },
  {
   "cell_type": "markdown",
   "metadata": {},
   "source": [
    "### Logging artefacts (Mlflow)"
   ]
  },
  {
   "cell_type": "markdown",
   "metadata": {},
   "source": [
    "В качестве артефактов, которые можем залогировать на данном этапе, можем использовать продублированное заключение из исследовательского анализа данных ниже, а также визуализацию пользовательских действий:"
   ]
  },
  {
   "cell_type": "code",
   "execution_count": 50,
   "metadata": {},
   "outputs": [
    {
     "name": "stderr",
     "output_type": "stream",
     "text": [
      "2024/10/04 22:00:10 INFO mlflow.tracking._tracking_service.client: 🏃 View run eda_analysis at: http://127.0.0.1:5000/#/experiments/19/runs/37a11dfba61f4fcb84794926f32bf64d.\n",
      "2024/10/04 22:00:10 INFO mlflow.tracking._tracking_service.client: 🧪 View experiment at: http://127.0.0.1:5000/#/experiments/19.\n"
     ]
    }
   ],
   "source": [
    "RUN_NAME = \"eda_analysis\"\n",
    "with mlflow.start_run(run_name=RUN_NAME, experiment_id=experiment_id) as run:\n",
    "    \n",
    "    run_id = run.info.run_id\n",
    "\n",
    "    mlflow.log_artifact(f\"{ASSETS_DIR}/eda_results.md\", \"eda\")\n",
    "    mlflow.log_artifact(f\"{ASSETS_DIR}/user_actions.png\", \"eda\")"
   ]
  },
  {
   "cell_type": "markdown",
   "metadata": {},
   "source": [
    "### Conclusion"
   ]
  },
  {
   "cell_type": "markdown",
   "metadata": {},
   "source": [
    "После детального рассмотрения данных, может подвести следующий итог по первичному анализу данных:\n",
    "\n",
    "1. Данные, с которыми предстоит работать, включают (*i*) информацию о различных действиях пользователей с товарами, (*ii*) данные о категориях рекомендуемых товаров и группах категорий (родительские категории), а также (*iii*) характеристики товаров.\n",
    "2. Не все категории товаров могут быть частью более обширной группы: было установлено, что некоторые (а именно 25) категории не имеют родительских категорий и поэтому, скорее всего, не имеют более широкого разделения. \n",
    "3. Различные действия пользователей охватывают обычные действия, которые пользователь проводит на сайте: просмотр товара, его добавление в корзину и собственно саму покупку. Причем, как обычно и происходит, наибольшая доля таких действий относятся к просмотру товара. Остальная доля приходится на добавление в корзину и покупки, однако не все действия по добавлению товара в корзину заканчиваются покупкой. \n",
    "4. Характеристики товаров представляют собой два датасета с обширной информацией о различных фичах и их значениях. Была выявлена проблема формата значений характеристик, которая могла возникнуть в процессе скрэппинга данных."
   ]
  },
  {
   "cell_type": "markdown",
   "metadata": {},
   "source": [
    "## Building recommendations"
   ]
  },
  {
   "cell_type": "markdown",
   "metadata": {},
   "source": [
    "Теперь когда мы смогли более полно рассмотреть данные, можем перейти непосредственно к созданию рекомендаций. На данном этапе мы произведем генерацию рекомендаций нескольких видов:\n",
    "\n",
    "1. Оффлайн рекомендации\n",
    "    * Персональные рекомендации\n",
    "    * Топ популярных товаров\n",
    "2. Онлайн рекомендации (схожесть товаров)\n",
    "\n",
    "Заметим, что цель состоит не только в том, чтобы создать систему рекомендаций, но и такую систему, которая бы рекомендовала пользователям товары, которые они бы добавили в корзину (то есть действие `addtocart`). "
   ]
  },
  {
   "cell_type": "markdown",
   "metadata": {},
   "source": [
    "### Preprocessing events"
   ]
  },
  {
   "cell_type": "markdown",
   "metadata": {},
   "source": [
    "Сначала сделаем дополнительную предобработку событий."
   ]
  },
  {
   "cell_type": "code",
   "execution_count": 51,
   "metadata": {},
   "outputs": [
    {
     "data": {
      "text/html": [
       "<div>\n",
       "<style scoped>\n",
       "    .dataframe tbody tr th:only-of-type {\n",
       "        vertical-align: middle;\n",
       "    }\n",
       "\n",
       "    .dataframe tbody tr th {\n",
       "        vertical-align: top;\n",
       "    }\n",
       "\n",
       "    .dataframe thead th {\n",
       "        text-align: right;\n",
       "    }\n",
       "</style>\n",
       "<table border=\"1\" class=\"dataframe\">\n",
       "  <thead>\n",
       "    <tr style=\"text-align: right;\">\n",
       "      <th></th>\n",
       "      <th>timestamp</th>\n",
       "      <th>user_id</th>\n",
       "      <th>event</th>\n",
       "      <th>item_id</th>\n",
       "      <th>transaction_id</th>\n",
       "    </tr>\n",
       "  </thead>\n",
       "  <tbody>\n",
       "    <tr>\n",
       "      <th>0</th>\n",
       "      <td>1433221332117</td>\n",
       "      <td>257597</td>\n",
       "      <td>view</td>\n",
       "      <td>355908</td>\n",
       "      <td>NaN</td>\n",
       "    </tr>\n",
       "    <tr>\n",
       "      <th>1</th>\n",
       "      <td>1433224214164</td>\n",
       "      <td>992329</td>\n",
       "      <td>view</td>\n",
       "      <td>248676</td>\n",
       "      <td>NaN</td>\n",
       "    </tr>\n",
       "    <tr>\n",
       "      <th>2</th>\n",
       "      <td>1433221999827</td>\n",
       "      <td>111016</td>\n",
       "      <td>view</td>\n",
       "      <td>318965</td>\n",
       "      <td>NaN</td>\n",
       "    </tr>\n",
       "    <tr>\n",
       "      <th>3</th>\n",
       "      <td>1433221955914</td>\n",
       "      <td>483717</td>\n",
       "      <td>view</td>\n",
       "      <td>253185</td>\n",
       "      <td>NaN</td>\n",
       "    </tr>\n",
       "    <tr>\n",
       "      <th>4</th>\n",
       "      <td>1433221337106</td>\n",
       "      <td>951259</td>\n",
       "      <td>view</td>\n",
       "      <td>367447</td>\n",
       "      <td>NaN</td>\n",
       "    </tr>\n",
       "  </tbody>\n",
       "</table>\n",
       "</div>"
      ],
      "text/plain": [
       "       timestamp  user_id event  item_id  transaction_id\n",
       "0  1433221332117   257597  view   355908             NaN\n",
       "1  1433224214164   992329  view   248676             NaN\n",
       "2  1433221999827   111016  view   318965             NaN\n",
       "3  1433221955914   483717  view   253185             NaN\n",
       "4  1433221337106   951259  view   367447             NaN"
      ]
     },
     "execution_count": 51,
     "metadata": {},
     "output_type": "execute_result"
    }
   ],
   "source": [
    "# Renaming columns\n",
    "events = events.rename(\n",
    "    columns={\n",
    "        \"visitorid\": \"user_id\",\n",
    "        \"itemid\": \"item_id\",\n",
    "        \"transactionid\": \"transaction_id\",\n",
    "    }\n",
    ")\n",
    "events.head()"
   ]
  },
  {
   "cell_type": "markdown",
   "metadata": {},
   "source": [
    "Теперь уберем из данных некоторых пользователей и товары, которые не достаточно определены в данных (малое количество действий). К примеру, уберем пользователей, у которых меньше 100 действий, а также товары, с которыми было совершено менее 300 действий:"
   ]
  },
  {
   "cell_type": "code",
   "execution_count": 52,
   "metadata": {},
   "outputs": [
    {
     "data": {
      "text/plain": [
       "(1407163,)"
      ]
     },
     "execution_count": 52,
     "metadata": {},
     "output_type": "execute_result"
    }
   ],
   "source": [
    "user_events_count = events.groupby(\"user_id\")[\"event\"].count()\n",
    "user_ids_to_remove = user_events_count[user_events_count < 100].index\n",
    "user_ids_to_remove.shape"
   ]
  },
  {
   "cell_type": "code",
   "execution_count": 53,
   "metadata": {},
   "outputs": [
    {
     "data": {
      "text/plain": [
       "(234521,)"
      ]
     },
     "execution_count": 53,
     "metadata": {},
     "output_type": "execute_result"
    }
   ],
   "source": [
    "item_events_count = events.groupby(\"item_id\")[\"event\"].count()\n",
    "item_ids_to_remove = item_events_count[item_events_count < 300].index\n",
    "item_ids_to_remove.shape"
   ]
  },
  {
   "cell_type": "code",
   "execution_count": 54,
   "metadata": {},
   "outputs": [
    {
     "name": "stdout",
     "output_type": "stream",
     "text": [
      "<class 'pandas.core.frame.DataFrame'>\n",
      "Index: 16562 entries, 196 to 2755582\n",
      "Data columns (total 5 columns):\n",
      " #   Column          Non-Null Count  Dtype  \n",
      "---  ------          --------------  -----  \n",
      " 0   timestamp       16562 non-null  int64  \n",
      " 1   user_id         16562 non-null  int64  \n",
      " 2   event           16562 non-null  object \n",
      " 3   item_id         16562 non-null  int64  \n",
      " 4   transaction_id  985 non-null    float64\n",
      "dtypes: float64(1), int64(3), object(1)\n",
      "memory usage: 776.3+ KB\n"
     ]
    }
   ],
   "source": [
    "events = events[~events.user_id.isin(user_ids_to_remove)]\n",
    "events = events[~events.item_id.isin(item_ids_to_remove)]\n",
    "events.info()"
   ]
  },
  {
   "cell_type": "code",
   "execution_count": 55,
   "metadata": {},
   "outputs": [
    {
     "data": {
      "text/plain": [
       "event\n",
       "view           0.856539\n",
       "addtocart      0.083987\n",
       "transaction    0.059473\n",
       "Name: proportion, dtype: float64"
      ]
     },
     "execution_count": 55,
     "metadata": {},
     "output_type": "execute_result"
    }
   ],
   "source": [
    "events.event.value_counts(normalize=True)"
   ]
  },
  {
   "cell_type": "markdown",
   "metadata": {},
   "source": [
    "Теперь уберем из данных информацию о транзакциях. Данное решение подкреплено тем, что если пользователь купил товар, то он фактически закрыл некую свою потребность, то есть не будет уже смысла ему рекомендовать тот же товар. Поэтому будем концентрироваться на действиях просмотра и добавления товара в корзину:"
   ]
  },
  {
   "cell_type": "code",
   "execution_count": 56,
   "metadata": {},
   "outputs": [
    {
     "name": "stdout",
     "output_type": "stream",
     "text": [
      "<class 'pandas.core.frame.DataFrame'>\n",
      "Index: 15577 entries, 196 to 2755582\n",
      "Data columns (total 5 columns):\n",
      " #   Column          Non-Null Count  Dtype  \n",
      "---  ------          --------------  -----  \n",
      " 0   timestamp       15577 non-null  int64  \n",
      " 1   user_id         15577 non-null  int64  \n",
      " 2   event           15577 non-null  object \n",
      " 3   item_id         15577 non-null  int64  \n",
      " 4   transaction_id  0 non-null      float64\n",
      "dtypes: float64(1), int64(3), object(1)\n",
      "memory usage: 730.2+ KB\n"
     ]
    }
   ],
   "source": [
    "events = events[events.event != 'transaction']\n",
    "events.info()"
   ]
  },
  {
   "cell_type": "markdown",
   "metadata": {},
   "source": [
    "Теперь конвертируем временные метки в колонке `timestamp` в дату. Для этого определим функцию `timestamp2date()`, которая будет это делать, а затем применим ее к соответствующей колонке:"
   ]
  },
  {
   "cell_type": "code",
   "execution_count": 57,
   "metadata": {},
   "outputs": [],
   "source": [
    "def timestamp2date(timestamp):\n",
    "    \"\"\"Converts timestamp into a date.\"\"\"\n",
    "    date = datetime.fromtimestamp(timestamp / 1000)\n",
    "    return date.date()"
   ]
  },
  {
   "cell_type": "code",
   "execution_count": 58,
   "metadata": {},
   "outputs": [
    {
     "data": {
      "text/html": [
       "<div>\n",
       "<style scoped>\n",
       "    .dataframe tbody tr th:only-of-type {\n",
       "        vertical-align: middle;\n",
       "    }\n",
       "\n",
       "    .dataframe tbody tr th {\n",
       "        vertical-align: top;\n",
       "    }\n",
       "\n",
       "    .dataframe thead th {\n",
       "        text-align: right;\n",
       "    }\n",
       "</style>\n",
       "<table border=\"1\" class=\"dataframe\">\n",
       "  <thead>\n",
       "    <tr style=\"text-align: right;\">\n",
       "      <th></th>\n",
       "      <th>timestamp</th>\n",
       "      <th>user_id</th>\n",
       "      <th>event</th>\n",
       "      <th>item_id</th>\n",
       "      <th>transaction_id</th>\n",
       "      <th>executed_at</th>\n",
       "    </tr>\n",
       "  </thead>\n",
       "  <tbody>\n",
       "    <tr>\n",
       "      <th>196</th>\n",
       "      <td>1433193535886</td>\n",
       "      <td>820159</td>\n",
       "      <td>view</td>\n",
       "      <td>369447</td>\n",
       "      <td>NaN</td>\n",
       "      <td>2015-06-01</td>\n",
       "    </tr>\n",
       "    <tr>\n",
       "      <th>458</th>\n",
       "      <td>1433218757551</td>\n",
       "      <td>168685</td>\n",
       "      <td>addtocart</td>\n",
       "      <td>111530</td>\n",
       "      <td>NaN</td>\n",
       "      <td>2015-06-02</td>\n",
       "    </tr>\n",
       "    <tr>\n",
       "      <th>748</th>\n",
       "      <td>1433172520454</td>\n",
       "      <td>1172198</td>\n",
       "      <td>view</td>\n",
       "      <td>414460</td>\n",
       "      <td>NaN</td>\n",
       "      <td>2015-06-01</td>\n",
       "    </tr>\n",
       "    <tr>\n",
       "      <th>896</th>\n",
       "      <td>1433176296108</td>\n",
       "      <td>350566</td>\n",
       "      <td>view</td>\n",
       "      <td>379520</td>\n",
       "      <td>NaN</td>\n",
       "      <td>2015-06-01</td>\n",
       "    </tr>\n",
       "    <tr>\n",
       "      <th>1057</th>\n",
       "      <td>1433182122967</td>\n",
       "      <td>820159</td>\n",
       "      <td>view</td>\n",
       "      <td>305588</td>\n",
       "      <td>NaN</td>\n",
       "      <td>2015-06-01</td>\n",
       "    </tr>\n",
       "    <tr>\n",
       "      <th>...</th>\n",
       "      <td>...</td>\n",
       "      <td>...</td>\n",
       "      <td>...</td>\n",
       "      <td>...</td>\n",
       "      <td>...</td>\n",
       "      <td>...</td>\n",
       "    </tr>\n",
       "    <tr>\n",
       "      <th>2755295</th>\n",
       "      <td>1438378300182</td>\n",
       "      <td>1150086</td>\n",
       "      <td>view</td>\n",
       "      <td>441852</td>\n",
       "      <td>NaN</td>\n",
       "      <td>2015-07-31</td>\n",
       "    </tr>\n",
       "    <tr>\n",
       "      <th>2755392</th>\n",
       "      <td>1438380430262</td>\n",
       "      <td>861299</td>\n",
       "      <td>view</td>\n",
       "      <td>441852</td>\n",
       "      <td>NaN</td>\n",
       "      <td>2015-07-31</td>\n",
       "    </tr>\n",
       "    <tr>\n",
       "      <th>2755446</th>\n",
       "      <td>1438356889320</td>\n",
       "      <td>478537</td>\n",
       "      <td>view</td>\n",
       "      <td>191303</td>\n",
       "      <td>NaN</td>\n",
       "      <td>2015-07-31</td>\n",
       "    </tr>\n",
       "    <tr>\n",
       "      <th>2755479</th>\n",
       "      <td>1438357005461</td>\n",
       "      <td>478537</td>\n",
       "      <td>view</td>\n",
       "      <td>463280</td>\n",
       "      <td>NaN</td>\n",
       "      <td>2015-07-31</td>\n",
       "    </tr>\n",
       "    <tr>\n",
       "      <th>2755582</th>\n",
       "      <td>1438357504478</td>\n",
       "      <td>478537</td>\n",
       "      <td>view</td>\n",
       "      <td>116624</td>\n",
       "      <td>NaN</td>\n",
       "      <td>2015-07-31</td>\n",
       "    </tr>\n",
       "  </tbody>\n",
       "</table>\n",
       "<p>15577 rows × 6 columns</p>\n",
       "</div>"
      ],
      "text/plain": [
       "             timestamp  user_id      event  item_id  transaction_id  \\\n",
       "196      1433193535886   820159       view   369447             NaN   \n",
       "458      1433218757551   168685  addtocart   111530             NaN   \n",
       "748      1433172520454  1172198       view   414460             NaN   \n",
       "896      1433176296108   350566       view   379520             NaN   \n",
       "1057     1433182122967   820159       view   305588             NaN   \n",
       "...                ...      ...        ...      ...             ...   \n",
       "2755295  1438378300182  1150086       view   441852             NaN   \n",
       "2755392  1438380430262   861299       view   441852             NaN   \n",
       "2755446  1438356889320   478537       view   191303             NaN   \n",
       "2755479  1438357005461   478537       view   463280             NaN   \n",
       "2755582  1438357504478   478537       view   116624             NaN   \n",
       "\n",
       "        executed_at  \n",
       "196      2015-06-01  \n",
       "458      2015-06-02  \n",
       "748      2015-06-01  \n",
       "896      2015-06-01  \n",
       "1057     2015-06-01  \n",
       "...             ...  \n",
       "2755295  2015-07-31  \n",
       "2755392  2015-07-31  \n",
       "2755446  2015-07-31  \n",
       "2755479  2015-07-31  \n",
       "2755582  2015-07-31  \n",
       "\n",
       "[15577 rows x 6 columns]"
      ]
     },
     "execution_count": 58,
     "metadata": {},
     "output_type": "execute_result"
    }
   ],
   "source": [
    "events[\"executed_at\"] = events[\"timestamp\"].apply(timestamp2date)\n",
    "events[\"executed_at\"] = pd.to_datetime(events[\"executed_at\"])\n",
    "events"
   ]
  },
  {
   "cell_type": "code",
   "execution_count": 59,
   "metadata": {},
   "outputs": [
    {
     "name": "stdout",
     "output_type": "stream",
     "text": [
      "Data start: 2015-05-03 00:00:00\n",
      "Data ended: 2015-09-17 00:00:00\n"
     ]
    }
   ],
   "source": [
    "print(\"Data start: {}\".format(events.executed_at.min()))\n",
    "print(\"Data ended: {}\".format(events.executed_at.max()))"
   ]
  },
  {
   "cell_type": "markdown",
   "metadata": {},
   "source": [
    "Итак теперь более ясно видно, что в нашей выборке данных начало находится 3 мая 2015 года, а кончается 17 сентября того же года.\n",
    "\n",
    "Посмотрим на число уникальных пользователей и товаров:"
   ]
  },
  {
   "cell_type": "code",
   "execution_count": 60,
   "metadata": {},
   "outputs": [
    {
     "name": "stdout",
     "output_type": "stream",
     "text": [
      "Number of unique users: 336\n",
      "Number of unique items: 480\n"
     ]
    }
   ],
   "source": [
    "users_unique = events.user_id.nunique()\n",
    "items_unique = events.item_id.nunique()\n",
    "\n",
    "print(\"Number of unique users: {:,}\".format(users_unique))\n",
    "print(\"Number of unique items: {:,}\".format(items_unique))"
   ]
  },
  {
   "cell_type": "markdown",
   "metadata": {},
   "source": [
    "Мы не сможем построить рекомендации, если у нас не будет некоторого аналога рейтинга. Однако по сравнению со стандартными рекомендациями товаров, где нас не интересует конкретное действие, здесь же нужно определенным образом заставить алгоритм больше внимания уделять именно товарам, отмеченных как `addtocart`. Одним из способов возможной реализации подобной схемы может быть придавание более высокого рейтинга таким действиям по сравнению с обратным действием:"
   ]
  },
  {
   "cell_type": "code",
   "execution_count": 61,
   "metadata": {},
   "outputs": [
    {
     "data": {
      "text/html": [
       "<div>\n",
       "<style scoped>\n",
       "    .dataframe tbody tr th:only-of-type {\n",
       "        vertical-align: middle;\n",
       "    }\n",
       "\n",
       "    .dataframe tbody tr th {\n",
       "        vertical-align: top;\n",
       "    }\n",
       "\n",
       "    .dataframe thead th {\n",
       "        text-align: right;\n",
       "    }\n",
       "</style>\n",
       "<table border=\"1\" class=\"dataframe\">\n",
       "  <thead>\n",
       "    <tr style=\"text-align: right;\">\n",
       "      <th></th>\n",
       "      <th>timestamp</th>\n",
       "      <th>user_id</th>\n",
       "      <th>event</th>\n",
       "      <th>item_id</th>\n",
       "      <th>transaction_id</th>\n",
       "      <th>executed_at</th>\n",
       "      <th>rating</th>\n",
       "    </tr>\n",
       "  </thead>\n",
       "  <tbody>\n",
       "    <tr>\n",
       "      <th>196</th>\n",
       "      <td>1433193535886</td>\n",
       "      <td>820159</td>\n",
       "      <td>view</td>\n",
       "      <td>369447</td>\n",
       "      <td>NaN</td>\n",
       "      <td>2015-06-01</td>\n",
       "      <td>0.1</td>\n",
       "    </tr>\n",
       "    <tr>\n",
       "      <th>458</th>\n",
       "      <td>1433218757551</td>\n",
       "      <td>168685</td>\n",
       "      <td>addtocart</td>\n",
       "      <td>111530</td>\n",
       "      <td>NaN</td>\n",
       "      <td>2015-06-02</td>\n",
       "      <td>1.0</td>\n",
       "    </tr>\n",
       "    <tr>\n",
       "      <th>748</th>\n",
       "      <td>1433172520454</td>\n",
       "      <td>1172198</td>\n",
       "      <td>view</td>\n",
       "      <td>414460</td>\n",
       "      <td>NaN</td>\n",
       "      <td>2015-06-01</td>\n",
       "      <td>0.1</td>\n",
       "    </tr>\n",
       "    <tr>\n",
       "      <th>896</th>\n",
       "      <td>1433176296108</td>\n",
       "      <td>350566</td>\n",
       "      <td>view</td>\n",
       "      <td>379520</td>\n",
       "      <td>NaN</td>\n",
       "      <td>2015-06-01</td>\n",
       "      <td>0.1</td>\n",
       "    </tr>\n",
       "    <tr>\n",
       "      <th>1057</th>\n",
       "      <td>1433182122967</td>\n",
       "      <td>820159</td>\n",
       "      <td>view</td>\n",
       "      <td>305588</td>\n",
       "      <td>NaN</td>\n",
       "      <td>2015-06-01</td>\n",
       "      <td>0.1</td>\n",
       "    </tr>\n",
       "  </tbody>\n",
       "</table>\n",
       "</div>"
      ],
      "text/plain": [
       "          timestamp  user_id      event  item_id  transaction_id executed_at  \\\n",
       "196   1433193535886   820159       view   369447             NaN  2015-06-01   \n",
       "458   1433218757551   168685  addtocart   111530             NaN  2015-06-02   \n",
       "748   1433172520454  1172198       view   414460             NaN  2015-06-01   \n",
       "896   1433176296108   350566       view   379520             NaN  2015-06-01   \n",
       "1057  1433182122967   820159       view   305588             NaN  2015-06-01   \n",
       "\n",
       "      rating  \n",
       "196      0.1  \n",
       "458      1.0  \n",
       "748      0.1  \n",
       "896      0.1  \n",
       "1057     0.1  "
      ]
     },
     "execution_count": 61,
     "metadata": {},
     "output_type": "execute_result"
    }
   ],
   "source": [
    "ratings = {\n",
    "    \"view\": 0.1,\n",
    "    \"addtocart\": 1.0,\n",
    "}\n",
    "\n",
    "events[\"rating\"] = events[\"event\"].map(ratings)\n",
    "events.head()"
   ]
  },
  {
   "cell_type": "markdown",
   "metadata": {},
   "source": [
    "Для удобства дальнейших расчетов, закодируем идентификаторы пользователей и товаров:"
   ]
  },
  {
   "cell_type": "code",
   "execution_count": 62,
   "metadata": {},
   "outputs": [
    {
     "data": {
      "text/html": [
       "<div>\n",
       "<style scoped>\n",
       "    .dataframe tbody tr th:only-of-type {\n",
       "        vertical-align: middle;\n",
       "    }\n",
       "\n",
       "    .dataframe tbody tr th {\n",
       "        vertical-align: top;\n",
       "    }\n",
       "\n",
       "    .dataframe thead th {\n",
       "        text-align: right;\n",
       "    }\n",
       "</style>\n",
       "<table border=\"1\" class=\"dataframe\">\n",
       "  <thead>\n",
       "    <tr style=\"text-align: right;\">\n",
       "      <th></th>\n",
       "      <th>timestamp</th>\n",
       "      <th>user_id</th>\n",
       "      <th>event</th>\n",
       "      <th>item_id</th>\n",
       "      <th>transaction_id</th>\n",
       "      <th>executed_at</th>\n",
       "      <th>rating</th>\n",
       "      <th>user_id_encoded</th>\n",
       "      <th>item_id_encoded</th>\n",
       "    </tr>\n",
       "  </thead>\n",
       "  <tbody>\n",
       "    <tr>\n",
       "      <th>196</th>\n",
       "      <td>1433193535886</td>\n",
       "      <td>820159</td>\n",
       "      <td>view</td>\n",
       "      <td>369447</td>\n",
       "      <td>NaN</td>\n",
       "      <td>2015-06-01</td>\n",
       "      <td>0.1</td>\n",
       "      <td>196</td>\n",
       "      <td>369</td>\n",
       "    </tr>\n",
       "    <tr>\n",
       "      <th>458</th>\n",
       "      <td>1433218757551</td>\n",
       "      <td>168685</td>\n",
       "      <td>addtocart</td>\n",
       "      <td>111530</td>\n",
       "      <td>NaN</td>\n",
       "      <td>2015-06-02</td>\n",
       "      <td>1.0</td>\n",
       "      <td>44</td>\n",
       "      <td>98</td>\n",
       "    </tr>\n",
       "    <tr>\n",
       "      <th>748</th>\n",
       "      <td>1433172520454</td>\n",
       "      <td>1172198</td>\n",
       "      <td>view</td>\n",
       "      <td>414460</td>\n",
       "      <td>NaN</td>\n",
       "      <td>2015-06-01</td>\n",
       "      <td>0.1</td>\n",
       "      <td>286</td>\n",
       "      <td>413</td>\n",
       "    </tr>\n",
       "    <tr>\n",
       "      <th>896</th>\n",
       "      <td>1433176296108</td>\n",
       "      <td>350566</td>\n",
       "      <td>view</td>\n",
       "      <td>379520</td>\n",
       "      <td>NaN</td>\n",
       "      <td>2015-06-01</td>\n",
       "      <td>0.1</td>\n",
       "      <td>90</td>\n",
       "      <td>380</td>\n",
       "    </tr>\n",
       "    <tr>\n",
       "      <th>1057</th>\n",
       "      <td>1433182122967</td>\n",
       "      <td>820159</td>\n",
       "      <td>view</td>\n",
       "      <td>305588</td>\n",
       "      <td>NaN</td>\n",
       "      <td>2015-06-01</td>\n",
       "      <td>0.1</td>\n",
       "      <td>196</td>\n",
       "      <td>295</td>\n",
       "    </tr>\n",
       "  </tbody>\n",
       "</table>\n",
       "</div>"
      ],
      "text/plain": [
       "          timestamp  user_id      event  item_id  transaction_id executed_at  \\\n",
       "196   1433193535886   820159       view   369447             NaN  2015-06-01   \n",
       "458   1433218757551   168685  addtocart   111530             NaN  2015-06-02   \n",
       "748   1433172520454  1172198       view   414460             NaN  2015-06-01   \n",
       "896   1433176296108   350566       view   379520             NaN  2015-06-01   \n",
       "1057  1433182122967   820159       view   305588             NaN  2015-06-01   \n",
       "\n",
       "      rating  user_id_encoded  item_id_encoded  \n",
       "196      0.1              196              369  \n",
       "458      1.0               44               98  \n",
       "748      0.1              286              413  \n",
       "896      0.1               90              380  \n",
       "1057     0.1              196              295  "
      ]
     },
     "execution_count": 62,
     "metadata": {},
     "output_type": "execute_result"
    }
   ],
   "source": [
    "# Instantitating encoders for user ids and item ids\n",
    "user_encoder = LabelEncoder()\n",
    "item_encoder = LabelEncoder()\n",
    "\n",
    "# Fitting the encoders to data\n",
    "user_encoder.fit(events[\"user_id\"])\n",
    "item_encoder.fit(events[\"item_id\"])\n",
    "\n",
    "# Adding encoded identifiers for users and items\n",
    "events[\"user_id_encoded\"] = user_encoder.transform(events[\"user_id\"])\n",
    "events[\"item_id_encoded\"] = item_encoder.transform(events[\"item_id\"])\n",
    "events.head()"
   ]
  },
  {
   "cell_type": "markdown",
   "metadata": {},
   "source": [
    "Сохраним обученные кодировщики, чтобы потом их можно было залогировать:"
   ]
  },
  {
   "cell_type": "code",
   "execution_count": 63,
   "metadata": {},
   "outputs": [],
   "source": [
    "with open(f\"{ASSETS_DIR}/user_encoder.pkl\", \"wb\") as fd:\n",
    "    joblib.dump(user_encoder, fd)\n",
    "\n",
    "with open(f\"{ASSETS_DIR}/item_encoder.pkl\", \"wb\") as fd:\n",
    "    joblib.dump(item_encoder, fd)"
   ]
  },
  {
   "cell_type": "markdown",
   "metadata": {},
   "source": [
    "Оставим только релевантные колонки:"
   ]
  },
  {
   "cell_type": "code",
   "execution_count": 64,
   "metadata": {},
   "outputs": [
    {
     "data": {
      "text/html": [
       "<div>\n",
       "<style scoped>\n",
       "    .dataframe tbody tr th:only-of-type {\n",
       "        vertical-align: middle;\n",
       "    }\n",
       "\n",
       "    .dataframe tbody tr th {\n",
       "        vertical-align: top;\n",
       "    }\n",
       "\n",
       "    .dataframe thead th {\n",
       "        text-align: right;\n",
       "    }\n",
       "</style>\n",
       "<table border=\"1\" class=\"dataframe\">\n",
       "  <thead>\n",
       "    <tr style=\"text-align: right;\">\n",
       "      <th></th>\n",
       "      <th>timestamp</th>\n",
       "      <th>user_id</th>\n",
       "      <th>item_id</th>\n",
       "      <th>event</th>\n",
       "      <th>executed_at</th>\n",
       "      <th>user_id_encoded</th>\n",
       "      <th>item_id_encoded</th>\n",
       "      <th>rating</th>\n",
       "    </tr>\n",
       "  </thead>\n",
       "  <tbody>\n",
       "    <tr>\n",
       "      <th>0</th>\n",
       "      <td>1433193535886</td>\n",
       "      <td>820159</td>\n",
       "      <td>369447</td>\n",
       "      <td>view</td>\n",
       "      <td>2015-06-01</td>\n",
       "      <td>196</td>\n",
       "      <td>369</td>\n",
       "      <td>0.1</td>\n",
       "    </tr>\n",
       "    <tr>\n",
       "      <th>1</th>\n",
       "      <td>1433218757551</td>\n",
       "      <td>168685</td>\n",
       "      <td>111530</td>\n",
       "      <td>addtocart</td>\n",
       "      <td>2015-06-02</td>\n",
       "      <td>44</td>\n",
       "      <td>98</td>\n",
       "      <td>1.0</td>\n",
       "    </tr>\n",
       "    <tr>\n",
       "      <th>2</th>\n",
       "      <td>1433172520454</td>\n",
       "      <td>1172198</td>\n",
       "      <td>414460</td>\n",
       "      <td>view</td>\n",
       "      <td>2015-06-01</td>\n",
       "      <td>286</td>\n",
       "      <td>413</td>\n",
       "      <td>0.1</td>\n",
       "    </tr>\n",
       "    <tr>\n",
       "      <th>3</th>\n",
       "      <td>1433176296108</td>\n",
       "      <td>350566</td>\n",
       "      <td>379520</td>\n",
       "      <td>view</td>\n",
       "      <td>2015-06-01</td>\n",
       "      <td>90</td>\n",
       "      <td>380</td>\n",
       "      <td>0.1</td>\n",
       "    </tr>\n",
       "    <tr>\n",
       "      <th>4</th>\n",
       "      <td>1433182122967</td>\n",
       "      <td>820159</td>\n",
       "      <td>305588</td>\n",
       "      <td>view</td>\n",
       "      <td>2015-06-01</td>\n",
       "      <td>196</td>\n",
       "      <td>295</td>\n",
       "      <td>0.1</td>\n",
       "    </tr>\n",
       "  </tbody>\n",
       "</table>\n",
       "</div>"
      ],
      "text/plain": [
       "       timestamp  user_id  item_id      event executed_at  user_id_encoded  \\\n",
       "0  1433193535886   820159   369447       view  2015-06-01              196   \n",
       "1  1433218757551   168685   111530  addtocart  2015-06-02               44   \n",
       "2  1433172520454  1172198   414460       view  2015-06-01              286   \n",
       "3  1433176296108   350566   379520       view  2015-06-01               90   \n",
       "4  1433182122967   820159   305588       view  2015-06-01              196   \n",
       "\n",
       "   item_id_encoded  rating  \n",
       "0              369     0.1  \n",
       "1               98     1.0  \n",
       "2              413     0.1  \n",
       "3              380     0.1  \n",
       "4              295     0.1  "
      ]
     },
     "execution_count": 64,
     "metadata": {},
     "output_type": "execute_result"
    }
   ],
   "source": [
    "events = events[\n",
    "    [\"timestamp\", \"user_id\", \"item_id\", \"event\", \n",
    "     \"executed_at\", \"user_id_encoded\", \n",
    "     \"item_id_encoded\", \"rating\"]\n",
    "]\n",
    "events = events.reset_index(drop=True)\n",
    "events.head()"
   ]
  },
  {
   "cell_type": "markdown",
   "metadata": {},
   "source": [
    "Чтобы у нас мог быть доступ к выборке данных, на основе которых будет проводиться дальнейший анализ, сохраним текущее состояние событий в `assets/events.parquet`, чтобы потом это залогировать:"
   ]
  },
  {
   "cell_type": "code",
   "execution_count": 65,
   "metadata": {},
   "outputs": [],
   "source": [
    "events.to_parquet(f\"{ASSETS_DIR}/events.parquet\")"
   ]
  },
  {
   "cell_type": "markdown",
   "metadata": {},
   "source": [
    "### Splitting data"
   ]
  },
  {
   "cell_type": "markdown",
   "metadata": {},
   "source": [
    "Следующим шагом разделим данные на тренировочную и тестовую выборки. Выберем 1 августа в качестве критерия разделения:"
   ]
  },
  {
   "cell_type": "code",
   "execution_count": 66,
   "metadata": {},
   "outputs": [
    {
     "name": "stdout",
     "output_type": "stream",
     "text": [
      "Train set events number: 11,564\n",
      "Test set events number: 4,013\n"
     ]
    }
   ],
   "source": [
    "train_test_global_time_split_date = pd.to_datetime(\"2015-08-01\")\n",
    "\n",
    "train_test_global_time_split_idx = events[\"executed_at\"] < train_test_global_time_split_date\n",
    "events_train = events[train_test_global_time_split_idx].copy()\n",
    "events_test = events[~train_test_global_time_split_idx].copy()\n",
    "\n",
    "print(\"Train set events number: {:,}\".format(events_train.shape[0]))\n",
    "print(\"Test set events number: {:,}\".format(events_test.shape[0]))"
   ]
  },
  {
   "cell_type": "markdown",
   "metadata": {},
   "source": [
    "Ниже рассчитаем еще несколько индикаторов, чтобы чуть глубже понять разделенные данные:"
   ]
  },
  {
   "cell_type": "code",
   "execution_count": 67,
   "metadata": {},
   "outputs": [
    {
     "data": {
      "text/html": [
       "<div>\n",
       "<style scoped>\n",
       "    .dataframe tbody tr th:only-of-type {\n",
       "        vertical-align: middle;\n",
       "    }\n",
       "\n",
       "    .dataframe tbody tr th {\n",
       "        vertical-align: top;\n",
       "    }\n",
       "\n",
       "    .dataframe thead th {\n",
       "        text-align: right;\n",
       "    }\n",
       "</style>\n",
       "<table border=\"1\" class=\"dataframe\">\n",
       "  <thead>\n",
       "    <tr style=\"text-align: right;\">\n",
       "      <th></th>\n",
       "      <th>event</th>\n",
       "      <th>train</th>\n",
       "      <th>test</th>\n",
       "    </tr>\n",
       "  </thead>\n",
       "  <tbody>\n",
       "    <tr>\n",
       "      <th>0</th>\n",
       "      <td>view</td>\n",
       "      <td>10534</td>\n",
       "      <td>3652</td>\n",
       "    </tr>\n",
       "    <tr>\n",
       "      <th>1</th>\n",
       "      <td>addtocart</td>\n",
       "      <td>1030</td>\n",
       "      <td>361</td>\n",
       "    </tr>\n",
       "  </tbody>\n",
       "</table>\n",
       "</div>"
      ],
      "text/plain": [
       "       event  train  test\n",
       "0       view  10534  3652\n",
       "1  addtocart   1030   361"
      ]
     },
     "execution_count": 67,
     "metadata": {},
     "output_type": "execute_result"
    }
   ],
   "source": [
    "# Number of train events labels\n",
    "train_events = events_train.event.value_counts()\n",
    "train_events.name = \"train\"\n",
    "\n",
    "# Number of test events labels\n",
    "test_events = events_test.event.value_counts()\n",
    "test_events.name = \"test\"\n",
    "\n",
    "# Concatenating the results\n",
    "split_events = pd.concat([\n",
    "    train_events, \n",
    "    test_events\n",
    "    ], \n",
    "    axis=1\n",
    ").reset_index()\n",
    "\n",
    "split_events"
   ]
  },
  {
   "cell_type": "code",
   "execution_count": 68,
   "metadata": {},
   "outputs": [
    {
     "name": "stdout",
     "output_type": "stream",
     "text": [
      "Number of unique train users: 290\n",
      "Number of unique test users: 137\n",
      "Number of common users: 91\n",
      "Number of cold users: 46\n"
     ]
    }
   ],
   "source": [
    "users_train = events_train[\"user_id\"].drop_duplicates().tolist()\n",
    "users_test = events_test[\"user_id\"].drop_duplicates().tolist()\n",
    "\n",
    "common_users = set(users_train) & set(users_test)\n",
    "cold_users = (set(users_train) | set(users_test)) - set(users_train)\n",
    "\n",
    "print(\"Number of unique train users: {:,}\".format(len(users_train)))\n",
    "print(\"Number of unique test users: {:,}\".format(len(users_test)))\n",
    "print(\"Number of common users: {:,}\".format(len(common_users)))\n",
    "print(\"Number of cold users: {:,}\".format(len(cold_users)))"
   ]
  },
  {
   "cell_type": "markdown",
   "metadata": {},
   "source": [
    "### Generating recommendations"
   ]
  },
  {
   "cell_type": "markdown",
   "metadata": {},
   "source": [
    "Теперь мы приступаем к самой генерации рекомендаций, где каждый вид рассмотрен в отдельной секции."
   ]
  },
  {
   "cell_type": "markdown",
   "metadata": {},
   "source": [
    "#### Top popular items"
   ]
  },
  {
   "cell_type": "markdown",
   "metadata": {},
   "source": [
    "Для пользователей без персональных рекомендаций стоит рекомендовать товары из некоторого топа. В данном случае рассчитаем топ-100 товаров, которые были добавлены в корзину:"
   ]
  },
  {
   "cell_type": "code",
   "execution_count": 73,
   "metadata": {},
   "outputs": [
    {
     "data": {
      "text/html": [
       "<div>\n",
       "<style scoped>\n",
       "    .dataframe tbody tr th:only-of-type {\n",
       "        vertical-align: middle;\n",
       "    }\n",
       "\n",
       "    .dataframe tbody tr th {\n",
       "        vertical-align: top;\n",
       "    }\n",
       "\n",
       "    .dataframe thead th {\n",
       "        text-align: right;\n",
       "    }\n",
       "</style>\n",
       "<table border=\"1\" class=\"dataframe\">\n",
       "  <thead>\n",
       "    <tr style=\"text-align: right;\">\n",
       "      <th></th>\n",
       "      <th>id</th>\n",
       "      <th>rec_id</th>\n",
       "      <th>item_id</th>\n",
       "      <th>items_selected</th>\n",
       "      <th>item_id_encoded</th>\n",
       "    </tr>\n",
       "  </thead>\n",
       "  <tbody>\n",
       "    <tr>\n",
       "      <th>0</th>\n",
       "      <td>1</td>\n",
       "      <td>0</td>\n",
       "      <td>29196</td>\n",
       "      <td>32</td>\n",
       "      <td>31</td>\n",
       "    </tr>\n",
       "    <tr>\n",
       "      <th>1</th>\n",
       "      <td>2</td>\n",
       "      <td>1</td>\n",
       "      <td>312728</td>\n",
       "      <td>24</td>\n",
       "      <td>305</td>\n",
       "    </tr>\n",
       "    <tr>\n",
       "      <th>2</th>\n",
       "      <td>3</td>\n",
       "      <td>2</td>\n",
       "      <td>119736</td>\n",
       "      <td>18</td>\n",
       "      <td>109</td>\n",
       "    </tr>\n",
       "    <tr>\n",
       "      <th>3</th>\n",
       "      <td>4</td>\n",
       "      <td>3</td>\n",
       "      <td>409804</td>\n",
       "      <td>18</td>\n",
       "      <td>408</td>\n",
       "    </tr>\n",
       "    <tr>\n",
       "      <th>4</th>\n",
       "      <td>5</td>\n",
       "      <td>4</td>\n",
       "      <td>445351</td>\n",
       "      <td>16</td>\n",
       "      <td>439</td>\n",
       "    </tr>\n",
       "    <tr>\n",
       "      <th>...</th>\n",
       "      <td>...</td>\n",
       "      <td>...</td>\n",
       "      <td>...</td>\n",
       "      <td>...</td>\n",
       "      <td>...</td>\n",
       "    </tr>\n",
       "    <tr>\n",
       "      <th>95</th>\n",
       "      <td>96</td>\n",
       "      <td>95</td>\n",
       "      <td>118914</td>\n",
       "      <td>3</td>\n",
       "      <td>108</td>\n",
       "    </tr>\n",
       "    <tr>\n",
       "      <th>96</th>\n",
       "      <td>97</td>\n",
       "      <td>96</td>\n",
       "      <td>412622</td>\n",
       "      <td>3</td>\n",
       "      <td>410</td>\n",
       "    </tr>\n",
       "    <tr>\n",
       "      <th>97</th>\n",
       "      <td>98</td>\n",
       "      <td>97</td>\n",
       "      <td>80435</td>\n",
       "      <td>3</td>\n",
       "      <td>73</td>\n",
       "    </tr>\n",
       "    <tr>\n",
       "      <th>98</th>\n",
       "      <td>99</td>\n",
       "      <td>98</td>\n",
       "      <td>60980</td>\n",
       "      <td>3</td>\n",
       "      <td>58</td>\n",
       "    </tr>\n",
       "    <tr>\n",
       "      <th>99</th>\n",
       "      <td>100</td>\n",
       "      <td>99</td>\n",
       "      <td>290999</td>\n",
       "      <td>3</td>\n",
       "      <td>277</td>\n",
       "    </tr>\n",
       "  </tbody>\n",
       "</table>\n",
       "<p>100 rows × 5 columns</p>\n",
       "</div>"
      ],
      "text/plain": [
       "     id  rec_id  item_id  items_selected  item_id_encoded\n",
       "0     1       0    29196              32               31\n",
       "1     2       1   312728              24              305\n",
       "2     3       2   119736              18              109\n",
       "3     4       3   409804              18              408\n",
       "4     5       4   445351              16              439\n",
       "..  ...     ...      ...             ...              ...\n",
       "95   96      95   118914               3              108\n",
       "96   97      96   412622               3              410\n",
       "97   98      97    80435               3               73\n",
       "98   99      98    60980               3               58\n",
       "99  100      99   290999               3              277\n",
       "\n",
       "[100 rows x 5 columns]"
      ]
     },
     "execution_count": 73,
     "metadata": {},
     "output_type": "execute_result"
    }
   ],
   "source": [
    "# Computing top-100 of \"addtocart\" objects\n",
    "top_popular = events_train.query(\"event == 'addtocart'\").item_id \\\n",
    "            .value_counts() \\\n",
    "            .head(100) \\\n",
    "            .reset_index() \\\n",
    "            .rename(columns={\n",
    "                \"count\": \"items_selected\"\n",
    "            })\n",
    "\n",
    "# Adding an additional column with encoded item id\n",
    "top_popular[\"item_id_encoded\"] = item_encoder.transform(top_popular[\"item_id\"])\n",
    "\n",
    "# Additional transformations\n",
    "top_popular = top_popular.reset_index().reset_index()\n",
    "top_popular[\"level_0\"] = top_popular[\"level_0\"] + 1\n",
    "top_popular = top_popular.rename(\n",
    "    columns={\n",
    "        \"index\": \"rec_id\",\n",
    "        \"level_0\": \"id\",\n",
    "    }\n",
    ")\n",
    "\n",
    "top_popular"
   ]
  },
  {
   "cell_type": "markdown",
   "metadata": {},
   "source": [
    "Мы получили первые рекомендации, которые будет использовать наш сервис. Для начала мы их сохраняем д директории `POSTGRES_DATA_DIR`, из которой данные попадут в базу данных, а после будут использованы в сервисе:"
   ]
  },
  {
   "cell_type": "code",
   "execution_count": 74,
   "metadata": {},
   "outputs": [],
   "source": [
    "top_popular.to_parquet(f\"{POSTGRES_DATA_DIR}/top_popular.parquet\")"
   ]
  },
  {
   "cell_type": "markdown",
   "metadata": {},
   "source": [
    "#### Personal recommendations"
   ]
  },
  {
   "cell_type": "markdown",
   "metadata": {},
   "source": [
    "Для генерации персональных рекомендаций будем использовать модель для коллаборативной фильтрации ALS. Сначала нужно создать *user-item* матрицу, где строками будут пользователи, колонками - товары, а значениями - рейтинг:"
   ]
  },
  {
   "cell_type": "code",
   "execution_count": 75,
   "metadata": {},
   "outputs": [
    {
     "data": {
      "text/plain": [
       "<336x480 sparse matrix of type '<class 'numpy.int8'>'\n",
       "\twith 4755 stored elements in Compressed Sparse Row format>"
      ]
     },
     "execution_count": 75,
     "metadata": {},
     "output_type": "execute_result"
    }
   ],
   "source": [
    "user_item_matrix_train = scipy.sparse.csr_matrix(\n",
    "    (\n",
    "    events_train[\"rating\"],\n",
    "    (events_train[\"user_id_encoded\"], events_train[\"item_id_encoded\"])\n",
    "    ),\n",
    "    dtype=np.int8\n",
    ")\n",
    "user_item_matrix_train"
   ]
  },
  {
   "cell_type": "markdown",
   "metadata": {},
   "source": [
    "Следующей ячейкой мы запускаем алгоритм, который оценит пропуски, которые образовались для пар пользователь-товар, где не было взаимодействия:"
   ]
  },
  {
   "cell_type": "code",
   "execution_count": 76,
   "metadata": {},
   "outputs": [
    {
     "name": "stderr",
     "output_type": "stream",
     "text": [
      "/home/mle-user/mle_projects/final_projects/mle-pr-final/.venv_test/lib/python3.10/site-packages/implicit/cpu/als.py:95: RuntimeWarning: OpenBLAS is configured to use 4 threads. It is highly recommended to disable its internal threadpool by setting the environment variable 'OPENBLAS_NUM_THREADS=1' or by calling 'threadpoolctl.threadpool_limits(1, \"blas\")'. Having OpenBLAS use a threadpool can lead to severe performance issues here.\n",
      "  check_blas_config()\n"
     ]
    },
    {
     "data": {
      "application/vnd.jupyter.widget-view+json": {
       "model_id": "98e1c95b9d744dac975ab36129101670",
       "version_major": 2,
       "version_minor": 0
      },
      "text/plain": [
       "  0%|          | 0/1500 [00:00<?, ?it/s]"
      ]
     },
     "metadata": {},
     "output_type": "display_data"
    }
   ],
   "source": [
    "als_params = {\n",
    "    \"factors\": 100,\n",
    "    \"iterations\": 1500,\n",
    "    \"regularization\": 0.01,\n",
    "    \"random_state\": RANDOM_STATE,\n",
    "}\n",
    "\n",
    "als_model = AlternatingLeastSquares(**als_params)\n",
    "als_model.fit(user_item_matrix_train)"
   ]
  },
  {
   "cell_type": "markdown",
   "metadata": {},
   "source": [
    "Теперь мы можем использовать заполеннную матрицу, чтобы сгенерировать по 100 рекомендаций каждому пользователю:"
   ]
  },
  {
   "cell_type": "code",
   "execution_count": 77,
   "metadata": {},
   "outputs": [
    {
     "name": "stdout",
     "output_type": "stream",
     "text": [
      "CPU times: user 47 ms, sys: 12 ms, total: 59 ms\n",
      "Wall time: 19.9 ms\n"
     ]
    }
   ],
   "source": [
    "%%time\n",
    "# Retrieving all encoded user identifiers\n",
    "user_ids_encoded = range(len(user_encoder.classes_))\n",
    "\n",
    "# Getting recommendations for all users\n",
    "als_recommendations = als_model.recommend(\n",
    "    userid=user_ids_encoded, \n",
    "    user_items=user_item_matrix_train[user_ids_encoded], \n",
    "    filter_already_liked_items=False, \n",
    "    N=100,\n",
    ")"
   ]
  },
  {
   "cell_type": "markdown",
   "metadata": {},
   "source": [
    "Возвращаемая структура метода `recommend` представляет собой довольно трудно читаемую вещь, поэтому приведем результат расчетов в более удобный вид:"
   ]
  },
  {
   "cell_type": "code",
   "execution_count": 78,
   "metadata": {},
   "outputs": [
    {
     "data": {
      "text/html": [
       "<div>\n",
       "<style scoped>\n",
       "    .dataframe tbody tr th:only-of-type {\n",
       "        vertical-align: middle;\n",
       "    }\n",
       "\n",
       "    .dataframe tbody tr th {\n",
       "        vertical-align: top;\n",
       "    }\n",
       "\n",
       "    .dataframe thead th {\n",
       "        text-align: right;\n",
       "    }\n",
       "</style>\n",
       "<table border=\"1\" class=\"dataframe\">\n",
       "  <thead>\n",
       "    <tr style=\"text-align: right;\">\n",
       "      <th></th>\n",
       "      <th>user_id</th>\n",
       "      <th>item_id</th>\n",
       "      <th>score</th>\n",
       "    </tr>\n",
       "  </thead>\n",
       "  <tbody>\n",
       "    <tr>\n",
       "      <th>0</th>\n",
       "      <td>1879</td>\n",
       "      <td>10572</td>\n",
       "      <td>6.194431e-10</td>\n",
       "    </tr>\n",
       "    <tr>\n",
       "      <th>1</th>\n",
       "      <td>1879</td>\n",
       "      <td>171878</td>\n",
       "      <td>9.705780e-11</td>\n",
       "    </tr>\n",
       "    <tr>\n",
       "      <th>2</th>\n",
       "      <td>1879</td>\n",
       "      <td>461686</td>\n",
       "      <td>8.783430e-11</td>\n",
       "    </tr>\n",
       "    <tr>\n",
       "      <th>3</th>\n",
       "      <td>1879</td>\n",
       "      <td>76196</td>\n",
       "      <td>7.845110e-12</td>\n",
       "    </tr>\n",
       "    <tr>\n",
       "      <th>4</th>\n",
       "      <td>1879</td>\n",
       "      <td>51354</td>\n",
       "      <td>6.346625e-12</td>\n",
       "    </tr>\n",
       "    <tr>\n",
       "      <th>...</th>\n",
       "      <td>...</td>\n",
       "      <td>...</td>\n",
       "      <td>...</td>\n",
       "    </tr>\n",
       "    <tr>\n",
       "      <th>33595</th>\n",
       "      <td>1403769</td>\n",
       "      <td>85579</td>\n",
       "      <td>7.756401e-04</td>\n",
       "    </tr>\n",
       "    <tr>\n",
       "      <th>33596</th>\n",
       "      <td>1403769</td>\n",
       "      <td>116624</td>\n",
       "      <td>7.483548e-04</td>\n",
       "    </tr>\n",
       "    <tr>\n",
       "      <th>33597</th>\n",
       "      <td>1403769</td>\n",
       "      <td>355994</td>\n",
       "      <td>7.465404e-04</td>\n",
       "    </tr>\n",
       "    <tr>\n",
       "      <th>33598</th>\n",
       "      <td>1403769</td>\n",
       "      <td>5411</td>\n",
       "      <td>7.312116e-04</td>\n",
       "    </tr>\n",
       "    <tr>\n",
       "      <th>33599</th>\n",
       "      <td>1403769</td>\n",
       "      <td>286731</td>\n",
       "      <td>6.946141e-04</td>\n",
       "    </tr>\n",
       "  </tbody>\n",
       "</table>\n",
       "<p>29000 rows × 3 columns</p>\n",
       "</div>"
      ],
      "text/plain": [
       "       user_id  item_id         score\n",
       "0         1879    10572  6.194431e-10\n",
       "1         1879   171878  9.705780e-11\n",
       "2         1879   461686  8.783430e-11\n",
       "3         1879    76196  7.845110e-12\n",
       "4         1879    51354  6.346625e-12\n",
       "...        ...      ...           ...\n",
       "33595  1403769    85579  7.756401e-04\n",
       "33596  1403769   116624  7.483548e-04\n",
       "33597  1403769   355994  7.465404e-04\n",
       "33598  1403769     5411  7.312116e-04\n",
       "33599  1403769   286731  6.946141e-04\n",
       "\n",
       "[29000 rows x 3 columns]"
      ]
     },
     "execution_count": 78,
     "metadata": {},
     "output_type": "execute_result"
    }
   ],
   "source": [
    "# Separating identifiers and ALS-scores\n",
    "track_ids_encoded = als_recommendations[0]\n",
    "als_scores = als_recommendations[1]\n",
    "\n",
    "# Building a DataFrame of recommendations\n",
    "als_recommendations = pd.DataFrame({\n",
    "    \"user_id_encoded\": user_ids_encoded,\n",
    "    \"item_id_encoded\": track_ids_encoded.tolist(), \n",
    "    \"score\": als_scores.tolist(),\n",
    "})\n",
    "als_recommendations = als_recommendations.explode([\"item_id_encoded\", \"score\"], ignore_index=True)\n",
    "\n",
    "# Types conversions\n",
    "als_recommendations[\"item_id_encoded\"] = als_recommendations[\"item_id_encoded\"].astype(\"int\")\n",
    "als_recommendations[\"score\"] = als_recommendations[\"score\"].astype(\"float\")\n",
    "\n",
    "# Retrieving the original identifiers\n",
    "als_recommendations[\"user_id\"] = user_encoder.inverse_transform(als_recommendations[\"user_id_encoded\"])\n",
    "als_recommendations[\"item_id\"] = item_encoder.inverse_transform(als_recommendations[\"item_id_encoded\"])\n",
    "als_recommendations = als_recommendations.drop(columns=[\"user_id_encoded\", \"item_id_encoded\"])\n",
    "\n",
    "# Rearranging columns\n",
    "als_recommendations = als_recommendations[[\"user_id\", \"item_id\", \"score\"]]\n",
    "\n",
    "als_recommendations = als_recommendations.query(\"score != 0\")\n",
    "als_recommendations"
   ]
  },
  {
   "cell_type": "markdown",
   "metadata": {},
   "source": [
    "У нас получились персональные рекомендации, однако это лишь часть анализа. Сохраним данную выборку и чуть позднее залогируем."
   ]
  },
  {
   "cell_type": "code",
   "execution_count": 79,
   "metadata": {},
   "outputs": [],
   "source": [
    "als_recommendations.to_parquet(f\"{ASSETS_DIR}/personal_als.parquet\")"
   ]
  },
  {
   "cell_type": "markdown",
   "metadata": {},
   "source": [
    "#### Similar items"
   ]
  },
  {
   "cell_type": "markdown",
   "metadata": {},
   "source": [
    "В качестве онлайн рекомендаций будем использовать рекомендаций на основе контента, то есть будем рекомендовать похожие товары, с которыми взаимодействовал пользователь."
   ]
  },
  {
   "cell_type": "code",
   "execution_count": 80,
   "metadata": {},
   "outputs": [
    {
     "name": "stdout",
     "output_type": "stream",
     "text": [
      "CPU times: user 43.8 ms, sys: 19.1 ms, total: 62.9 ms\n",
      "Wall time: 17.1 ms\n"
     ]
    }
   ],
   "source": [
    "%%time\n",
    "train_item_ids_encoded = range(len(item_encoder.classes_))\n",
    "\n",
    "similar_items = als_model.similar_items(train_item_ids_encoded, N=5)"
   ]
  },
  {
   "cell_type": "code",
   "execution_count": 81,
   "metadata": {},
   "outputs": [
    {
     "data": {
      "text/html": [
       "<div>\n",
       "<style scoped>\n",
       "    .dataframe tbody tr th:only-of-type {\n",
       "        vertical-align: middle;\n",
       "    }\n",
       "\n",
       "    .dataframe tbody tr th {\n",
       "        vertical-align: top;\n",
       "    }\n",
       "\n",
       "    .dataframe thead th {\n",
       "        text-align: right;\n",
       "    }\n",
       "</style>\n",
       "<table border=\"1\" class=\"dataframe\">\n",
       "  <thead>\n",
       "    <tr style=\"text-align: right;\">\n",
       "      <th></th>\n",
       "      <th>itemid_1</th>\n",
       "      <th>itemid_2</th>\n",
       "      <th>score</th>\n",
       "    </tr>\n",
       "  </thead>\n",
       "  <tbody>\n",
       "    <tr>\n",
       "      <th>1</th>\n",
       "      <td>546</td>\n",
       "      <td>354585</td>\n",
       "      <td>0.764548</td>\n",
       "    </tr>\n",
       "    <tr>\n",
       "      <th>2</th>\n",
       "      <td>546</td>\n",
       "      <td>248455</td>\n",
       "      <td>0.626153</td>\n",
       "    </tr>\n",
       "    <tr>\n",
       "      <th>3</th>\n",
       "      <td>546</td>\n",
       "      <td>290999</td>\n",
       "      <td>0.615482</td>\n",
       "    </tr>\n",
       "    <tr>\n",
       "      <th>4</th>\n",
       "      <td>546</td>\n",
       "      <td>391484</td>\n",
       "      <td>0.581024</td>\n",
       "    </tr>\n",
       "    <tr>\n",
       "      <th>6</th>\n",
       "      <td>869</td>\n",
       "      <td>46130</td>\n",
       "      <td>0.646180</td>\n",
       "    </tr>\n",
       "    <tr>\n",
       "      <th>...</th>\n",
       "      <td>...</td>\n",
       "      <td>...</td>\n",
       "      <td>...</td>\n",
       "    </tr>\n",
       "    <tr>\n",
       "      <th>2394</th>\n",
       "      <td>465511</td>\n",
       "      <td>30024</td>\n",
       "      <td>0.600701</td>\n",
       "    </tr>\n",
       "    <tr>\n",
       "      <th>2396</th>\n",
       "      <td>465522</td>\n",
       "      <td>304877</td>\n",
       "      <td>0.582707</td>\n",
       "    </tr>\n",
       "    <tr>\n",
       "      <th>2397</th>\n",
       "      <td>465522</td>\n",
       "      <td>263258</td>\n",
       "      <td>0.456170</td>\n",
       "    </tr>\n",
       "    <tr>\n",
       "      <th>2398</th>\n",
       "      <td>465522</td>\n",
       "      <td>340825</td>\n",
       "      <td>0.445580</td>\n",
       "    </tr>\n",
       "    <tr>\n",
       "      <th>2399</th>\n",
       "      <td>465522</td>\n",
       "      <td>338660</td>\n",
       "      <td>0.422089</td>\n",
       "    </tr>\n",
       "  </tbody>\n",
       "</table>\n",
       "<p>1856 rows × 3 columns</p>\n",
       "</div>"
      ],
      "text/plain": [
       "      itemid_1  itemid_2     score\n",
       "1          546    354585  0.764548\n",
       "2          546    248455  0.626153\n",
       "3          546    290999  0.615482\n",
       "4          546    391484  0.581024\n",
       "6          869     46130  0.646180\n",
       "...        ...       ...       ...\n",
       "2394    465511     30024  0.600701\n",
       "2396    465522    304877  0.582707\n",
       "2397    465522    263258  0.456170\n",
       "2398    465522    340825  0.445580\n",
       "2399    465522    338660  0.422089\n",
       "\n",
       "[1856 rows x 3 columns]"
      ]
     },
     "execution_count": 81,
     "metadata": {},
     "output_type": "execute_result"
    }
   ],
   "source": [
    "# Separating identifiers from similarity scores\n",
    "sim_item_item_ids_enc = similar_items[0]\n",
    "sim_item_scores = similar_items[1]\n",
    "\n",
    "# Building a DataFrame of track similarities\n",
    "similar_items = pd.DataFrame({\n",
    "    \"itemid_encoded\": train_item_ids_encoded,\n",
    "    \"sim_itemid_encoded\": sim_item_item_ids_enc.tolist(), \n",
    "    \"score\": sim_item_scores.tolist()})\n",
    "similar_items = similar_items.explode([\"sim_itemid_encoded\", \"score\"], ignore_index=True)\n",
    "\n",
    "# Converting types\n",
    "similar_items[\"sim_itemid_encoded\"] = similar_items[\"sim_itemid_encoded\"].astype(\"int64\")\n",
    "similar_items[\"score\"] = similar_items[\"score\"].astype(\"float\")\n",
    "\n",
    "# Retrieving original track identifiers\n",
    "similar_items[\"itemid_1\"] = item_encoder.inverse_transform(similar_items[\"itemid_encoded\"])\n",
    "similar_items[\"itemid_2\"] = item_encoder.inverse_transform(similar_items[\"sim_itemid_encoded\"])\n",
    "similar_items = similar_items.drop(columns=[\"itemid_encoded\", \"sim_itemid_encoded\"])\n",
    "\n",
    "# Filtering out tracks similar to themselves\n",
    "similar_items = similar_items.query(\"itemid_1 != itemid_2\")\n",
    "\n",
    "similar_items = similar_items[[\"itemid_1\", \"itemid_2\", \"score\"]]\n",
    "similar_items = similar_items.query(\"score != 0\")\n",
    "similar_items"
   ]
  },
  {
   "cell_type": "code",
   "execution_count": 82,
   "metadata": {},
   "outputs": [
    {
     "data": {
      "text/html": [
       "<div>\n",
       "<style scoped>\n",
       "    .dataframe tbody tr th:only-of-type {\n",
       "        vertical-align: middle;\n",
       "    }\n",
       "\n",
       "    .dataframe tbody tr th {\n",
       "        vertical-align: top;\n",
       "    }\n",
       "\n",
       "    .dataframe thead th {\n",
       "        text-align: right;\n",
       "    }\n",
       "</style>\n",
       "<table border=\"1\" class=\"dataframe\">\n",
       "  <thead>\n",
       "    <tr style=\"text-align: right;\">\n",
       "      <th></th>\n",
       "      <th>id</th>\n",
       "      <th>rec_id</th>\n",
       "      <th>itemid_1</th>\n",
       "      <th>itemid_2</th>\n",
       "      <th>score</th>\n",
       "    </tr>\n",
       "  </thead>\n",
       "  <tbody>\n",
       "    <tr>\n",
       "      <th>0</th>\n",
       "      <td>1</td>\n",
       "      <td>1</td>\n",
       "      <td>546</td>\n",
       "      <td>354585</td>\n",
       "      <td>0.764548</td>\n",
       "    </tr>\n",
       "    <tr>\n",
       "      <th>1</th>\n",
       "      <td>2</td>\n",
       "      <td>2</td>\n",
       "      <td>546</td>\n",
       "      <td>248455</td>\n",
       "      <td>0.626153</td>\n",
       "    </tr>\n",
       "    <tr>\n",
       "      <th>2</th>\n",
       "      <td>3</td>\n",
       "      <td>3</td>\n",
       "      <td>546</td>\n",
       "      <td>290999</td>\n",
       "      <td>0.615482</td>\n",
       "    </tr>\n",
       "    <tr>\n",
       "      <th>3</th>\n",
       "      <td>4</td>\n",
       "      <td>4</td>\n",
       "      <td>546</td>\n",
       "      <td>391484</td>\n",
       "      <td>0.581024</td>\n",
       "    </tr>\n",
       "    <tr>\n",
       "      <th>4</th>\n",
       "      <td>5</td>\n",
       "      <td>6</td>\n",
       "      <td>869</td>\n",
       "      <td>46130</td>\n",
       "      <td>0.646180</td>\n",
       "    </tr>\n",
       "    <tr>\n",
       "      <th>...</th>\n",
       "      <td>...</td>\n",
       "      <td>...</td>\n",
       "      <td>...</td>\n",
       "      <td>...</td>\n",
       "      <td>...</td>\n",
       "    </tr>\n",
       "    <tr>\n",
       "      <th>1851</th>\n",
       "      <td>1852</td>\n",
       "      <td>2394</td>\n",
       "      <td>465511</td>\n",
       "      <td>30024</td>\n",
       "      <td>0.600701</td>\n",
       "    </tr>\n",
       "    <tr>\n",
       "      <th>1852</th>\n",
       "      <td>1853</td>\n",
       "      <td>2396</td>\n",
       "      <td>465522</td>\n",
       "      <td>304877</td>\n",
       "      <td>0.582707</td>\n",
       "    </tr>\n",
       "    <tr>\n",
       "      <th>1853</th>\n",
       "      <td>1854</td>\n",
       "      <td>2397</td>\n",
       "      <td>465522</td>\n",
       "      <td>263258</td>\n",
       "      <td>0.456170</td>\n",
       "    </tr>\n",
       "    <tr>\n",
       "      <th>1854</th>\n",
       "      <td>1855</td>\n",
       "      <td>2398</td>\n",
       "      <td>465522</td>\n",
       "      <td>340825</td>\n",
       "      <td>0.445580</td>\n",
       "    </tr>\n",
       "    <tr>\n",
       "      <th>1855</th>\n",
       "      <td>1856</td>\n",
       "      <td>2399</td>\n",
       "      <td>465522</td>\n",
       "      <td>338660</td>\n",
       "      <td>0.422089</td>\n",
       "    </tr>\n",
       "  </tbody>\n",
       "</table>\n",
       "<p>1856 rows × 5 columns</p>\n",
       "</div>"
      ],
      "text/plain": [
       "        id  rec_id  itemid_1  itemid_2     score\n",
       "0        1       1       546    354585  0.764548\n",
       "1        2       2       546    248455  0.626153\n",
       "2        3       3       546    290999  0.615482\n",
       "3        4       4       546    391484  0.581024\n",
       "4        5       6       869     46130  0.646180\n",
       "...    ...     ...       ...       ...       ...\n",
       "1851  1852    2394    465511     30024  0.600701\n",
       "1852  1853    2396    465522    304877  0.582707\n",
       "1853  1854    2397    465522    263258  0.456170\n",
       "1854  1855    2398    465522    340825  0.445580\n",
       "1855  1856    2399    465522    338660  0.422089\n",
       "\n",
       "[1856 rows x 5 columns]"
      ]
     },
     "execution_count": 82,
     "metadata": {},
     "output_type": "execute_result"
    }
   ],
   "source": [
    "similar_items = similar_items.reset_index().reset_index()\n",
    "similar_items[\"level_0\"] = similar_items[\"level_0\"] + 1\n",
    "similar_items = similar_items.rename(\n",
    "    columns={\n",
    "        \"index\": \"rec_id\",\n",
    "        \"level_0\": \"id\",\n",
    "    }\n",
    ")\n",
    "similar_items"
   ]
  },
  {
   "cell_type": "code",
   "execution_count": 83,
   "metadata": {},
   "outputs": [
    {
     "data": {
      "text/plain": [
       "array([  546,   869,  2836,  4001,  5411,  5470,  7943,  9211,  9877,\n",
       "       10516, 10572, 11279, 11663, 11670, 12217, 12765, 13925, 14671,\n",
       "       15948, 16813, 17108, 17478, 20981, 21455, 22436, 22926, 23683,\n",
       "       23762, 24734, 29100])"
      ]
     },
     "execution_count": 83,
     "metadata": {},
     "output_type": "execute_result"
    }
   ],
   "source": [
    "similar_items.itemid_1.unique()[:30]"
   ]
  },
  {
   "cell_type": "markdown",
   "metadata": {},
   "source": [
    "Такие рекомендации можем теперь сохранить в директории с Airflow:"
   ]
  },
  {
   "cell_type": "code",
   "execution_count": 84,
   "metadata": {},
   "outputs": [],
   "source": [
    "similar_items.to_parquet(f\"{POSTGRES_DATA_DIR}/similar.parquet\")"
   ]
  },
  {
   "cell_type": "markdown",
   "metadata": {},
   "source": [
    "### Logging artifacts (Mlflow)"
   ]
  },
  {
   "cell_type": "markdown",
   "metadata": {},
   "source": [
    "Помимо самих рекомендаций и прочих файлов, мы залогируем и зарегистрируем саму ALS-модель. Поскольку сама модель не является *callable*-объектом, нам нужно обернуть модель в кастомную *mlflow*-модель с методами ниже. Здесь необходимо определить метод `predict`, аналога которого нет у нашей модели, однако есть нечто похожее на него - метод `recommend`. Его то и определим в методе кастомного класса."
   ]
  },
  {
   "cell_type": "code",
   "execution_count": 85,
   "metadata": {},
   "outputs": [],
   "source": [
    "class ALSModel(mlflow.pyfunc.PythonModel):\n",
    "    \"\"\"Custom model for wrapping ALS-model.\"\"\"\n",
    "\n",
    "    def __init__(self, model, user_ids_encoded, filter_already_liked_items, N):\n",
    "        \"\"\"Instantiating a model instance.\"\"\"\n",
    "        super().__init__()\n",
    "        self._model = model\n",
    "        self.user_ids_encoded = user_ids_encoded\n",
    "        self.filter_already_liked_items = filter_already_liked_items\n",
    "        self.N = N\n",
    "    \n",
    "    def predict(self, context, model_input):\n",
    "        \"\"\"Generates recommendations.\"\"\"\n",
    "        als_recommendations = self._model.recommend(\n",
    "            userid=self.user_ids_encoded, \n",
    "            user_items=model_input[self.user_ids_encoded], \n",
    "            filter_already_liked_items=self.filter_already_liked_items, \n",
    "            N=self.N,\n",
    "        )\n",
    "\n",
    "        return als_recommendations"
   ]
  },
  {
   "cell_type": "markdown",
   "metadata": {},
   "source": [
    "Теперь можем создать инстанс модели:"
   ]
  },
  {
   "cell_type": "code",
   "execution_count": 86,
   "metadata": {},
   "outputs": [],
   "source": [
    "als_model_mlflow = ALSModel(\n",
    "    model=als_model,\n",
    "    user_ids_encoded=user_ids_encoded,\n",
    "    filter_already_liked_items=False,\n",
    "    N=3,\n",
    ")"
   ]
  },
  {
   "cell_type": "markdown",
   "metadata": {},
   "source": [
    "Наконец теперь мы может залогировать артефакты, полученные на данном этапе в новый ран. Будем логировать данные о событиях, которые мы получили после фильтрации редких событий, рекомендации, кодировщики и саму модель:"
   ]
  },
  {
   "cell_type": "code",
   "execution_count": 88,
   "metadata": {},
   "outputs": [
    {
     "name": "stderr",
     "output_type": "stream",
     "text": [
      "Registered model 'als_model_train' already exists. Creating a new version of this model...\n",
      "2024/10/04 22:21:27 INFO mlflow.store.model_registry.abstract_store: Waiting up to 300 seconds for model version to finish creation. Model name: als_model_train, version 4\n",
      "Created version '4' of model 'als_model_train'.\n",
      "2024/10/04 22:21:27 WARNING mlflow.models.model: Input example should be provided to infer model signature if the model signature is not provided when logging the model.\n",
      "2024/10/04 22:21:27 INFO mlflow.tracking._tracking_service.client: 🏃 View run recommendations_generation at: http://127.0.0.1:5000/#/experiments/19/runs/bf94771ea33545f0b54aaff74c6653e3.\n",
      "2024/10/04 22:21:27 INFO mlflow.tracking._tracking_service.client: 🧪 View experiment at: http://127.0.0.1:5000/#/experiments/19.\n"
     ]
    }
   ],
   "source": [
    "RUN_NAME = \"recommendations_generation\"\n",
    "REGISTERED_MODEL_NAME = \"als_model_train\"\n",
    "with mlflow.start_run(run_name=RUN_NAME, experiment_id=experiment_id) as run:\n",
    "    \n",
    "    run_id = run.info.run_id\n",
    "    \n",
    "    # Logging events data\n",
    "    mlflow.log_artifact(f\"{ASSETS_DIR}/events.parquet\", \"data\")\n",
    "    \n",
    "    # Logging recommendations generated\n",
    "    mlflow.log_artifact(f\"{ASSETS_DIR}/personal_als.parquet\", \"recommendations\")\n",
    "    mlflow.log_artifact(f\"{POSTGRES_DATA_DIR}/top_popular.parquet\", \"recommendations\")\n",
    "    mlflow.log_artifact(f\"{POSTGRES_DATA_DIR}/similar.parquet\", \"recommendations\")\n",
    "\n",
    "    # Logging encoders for user and item ids\n",
    "    mlflow.log_artifact(f\"{ASSETS_DIR}/user_encoder.pkl\", \"encoders\")\n",
    "    mlflow.log_artifact(f\"{ASSETS_DIR}/item_encoder.pkl\", \"encoders\")\n",
    "    \n",
    "    # Logging ALS model and its params\n",
    "    mlflow.log_params(als_params)\n",
    "    model_info = mlflow.pyfunc.log_model(\n",
    "        registered_model_name=REGISTERED_MODEL_NAME,\n",
    "        python_model=als_model_mlflow,\n",
    "        pip_requirements = '../requirements.txt', \n",
    "        artifact_path='models',\n",
    "    )"
   ]
  },
  {
   "cell_type": "markdown",
   "metadata": {},
   "source": [
    "Проверим теперь, сможем ли мы загрузить и использовать зарегистрированную и залогированную ALS-модель:"
   ]
  },
  {
   "cell_type": "code",
   "execution_count": 89,
   "metadata": {},
   "outputs": [
    {
     "data": {
      "application/vnd.jupyter.widget-view+json": {
       "model_id": "d53abdb3c36a4df4abd84a57d86bf307",
       "version_major": 2,
       "version_minor": 0
      },
      "text/plain": [
       "Downloading artifacts:   0%|          | 0/5 [00:00<?, ?it/s]"
      ]
     },
     "metadata": {},
     "output_type": "display_data"
    }
   ],
   "source": [
    "als_model_loaded = mlflow.pyfunc.load_model(\n",
    "    model_uri=model_info.model_uri,\n",
    ")"
   ]
  },
  {
   "cell_type": "code",
   "execution_count": 90,
   "metadata": {},
   "outputs": [
    {
     "data": {
      "text/plain": [
       "(array([[ 10, 149, 470],\n",
       "        [  2,   1,   0],\n",
       "        [331, 187, 269],\n",
       "        ...,\n",
       "        [  2,   1,   0],\n",
       "        [305, 408, 343],\n",
       "        [305,  31, 408]], dtype=int32),\n",
       " array([[6.1944311e-10, 9.7057799e-11, 8.7834295e-11],\n",
       "        [0.0000000e+00, 0.0000000e+00, 0.0000000e+00],\n",
       "        [4.3263874e+00, 9.9765348e-01, 9.8187900e-01],\n",
       "        ...,\n",
       "        [0.0000000e+00, 0.0000000e+00, 0.0000000e+00],\n",
       "        [6.0083979e-11, 1.6982582e-11, 1.0146054e-11],\n",
       "        [9.9993491e-01, 9.9909872e-01, 9.9500054e-01]], dtype=float32))"
      ]
     },
     "execution_count": 90,
     "metadata": {},
     "output_type": "execute_result"
    }
   ],
   "source": [
    "als_model_loaded.predict(user_item_matrix_train)"
   ]
  },
  {
   "cell_type": "markdown",
   "metadata": {},
   "source": [
    "## Building ranking model"
   ]
  },
  {
   "cell_type": "markdown",
   "metadata": {},
   "source": [
    "### Candidates for train"
   ]
  },
  {
   "cell_type": "markdown",
   "metadata": {},
   "source": [
    "Теперь когда у нас есть дефолтные рекомендации топа-100 и контентные рекомендации, то нам осталось лишь создать ранжирующую модель и отранжировать тестовые рекомендации. Для этого для начала разделим тестовую выборку на еще две:"
   ]
  },
  {
   "cell_type": "code",
   "execution_count": 91,
   "metadata": {},
   "outputs": [
    {
     "name": "stdout",
     "output_type": "stream",
     "text": [
      "(2619, 8) (1394, 8)\n"
     ]
    }
   ],
   "source": [
    "split_date_for_labels = pd.to_datetime(\"2015-09-01\")\n",
    "\n",
    "split_date_for_labels_idx = events_test[\"executed_at\"] < split_date_for_labels\n",
    "events_labels = events_test[split_date_for_labels_idx].copy()\n",
    "events_test_2 = events_test[~split_date_for_labels_idx].copy()\n",
    "\n",
    "print(events_labels.shape, events_test_2.shape)"
   ]
  },
  {
   "cell_type": "code",
   "execution_count": 92,
   "metadata": {},
   "outputs": [
    {
     "data": {
      "text/plain": [
       "event\n",
       "view         2375\n",
       "addtocart     244\n",
       "Name: count, dtype: int64"
      ]
     },
     "execution_count": 92,
     "metadata": {},
     "output_type": "execute_result"
    }
   ],
   "source": [
    "events_labels.event.value_counts()"
   ]
  },
  {
   "cell_type": "code",
   "execution_count": 93,
   "metadata": {},
   "outputs": [
    {
     "data": {
      "text/plain": [
       "event\n",
       "view         1277\n",
       "addtocart     117\n",
       "Name: count, dtype: int64"
      ]
     },
     "execution_count": 93,
     "metadata": {},
     "output_type": "execute_result"
    }
   ],
   "source": [
    "events_test_2.event.value_counts()"
   ]
  },
  {
   "cell_type": "markdown",
   "metadata": {},
   "source": [
    "Чтобы создать датасеты, при помощи которых будет происходить тренировка и инференс модели, нужно разметить первый сплит теста `events_labels`. Причем единицей (то есть событием, при котором рекомендация действительно оказалась `addtocart`) будем отмечать те рекомендации, которые имеют статус `addtocart`. Таким образом мы сможет построить модель, которая будет предсказывать вероятность, что некоторая рекомендация приведет к событию `addtocart`."
   ]
  },
  {
   "cell_type": "code",
   "execution_count": 94,
   "metadata": {},
   "outputs": [],
   "source": [
    "events_labels[\"target\"] = 0\n",
    "events_labels.loc[(events_labels[\"event\"] == 'addtocart'), \"target\"] = 1"
   ]
  },
  {
   "cell_type": "markdown",
   "metadata": {},
   "source": [
    "Теперь фактически мы должны взять наши рекомендации `als_recommendations` и смержить с `events_labels`, чтобы мы смогли понять, сколько из сгенерированных рекомендаций действительно имеют статус `addtocart`. Однако, чтобы избежать увеличения результирующего датафрейма ввиду дубликатов событий в `events_labels`, мы уберем дубликаты из `events_labels` таким образом, что будем для данного пользователя и товара оставлять дубликат с статусом `addtocart` (если таковой имеется) и дубликат со статусом `view` в противном случае. Иными словами, в случае ошибки `MergeError` из `events_labels` будет выбираться последний дубликат (либо `view`, либо `addtocart`, что достигается сортировкой названия статуса события)."
   ]
  },
  {
   "cell_type": "code",
   "execution_count": 95,
   "metadata": {},
   "outputs": [
    {
     "name": "stdout",
     "output_type": "stream",
     "text": [
      "Merge keys are not unique in right dataset; not a many-to-one merge\n",
      "\n",
      "Removing duplicates...\n"
     ]
    }
   ],
   "source": [
    "try:\n",
    "    candidates = als_recommendations.merge(\n",
    "        events_labels[[\"user_id\", \"item_id\", \"target\"]],\n",
    "        on=[\"user_id\", \"item_id\"],\n",
    "        how=\"left\",\n",
    "        validate=\"many_to_one\",\n",
    "    )\n",
    "except MergeError as exc:\n",
    "    print(exc)\n",
    "    print(\"\\nRemoving duplicates...\")\n",
    "    events_labels = events_labels \\\n",
    "                .sort_values(by=[\"item_id\", \"event\"], ascending=[True, False]) \\\n",
    "                .drop_duplicates(subset=[\"user_id\", \"item_id\"], keep=\"last\")\n",
    "    candidates = als_recommendations.merge(\n",
    "        events_labels[[\"user_id\", \"item_id\", \"target\"]],\n",
    "        on=[\"user_id\", \"item_id\"],\n",
    "        how=\"left\",\n",
    "        validate=\"many_to_one\",\n",
    "    )\n",
    "\n",
    "# Replacing NaNs with zero (negative class)\n",
    "candidates[\"target\"] = candidates[\"target\"].fillna(0).astype(\"int\")"
   ]
  },
  {
   "cell_type": "code",
   "execution_count": 96,
   "metadata": {},
   "outputs": [
    {
     "data": {
      "text/plain": [
       "target\n",
       "0    28938\n",
       "1       62\n",
       "Name: count, dtype: int64"
      ]
     },
     "execution_count": 96,
     "metadata": {},
     "output_type": "execute_result"
    }
   ],
   "source": [
    "candidates.target.value_counts()"
   ]
  },
  {
   "cell_type": "markdown",
   "metadata": {},
   "source": [
    "Итак наблюдаем, что мы получили очень сильный дисбаланс. Причин здесь могут быть несколько, однако самая очевидная заключается в том, что мы на самом деле не получили хороших рекомендаций в `als_recommendations`, то есть выявили малое количество целевых действий пользователей с товарами. Было предпринято множество способов борьбы с этим: испытание различных значений `als_params`, а также корректирование рейтинга не привело в ощутимо значимым изменениям, все время получался довольно сильный дисбаланс. Вторая причина может состоять в том, что матрица, на которой обучалась ALS-модель очень разрежена, что приводит к таким результатам. Как было замечено в процессе EDA, у нас есть очень сильный разброс между числом просмотров и число добавлений в корзину.\n",
    "\n",
    "Чтобы хотя бы как-то попытаться уменьшить дисбаланс, возьмем от отрицательных примеров случайные 10:"
   ]
  },
  {
   "cell_type": "code",
   "execution_count": 97,
   "metadata": {},
   "outputs": [
    {
     "name": "stdout",
     "output_type": "stream",
     "text": [
      "CPU times: user 98.3 ms, sys: 2.58 ms, total: 101 ms\n",
      "Wall time: 100 ms\n"
     ]
    }
   ],
   "source": [
    "%%time\n",
    "candidates_for_train = pd.concat([\n",
    "    candidates.query(\"target == 1\"),\n",
    "    candidates.query(\"target == 0\") \\\n",
    "        .groupby(\"user_id\") \\\n",
    "        .apply(lambda x: x.sample(10, random_state=RANDOM_STATE))\n",
    "])"
   ]
  },
  {
   "cell_type": "code",
   "execution_count": 98,
   "metadata": {},
   "outputs": [
    {
     "data": {
      "text/html": [
       "<div>\n",
       "<style scoped>\n",
       "    .dataframe tbody tr th:only-of-type {\n",
       "        vertical-align: middle;\n",
       "    }\n",
       "\n",
       "    .dataframe tbody tr th {\n",
       "        vertical-align: top;\n",
       "    }\n",
       "\n",
       "    .dataframe thead th {\n",
       "        text-align: right;\n",
       "    }\n",
       "</style>\n",
       "<table border=\"1\" class=\"dataframe\">\n",
       "  <thead>\n",
       "    <tr style=\"text-align: right;\">\n",
       "      <th></th>\n",
       "      <th>user_id</th>\n",
       "      <th>item_id</th>\n",
       "      <th>score</th>\n",
       "      <th>target</th>\n",
       "    </tr>\n",
       "  </thead>\n",
       "  <tbody>\n",
       "    <tr>\n",
       "      <th>0</th>\n",
       "      <td>152963</td>\n",
       "      <td>228392</td>\n",
       "      <td>8.669176e-12</td>\n",
       "      <td>1</td>\n",
       "    </tr>\n",
       "    <tr>\n",
       "      <th>1</th>\n",
       "      <td>152963</td>\n",
       "      <td>234255</td>\n",
       "      <td>5.142519e-12</td>\n",
       "      <td>1</td>\n",
       "    </tr>\n",
       "    <tr>\n",
       "      <th>2</th>\n",
       "      <td>152963</td>\n",
       "      <td>372188</td>\n",
       "      <td>4.685686e-12</td>\n",
       "      <td>1</td>\n",
       "    </tr>\n",
       "    <tr>\n",
       "      <th>3</th>\n",
       "      <td>152963</td>\n",
       "      <td>450082</td>\n",
       "      <td>2.879178e-12</td>\n",
       "      <td>1</td>\n",
       "    </tr>\n",
       "    <tr>\n",
       "      <th>4</th>\n",
       "      <td>152963</td>\n",
       "      <td>391484</td>\n",
       "      <td>2.284472e-12</td>\n",
       "      <td>1</td>\n",
       "    </tr>\n",
       "  </tbody>\n",
       "</table>\n",
       "</div>"
      ],
      "text/plain": [
       "   user_id  item_id         score  target\n",
       "0   152963   228392  8.669176e-12       1\n",
       "1   152963   234255  5.142519e-12       1\n",
       "2   152963   372188  4.685686e-12       1\n",
       "3   152963   450082  2.879178e-12       1\n",
       "4   152963   391484  2.284472e-12       1"
      ]
     },
     "metadata": {},
     "output_type": "display_data"
    },
    {
     "name": "stdout",
     "output_type": "stream",
     "text": [
      "<class 'pandas.core.frame.DataFrame'>\n",
      "RangeIndex: 2962 entries, 0 to 2961\n",
      "Data columns (total 4 columns):\n",
      " #   Column   Non-Null Count  Dtype  \n",
      "---  ------   --------------  -----  \n",
      " 0   user_id  2962 non-null   int64  \n",
      " 1   item_id  2962 non-null   int64  \n",
      " 2   score    2962 non-null   float64\n",
      " 3   target   2962 non-null   int64  \n",
      "dtypes: float64(1), int64(3)\n",
      "memory usage: 92.7 KB\n"
     ]
    },
    {
     "data": {
      "text/plain": [
       "None"
      ]
     },
     "metadata": {},
     "output_type": "display_data"
    }
   ],
   "source": [
    "candidates_for_train = candidates_for_train.reset_index(drop=True)\n",
    "display(candidates_for_train.head())\n",
    "display(candidates_for_train.info())"
   ]
  },
  {
   "cell_type": "code",
   "execution_count": 99,
   "metadata": {},
   "outputs": [
    {
     "data": {
      "text/plain": [
       "target\n",
       "0    0.979068\n",
       "1    0.020932\n",
       "Name: proportion, dtype: float64"
      ]
     },
     "execution_count": 99,
     "metadata": {},
     "output_type": "execute_result"
    }
   ],
   "source": [
    "candidates_for_train.target.value_counts(normalize=True)"
   ]
  },
  {
   "cell_type": "markdown",
   "metadata": {},
   "source": [
    "Итак, мы получили кандидатов для тренировки модели. Немного изменим датафрейм, чтобы его подготовить к загрузке в базу данных на этапе выполнения графов Airflow:"
   ]
  },
  {
   "cell_type": "code",
   "execution_count": 100,
   "metadata": {},
   "outputs": [
    {
     "data": {
      "text/html": [
       "<div>\n",
       "<style scoped>\n",
       "    .dataframe tbody tr th:only-of-type {\n",
       "        vertical-align: middle;\n",
       "    }\n",
       "\n",
       "    .dataframe tbody tr th {\n",
       "        vertical-align: top;\n",
       "    }\n",
       "\n",
       "    .dataframe thead th {\n",
       "        text-align: right;\n",
       "    }\n",
       "</style>\n",
       "<table border=\"1\" class=\"dataframe\">\n",
       "  <thead>\n",
       "    <tr style=\"text-align: right;\">\n",
       "      <th></th>\n",
       "      <th>id</th>\n",
       "      <th>rec_id</th>\n",
       "      <th>user_id</th>\n",
       "      <th>item_id</th>\n",
       "      <th>als_score</th>\n",
       "      <th>target</th>\n",
       "    </tr>\n",
       "  </thead>\n",
       "  <tbody>\n",
       "    <tr>\n",
       "      <th>0</th>\n",
       "      <td>1</td>\n",
       "      <td>0</td>\n",
       "      <td>152963</td>\n",
       "      <td>228392</td>\n",
       "      <td>8.669176e-12</td>\n",
       "      <td>1</td>\n",
       "    </tr>\n",
       "    <tr>\n",
       "      <th>1</th>\n",
       "      <td>2</td>\n",
       "      <td>1</td>\n",
       "      <td>152963</td>\n",
       "      <td>234255</td>\n",
       "      <td>5.142519e-12</td>\n",
       "      <td>1</td>\n",
       "    </tr>\n",
       "    <tr>\n",
       "      <th>2</th>\n",
       "      <td>3</td>\n",
       "      <td>2</td>\n",
       "      <td>152963</td>\n",
       "      <td>372188</td>\n",
       "      <td>4.685686e-12</td>\n",
       "      <td>1</td>\n",
       "    </tr>\n",
       "    <tr>\n",
       "      <th>3</th>\n",
       "      <td>4</td>\n",
       "      <td>3</td>\n",
       "      <td>152963</td>\n",
       "      <td>450082</td>\n",
       "      <td>2.879178e-12</td>\n",
       "      <td>1</td>\n",
       "    </tr>\n",
       "    <tr>\n",
       "      <th>4</th>\n",
       "      <td>5</td>\n",
       "      <td>4</td>\n",
       "      <td>152963</td>\n",
       "      <td>391484</td>\n",
       "      <td>2.284472e-12</td>\n",
       "      <td>1</td>\n",
       "    </tr>\n",
       "    <tr>\n",
       "      <th>...</th>\n",
       "      <td>...</td>\n",
       "      <td>...</td>\n",
       "      <td>...</td>\n",
       "      <td>...</td>\n",
       "      <td>...</td>\n",
       "      <td>...</td>\n",
       "    </tr>\n",
       "    <tr>\n",
       "      <th>2957</th>\n",
       "      <td>2958</td>\n",
       "      <td>2957</td>\n",
       "      <td>1403769</td>\n",
       "      <td>210087</td>\n",
       "      <td>1.174958e-02</td>\n",
       "      <td>0</td>\n",
       "    </tr>\n",
       "    <tr>\n",
       "      <th>2958</th>\n",
       "      <td>2959</td>\n",
       "      <td>2958</td>\n",
       "      <td>1403769</td>\n",
       "      <td>186256</td>\n",
       "      <td>2.249150e-03</td>\n",
       "      <td>0</td>\n",
       "    </tr>\n",
       "    <tr>\n",
       "      <th>2959</th>\n",
       "      <td>2960</td>\n",
       "      <td>2959</td>\n",
       "      <td>1403769</td>\n",
       "      <td>126332</td>\n",
       "      <td>2.662704e-03</td>\n",
       "      <td>0</td>\n",
       "    </tr>\n",
       "    <tr>\n",
       "      <th>2960</th>\n",
       "      <td>2961</td>\n",
       "      <td>2960</td>\n",
       "      <td>1403769</td>\n",
       "      <td>60980</td>\n",
       "      <td>1.557524e-03</td>\n",
       "      <td>0</td>\n",
       "    </tr>\n",
       "    <tr>\n",
       "      <th>2961</th>\n",
       "      <td>2962</td>\n",
       "      <td>2961</td>\n",
       "      <td>1403769</td>\n",
       "      <td>286731</td>\n",
       "      <td>6.946141e-04</td>\n",
       "      <td>0</td>\n",
       "    </tr>\n",
       "  </tbody>\n",
       "</table>\n",
       "<p>2962 rows × 6 columns</p>\n",
       "</div>"
      ],
      "text/plain": [
       "        id  rec_id  user_id  item_id     als_score  target\n",
       "0        1       0   152963   228392  8.669176e-12       1\n",
       "1        2       1   152963   234255  5.142519e-12       1\n",
       "2        3       2   152963   372188  4.685686e-12       1\n",
       "3        4       3   152963   450082  2.879178e-12       1\n",
       "4        5       4   152963   391484  2.284472e-12       1\n",
       "...    ...     ...      ...      ...           ...     ...\n",
       "2957  2958    2957  1403769   210087  1.174958e-02       0\n",
       "2958  2959    2958  1403769   186256  2.249150e-03       0\n",
       "2959  2960    2959  1403769   126332  2.662704e-03       0\n",
       "2960  2961    2960  1403769    60980  1.557524e-03       0\n",
       "2961  2962    2961  1403769   286731  6.946141e-04       0\n",
       "\n",
       "[2962 rows x 6 columns]"
      ]
     },
     "execution_count": 100,
     "metadata": {},
     "output_type": "execute_result"
    }
   ],
   "source": [
    "candidates_train = candidates_for_train.reset_index()\n",
    "candidates_train = candidates_train.rename(columns={\n",
    "    \"index\": \"rec_id\",\n",
    "    \"score\": \"als_score\",\n",
    "})\n",
    "candidates_train[\"id\"] = candidates_train.reset_index()[\"index\"] + 1\n",
    "candidates_train = candidates_train[[\"id\", \"rec_id\", \"user_id\", \"item_id\", \"als_score\", \"target\"]]\n",
    "candidates_train"
   ]
  },
  {
   "cell_type": "markdown",
   "metadata": {},
   "source": [
    "#### Adding features"
   ]
  },
  {
   "cell_type": "markdown",
   "metadata": {},
   "source": [
    "Добавим к данным дополнительных фичей, которые мы создали в конце этапа EDA: \n",
    "\n",
    "* `category_props` => `category_id`, `parent_id`\n",
    "* `availability_props` => `available`"
   ]
  },
  {
   "cell_type": "code",
   "execution_count": 101,
   "metadata": {},
   "outputs": [],
   "source": [
    "candidates_train = candidates_train.merge(\n",
    "    category_props[[\"item_id\", \"category_id\", \"parent_id\"]],\n",
    "    on=\"item_id\",\n",
    "    how=\"left\",\n",
    "    validate=\"many_to_one\"\n",
    ")\n",
    "\n",
    "candidates_train = candidates_train.dropna()\n",
    "candidates_train[\"category_id\"] = candidates_train[\"category_id\"].astype(\"int64\")\n",
    "candidates_train[\"parent_id\"] = candidates_train[\"parent_id\"].astype(\"int64\")"
   ]
  },
  {
   "cell_type": "code",
   "execution_count": 102,
   "metadata": {},
   "outputs": [],
   "source": [
    "candidates_train = candidates_train.merge(\n",
    "    availability_props[[\"item_id\", \"available\"]],\n",
    "    on=\"item_id\",\n",
    "    how=\"left\",\n",
    "    validate=\"many_to_one\",\n",
    ")"
   ]
  },
  {
   "cell_type": "code",
   "execution_count": 103,
   "metadata": {},
   "outputs": [
    {
     "data": {
      "text/html": [
       "<div>\n",
       "<style scoped>\n",
       "    .dataframe tbody tr th:only-of-type {\n",
       "        vertical-align: middle;\n",
       "    }\n",
       "\n",
       "    .dataframe tbody tr th {\n",
       "        vertical-align: top;\n",
       "    }\n",
       "\n",
       "    .dataframe thead th {\n",
       "        text-align: right;\n",
       "    }\n",
       "</style>\n",
       "<table border=\"1\" class=\"dataframe\">\n",
       "  <thead>\n",
       "    <tr style=\"text-align: right;\">\n",
       "      <th></th>\n",
       "      <th>id</th>\n",
       "      <th>rec_id</th>\n",
       "      <th>user_id</th>\n",
       "      <th>item_id</th>\n",
       "      <th>als_score</th>\n",
       "      <th>target</th>\n",
       "      <th>category_id</th>\n",
       "      <th>parent_id</th>\n",
       "      <th>available</th>\n",
       "    </tr>\n",
       "  </thead>\n",
       "  <tbody>\n",
       "    <tr>\n",
       "      <th>0</th>\n",
       "      <td>1</td>\n",
       "      <td>0</td>\n",
       "      <td>152963</td>\n",
       "      <td>228392</td>\n",
       "      <td>8.669176e-12</td>\n",
       "      <td>1</td>\n",
       "      <td>1349</td>\n",
       "      <td>121</td>\n",
       "      <td>0</td>\n",
       "    </tr>\n",
       "    <tr>\n",
       "      <th>1</th>\n",
       "      <td>2</td>\n",
       "      <td>1</td>\n",
       "      <td>152963</td>\n",
       "      <td>234255</td>\n",
       "      <td>5.142519e-12</td>\n",
       "      <td>1</td>\n",
       "      <td>1051</td>\n",
       "      <td>955</td>\n",
       "      <td>1</td>\n",
       "    </tr>\n",
       "    <tr>\n",
       "      <th>2</th>\n",
       "      <td>3</td>\n",
       "      <td>2</td>\n",
       "      <td>152963</td>\n",
       "      <td>372188</td>\n",
       "      <td>4.685686e-12</td>\n",
       "      <td>1</td>\n",
       "      <td>928</td>\n",
       "      <td>20</td>\n",
       "      <td>1</td>\n",
       "    </tr>\n",
       "    <tr>\n",
       "      <th>3</th>\n",
       "      <td>4</td>\n",
       "      <td>3</td>\n",
       "      <td>152963</td>\n",
       "      <td>450082</td>\n",
       "      <td>2.879178e-12</td>\n",
       "      <td>1</td>\n",
       "      <td>1205</td>\n",
       "      <td>580</td>\n",
       "      <td>0</td>\n",
       "    </tr>\n",
       "    <tr>\n",
       "      <th>4</th>\n",
       "      <td>5</td>\n",
       "      <td>4</td>\n",
       "      <td>152963</td>\n",
       "      <td>391484</td>\n",
       "      <td>2.284472e-12</td>\n",
       "      <td>1</td>\n",
       "      <td>1349</td>\n",
       "      <td>121</td>\n",
       "      <td>0</td>\n",
       "    </tr>\n",
       "    <tr>\n",
       "      <th>...</th>\n",
       "      <td>...</td>\n",
       "      <td>...</td>\n",
       "      <td>...</td>\n",
       "      <td>...</td>\n",
       "      <td>...</td>\n",
       "      <td>...</td>\n",
       "      <td>...</td>\n",
       "      <td>...</td>\n",
       "      <td>...</td>\n",
       "    </tr>\n",
       "    <tr>\n",
       "      <th>2957</th>\n",
       "      <td>2958</td>\n",
       "      <td>2957</td>\n",
       "      <td>1403769</td>\n",
       "      <td>210087</td>\n",
       "      <td>1.174958e-02</td>\n",
       "      <td>0</td>\n",
       "      <td>1385</td>\n",
       "      <td>1202</td>\n",
       "      <td>0</td>\n",
       "    </tr>\n",
       "    <tr>\n",
       "      <th>2958</th>\n",
       "      <td>2959</td>\n",
       "      <td>2958</td>\n",
       "      <td>1403769</td>\n",
       "      <td>186256</td>\n",
       "      <td>2.249150e-03</td>\n",
       "      <td>0</td>\n",
       "      <td>646</td>\n",
       "      <td>1606</td>\n",
       "      <td>1</td>\n",
       "    </tr>\n",
       "    <tr>\n",
       "      <th>2959</th>\n",
       "      <td>2960</td>\n",
       "      <td>2959</td>\n",
       "      <td>1403769</td>\n",
       "      <td>126332</td>\n",
       "      <td>2.662704e-03</td>\n",
       "      <td>0</td>\n",
       "      <td>239</td>\n",
       "      <td>1515</td>\n",
       "      <td>1</td>\n",
       "    </tr>\n",
       "    <tr>\n",
       "      <th>2960</th>\n",
       "      <td>2961</td>\n",
       "      <td>2960</td>\n",
       "      <td>1403769</td>\n",
       "      <td>60980</td>\n",
       "      <td>1.557524e-03</td>\n",
       "      <td>0</td>\n",
       "      <td>1135</td>\n",
       "      <td>1329</td>\n",
       "      <td>0</td>\n",
       "    </tr>\n",
       "    <tr>\n",
       "      <th>2961</th>\n",
       "      <td>2962</td>\n",
       "      <td>2961</td>\n",
       "      <td>1403769</td>\n",
       "      <td>286731</td>\n",
       "      <td>6.946141e-04</td>\n",
       "      <td>0</td>\n",
       "      <td>84</td>\n",
       "      <td>1308</td>\n",
       "      <td>0</td>\n",
       "    </tr>\n",
       "  </tbody>\n",
       "</table>\n",
       "<p>2962 rows × 9 columns</p>\n",
       "</div>"
      ],
      "text/plain": [
       "        id  rec_id  user_id  item_id     als_score  target  category_id  \\\n",
       "0        1       0   152963   228392  8.669176e-12       1         1349   \n",
       "1        2       1   152963   234255  5.142519e-12       1         1051   \n",
       "2        3       2   152963   372188  4.685686e-12       1          928   \n",
       "3        4       3   152963   450082  2.879178e-12       1         1205   \n",
       "4        5       4   152963   391484  2.284472e-12       1         1349   \n",
       "...    ...     ...      ...      ...           ...     ...          ...   \n",
       "2957  2958    2957  1403769   210087  1.174958e-02       0         1385   \n",
       "2958  2959    2958  1403769   186256  2.249150e-03       0          646   \n",
       "2959  2960    2959  1403769   126332  2.662704e-03       0          239   \n",
       "2960  2961    2960  1403769    60980  1.557524e-03       0         1135   \n",
       "2961  2962    2961  1403769   286731  6.946141e-04       0           84   \n",
       "\n",
       "      parent_id  available  \n",
       "0           121          0  \n",
       "1           955          1  \n",
       "2            20          1  \n",
       "3           580          0  \n",
       "4           121          0  \n",
       "...         ...        ...  \n",
       "2957       1202          0  \n",
       "2958       1606          1  \n",
       "2959       1515          1  \n",
       "2960       1329          0  \n",
       "2961       1308          0  \n",
       "\n",
       "[2962 rows x 9 columns]"
      ]
     },
     "execution_count": 103,
     "metadata": {},
     "output_type": "execute_result"
    }
   ],
   "source": [
    "candidates_train[\"id\"] = np.arange(1, candidates_train.shape[0] + 1)\n",
    "candidates_train"
   ]
  },
  {
   "cell_type": "markdown",
   "metadata": {},
   "source": [
    "Теперь сохраним кандидатов для тренировки в директории для графов Airflow:"
   ]
  },
  {
   "cell_type": "code",
   "execution_count": 104,
   "metadata": {},
   "outputs": [],
   "source": [
    "candidates_train.to_parquet(f\"{POSTGRES_DATA_DIR}/candidates_train.parquet\")"
   ]
  },
  {
   "cell_type": "markdown",
   "metadata": {},
   "source": [
    "### Candidates to rank"
   ]
  },
  {
   "cell_type": "markdown",
   "metadata": {},
   "source": [
    "Чтобы создать кандидатов для ранжирования, мы предполагаем, что на данном моменте `events_labels` уже стали частью тренировочного набора:"
   ]
  },
  {
   "cell_type": "code",
   "execution_count": 105,
   "metadata": {},
   "outputs": [
    {
     "name": "stdout",
     "output_type": "stream",
     "text": [
      "<class 'pandas.core.frame.DataFrame'>\n",
      "Index: 12833 entries, 0 to 6250\n",
      "Data columns (total 9 columns):\n",
      " #   Column           Non-Null Count  Dtype         \n",
      "---  ------           --------------  -----         \n",
      " 0   timestamp        12833 non-null  int64         \n",
      " 1   user_id          12833 non-null  int64         \n",
      " 2   item_id          12833 non-null  int64         \n",
      " 3   event            12833 non-null  object        \n",
      " 4   executed_at      12833 non-null  datetime64[ns]\n",
      " 5   user_id_encoded  12833 non-null  int64         \n",
      " 6   item_id_encoded  12833 non-null  int64         \n",
      " 7   rating           12833 non-null  float64       \n",
      " 8   target           1269 non-null   float64       \n",
      "dtypes: datetime64[ns](1), float64(2), int64(5), object(1)\n",
      "memory usage: 1002.6+ KB\n"
     ]
    }
   ],
   "source": [
    "inference_data = pd.concat([events_train, events_labels])\n",
    "inference_data.info()"
   ]
  },
  {
   "cell_type": "markdown",
   "metadata": {},
   "source": [
    "Повторим процесс обучения ALS-модели заново, чтобы сформировать рекомендации:"
   ]
  },
  {
   "cell_type": "code",
   "execution_count": 106,
   "metadata": {},
   "outputs": [
    {
     "data": {
      "text/plain": [
       "<336x480 sparse matrix of type '<class 'numpy.int8'>'\n",
       "\twith 5815 stored elements in Compressed Sparse Row format>"
      ]
     },
     "execution_count": 106,
     "metadata": {},
     "output_type": "execute_result"
    }
   ],
   "source": [
    "user_item_matrix_inference = scipy.sparse.csr_matrix(\n",
    "    (\n",
    "    inference_data[\"rating\"],\n",
    "    (inference_data[\"user_id_encoded\"], inference_data[\"item_id_encoded\"])\n",
    "    ),\n",
    "    dtype=np.int8\n",
    ")\n",
    "user_item_matrix_inference"
   ]
  },
  {
   "cell_type": "code",
   "execution_count": 107,
   "metadata": {},
   "outputs": [
    {
     "data": {
      "application/vnd.jupyter.widget-view+json": {
       "model_id": "6d08a234ab5b493b83f57e4726fbff18",
       "version_major": 2,
       "version_minor": 0
      },
      "text/plain": [
       "  0%|          | 0/1500 [00:00<?, ?it/s]"
      ]
     },
     "metadata": {},
     "output_type": "display_data"
    }
   ],
   "source": [
    "als_model_inference = AlternatingLeastSquares(**als_params)\n",
    "als_model_inference.fit(user_item_matrix_inference)"
   ]
  },
  {
   "cell_type": "code",
   "execution_count": 108,
   "metadata": {},
   "outputs": [
    {
     "name": "stdout",
     "output_type": "stream",
     "text": [
      "CPU times: user 60.8 ms, sys: 28.8 ms, total: 89.5 ms\n",
      "Wall time: 25.3 ms\n"
     ]
    }
   ],
   "source": [
    "%%time\n",
    "user_ids_encoded = range(len(user_encoder.classes_))\n",
    "\n",
    "als_recommendations_inference = als_model_inference.recommend(\n",
    "    user_ids_encoded, \n",
    "    user_item_matrix_inference[user_ids_encoded], \n",
    "    filter_already_liked_items=False, \n",
    "    N=100,\n",
    ")"
   ]
  },
  {
   "cell_type": "code",
   "execution_count": 109,
   "metadata": {},
   "outputs": [
    {
     "data": {
      "text/html": [
       "<div>\n",
       "<style scoped>\n",
       "    .dataframe tbody tr th:only-of-type {\n",
       "        vertical-align: middle;\n",
       "    }\n",
       "\n",
       "    .dataframe tbody tr th {\n",
       "        vertical-align: top;\n",
       "    }\n",
       "\n",
       "    .dataframe thead th {\n",
       "        text-align: right;\n",
       "    }\n",
       "</style>\n",
       "<table border=\"1\" class=\"dataframe\">\n",
       "  <thead>\n",
       "    <tr style=\"text-align: right;\">\n",
       "      <th></th>\n",
       "      <th>user_id</th>\n",
       "      <th>item_id</th>\n",
       "      <th>score</th>\n",
       "    </tr>\n",
       "  </thead>\n",
       "  <tbody>\n",
       "    <tr>\n",
       "      <th>0</th>\n",
       "      <td>1879</td>\n",
       "      <td>10572</td>\n",
       "      <td>1.112026e-10</td>\n",
       "    </tr>\n",
       "    <tr>\n",
       "      <th>1</th>\n",
       "      <td>1879</td>\n",
       "      <td>305588</td>\n",
       "      <td>1.542909e-11</td>\n",
       "    </tr>\n",
       "    <tr>\n",
       "      <th>2</th>\n",
       "      <td>1879</td>\n",
       "      <td>111530</td>\n",
       "      <td>1.430538e-11</td>\n",
       "    </tr>\n",
       "    <tr>\n",
       "      <th>3</th>\n",
       "      <td>1879</td>\n",
       "      <td>289103</td>\n",
       "      <td>1.352034e-11</td>\n",
       "    </tr>\n",
       "    <tr>\n",
       "      <th>4</th>\n",
       "      <td>1879</td>\n",
       "      <td>303828</td>\n",
       "      <td>1.011442e-11</td>\n",
       "    </tr>\n",
       "    <tr>\n",
       "      <th>5</th>\n",
       "      <td>1879</td>\n",
       "      <td>240900</td>\n",
       "      <td>9.197818e-12</td>\n",
       "    </tr>\n",
       "    <tr>\n",
       "      <th>6</th>\n",
       "      <td>1879</td>\n",
       "      <td>417927</td>\n",
       "      <td>9.060373e-12</td>\n",
       "    </tr>\n",
       "    <tr>\n",
       "      <th>7</th>\n",
       "      <td>1879</td>\n",
       "      <td>85914</td>\n",
       "      <td>8.453618e-12</td>\n",
       "    </tr>\n",
       "    <tr>\n",
       "      <th>8</th>\n",
       "      <td>1879</td>\n",
       "      <td>307306</td>\n",
       "      <td>8.350853e-12</td>\n",
       "    </tr>\n",
       "    <tr>\n",
       "      <th>9</th>\n",
       "      <td>1879</td>\n",
       "      <td>12217</td>\n",
       "      <td>7.687055e-12</td>\n",
       "    </tr>\n",
       "  </tbody>\n",
       "</table>\n",
       "</div>"
      ],
      "text/plain": [
       "   user_id  item_id         score\n",
       "0     1879    10572  1.112026e-10\n",
       "1     1879   305588  1.542909e-11\n",
       "2     1879   111530  1.430538e-11\n",
       "3     1879   289103  1.352034e-11\n",
       "4     1879   303828  1.011442e-11\n",
       "5     1879   240900  9.197818e-12\n",
       "6     1879   417927  9.060373e-12\n",
       "7     1879    85914  8.453618e-12\n",
       "8     1879   307306  8.350853e-12\n",
       "9     1879    12217  7.687055e-12"
      ]
     },
     "execution_count": 109,
     "metadata": {},
     "output_type": "execute_result"
    }
   ],
   "source": [
    "item_ids_encoded = als_recommendations_inference[0]\n",
    "als_scores = als_recommendations_inference[1]\n",
    "\n",
    "als_recommendations_inference = pd.DataFrame({\n",
    "    \"user_id_encoded\": user_ids_encoded,\n",
    "    \"item_id_encoded\": item_ids_encoded.tolist(), \n",
    "    \"score\": als_scores.tolist(),\n",
    "})\n",
    "als_recommendations_inference = als_recommendations_inference.explode(\n",
    "    [\"item_id_encoded\", \"score\"], ignore_index=True\n",
    ")\n",
    "\n",
    "als_recommendations_inference[\"item_id_encoded\"] = als_recommendations_inference[\"item_id_encoded\"].astype(\"int\")\n",
    "als_recommendations_inference[\"score\"] = als_recommendations_inference[\"score\"].astype(\"float\")\n",
    "\n",
    "als_recommendations_inference[\"user_id\"] = user_encoder.inverse_transform(\n",
    "    als_recommendations_inference[\"user_id_encoded\"]\n",
    ")\n",
    "als_recommendations_inference[\"item_id\"] = item_encoder.inverse_transform(\n",
    "    als_recommendations_inference[\"item_id_encoded\"]\n",
    ")\n",
    "als_recommendations_inference = als_recommendations_inference.drop(\n",
    "    columns=[\"user_id_encoded\", \"item_id_encoded\"]\n",
    ")\n",
    "\n",
    "als_recommendations_inference = als_recommendations_inference[[\"user_id\", \"item_id\", \"score\"]]\n",
    "als_recommendations_inference = als_recommendations_inference.query(\"score != 0\")\n",
    "als_recommendations_inference.head(10)"
   ]
  },
  {
   "cell_type": "markdown",
   "metadata": {},
   "source": [
    "Сохраним эти рекомендации, чтобы их потом залогировать:"
   ]
  },
  {
   "cell_type": "code",
   "execution_count": 110,
   "metadata": {},
   "outputs": [],
   "source": [
    "als_recommendations_inference.to_parquet(f\"{ASSETS_DIR}/personal_als_inference.parquet\")"
   ]
  },
  {
   "cell_type": "markdown",
   "metadata": {},
   "source": [
    "Отберем из получившихся рекомендаций только тестовых пользователей:"
   ]
  },
  {
   "cell_type": "code",
   "execution_count": 111,
   "metadata": {},
   "outputs": [
    {
     "data": {
      "text/html": [
       "<div>\n",
       "<style scoped>\n",
       "    .dataframe tbody tr th:only-of-type {\n",
       "        vertical-align: middle;\n",
       "    }\n",
       "\n",
       "    .dataframe tbody tr th {\n",
       "        vertical-align: top;\n",
       "    }\n",
       "\n",
       "    .dataframe thead th {\n",
       "        text-align: right;\n",
       "    }\n",
       "</style>\n",
       "<table border=\"1\" class=\"dataframe\">\n",
       "  <thead>\n",
       "    <tr style=\"text-align: right;\">\n",
       "      <th></th>\n",
       "      <th>user_id</th>\n",
       "      <th>item_id</th>\n",
       "      <th>score</th>\n",
       "    </tr>\n",
       "  </thead>\n",
       "  <tbody>\n",
       "    <tr>\n",
       "      <th>1500</th>\n",
       "      <td>54791</td>\n",
       "      <td>37029</td>\n",
       "      <td>1.204752e-11</td>\n",
       "    </tr>\n",
       "    <tr>\n",
       "      <th>1501</th>\n",
       "      <td>54791</td>\n",
       "      <td>334520</td>\n",
       "      <td>9.678128e-12</td>\n",
       "    </tr>\n",
       "    <tr>\n",
       "      <th>1502</th>\n",
       "      <td>54791</td>\n",
       "      <td>320130</td>\n",
       "      <td>8.484969e-12</td>\n",
       "    </tr>\n",
       "    <tr>\n",
       "      <th>1503</th>\n",
       "      <td>54791</td>\n",
       "      <td>344071</td>\n",
       "      <td>8.118300e-12</td>\n",
       "    </tr>\n",
       "    <tr>\n",
       "      <th>1504</th>\n",
       "      <td>54791</td>\n",
       "      <td>420960</td>\n",
       "      <td>5.948470e-12</td>\n",
       "    </tr>\n",
       "  </tbody>\n",
       "</table>\n",
       "</div>"
      ],
      "text/plain": [
       "      user_id  item_id         score\n",
       "1500    54791    37029  1.204752e-11\n",
       "1501    54791   334520  9.678128e-12\n",
       "1502    54791   320130  8.484969e-12\n",
       "1503    54791   344071  8.118300e-12\n",
       "1504    54791   420960  5.948470e-12"
      ]
     },
     "execution_count": 111,
     "metadata": {},
     "output_type": "execute_result"
    }
   ],
   "source": [
    "candidates_to_rank = als_recommendations_inference[\n",
    "    als_recommendations_inference.user_id.isin(events_test_2.user_id.drop_duplicates())\n",
    "]\n",
    "candidates_to_rank.head()"
   ]
  },
  {
   "cell_type": "markdown",
   "metadata": {},
   "source": [
    "Повторим теперь те же самые действия, что мы проводили с кандидатами для тренировки: приведение датафрейма к соответствующему виду для загрузки в базу данных, а также добавление дополнительных фичей."
   ]
  },
  {
   "cell_type": "code",
   "execution_count": 112,
   "metadata": {},
   "outputs": [
    {
     "data": {
      "text/html": [
       "<div>\n",
       "<style scoped>\n",
       "    .dataframe tbody tr th:only-of-type {\n",
       "        vertical-align: middle;\n",
       "    }\n",
       "\n",
       "    .dataframe tbody tr th {\n",
       "        vertical-align: top;\n",
       "    }\n",
       "\n",
       "    .dataframe thead th {\n",
       "        text-align: right;\n",
       "    }\n",
       "</style>\n",
       "<table border=\"1\" class=\"dataframe\">\n",
       "  <thead>\n",
       "    <tr style=\"text-align: right;\">\n",
       "      <th></th>\n",
       "      <th>id</th>\n",
       "      <th>rec_id</th>\n",
       "      <th>user_id</th>\n",
       "      <th>item_id</th>\n",
       "      <th>als_score</th>\n",
       "    </tr>\n",
       "  </thead>\n",
       "  <tbody>\n",
       "    <tr>\n",
       "      <th>0</th>\n",
       "      <td>1</td>\n",
       "      <td>1500</td>\n",
       "      <td>54791</td>\n",
       "      <td>37029</td>\n",
       "      <td>1.204752e-11</td>\n",
       "    </tr>\n",
       "    <tr>\n",
       "      <th>1</th>\n",
       "      <td>2</td>\n",
       "      <td>1501</td>\n",
       "      <td>54791</td>\n",
       "      <td>334520</td>\n",
       "      <td>9.678128e-12</td>\n",
       "    </tr>\n",
       "    <tr>\n",
       "      <th>2</th>\n",
       "      <td>3</td>\n",
       "      <td>1502</td>\n",
       "      <td>54791</td>\n",
       "      <td>320130</td>\n",
       "      <td>8.484969e-12</td>\n",
       "    </tr>\n",
       "    <tr>\n",
       "      <th>3</th>\n",
       "      <td>4</td>\n",
       "      <td>1503</td>\n",
       "      <td>54791</td>\n",
       "      <td>344071</td>\n",
       "      <td>8.118300e-12</td>\n",
       "    </tr>\n",
       "    <tr>\n",
       "      <th>4</th>\n",
       "      <td>5</td>\n",
       "      <td>1504</td>\n",
       "      <td>54791</td>\n",
       "      <td>420960</td>\n",
       "      <td>5.948470e-12</td>\n",
       "    </tr>\n",
       "    <tr>\n",
       "      <th>...</th>\n",
       "      <td>...</td>\n",
       "      <td>...</td>\n",
       "      <td>...</td>\n",
       "      <td>...</td>\n",
       "      <td>...</td>\n",
       "    </tr>\n",
       "    <tr>\n",
       "      <th>6095</th>\n",
       "      <td>6096</td>\n",
       "      <td>33595</td>\n",
       "      <td>1403769</td>\n",
       "      <td>257040</td>\n",
       "      <td>2.368244e-03</td>\n",
       "    </tr>\n",
       "    <tr>\n",
       "      <th>6096</th>\n",
       "      <td>6097</td>\n",
       "      <td>33596</td>\n",
       "      <td>1403769</td>\n",
       "      <td>448453</td>\n",
       "      <td>2.358791e-03</td>\n",
       "    </tr>\n",
       "    <tr>\n",
       "      <th>6097</th>\n",
       "      <td>6098</td>\n",
       "      <td>33597</td>\n",
       "      <td>1403769</td>\n",
       "      <td>372188</td>\n",
       "      <td>2.308544e-03</td>\n",
       "    </tr>\n",
       "    <tr>\n",
       "      <th>6098</th>\n",
       "      <td>6099</td>\n",
       "      <td>33598</td>\n",
       "      <td>1403769</td>\n",
       "      <td>340093</td>\n",
       "      <td>2.192400e-03</td>\n",
       "    </tr>\n",
       "    <tr>\n",
       "      <th>6099</th>\n",
       "      <td>6100</td>\n",
       "      <td>33599</td>\n",
       "      <td>1403769</td>\n",
       "      <td>193828</td>\n",
       "      <td>2.139800e-03</td>\n",
       "    </tr>\n",
       "  </tbody>\n",
       "</table>\n",
       "<p>6100 rows × 5 columns</p>\n",
       "</div>"
      ],
      "text/plain": [
       "        id  rec_id  user_id  item_id     als_score\n",
       "0        1    1500    54791    37029  1.204752e-11\n",
       "1        2    1501    54791   334520  9.678128e-12\n",
       "2        3    1502    54791   320130  8.484969e-12\n",
       "3        4    1503    54791   344071  8.118300e-12\n",
       "4        5    1504    54791   420960  5.948470e-12\n",
       "...    ...     ...      ...      ...           ...\n",
       "6095  6096   33595  1403769   257040  2.368244e-03\n",
       "6096  6097   33596  1403769   448453  2.358791e-03\n",
       "6097  6098   33597  1403769   372188  2.308544e-03\n",
       "6098  6099   33598  1403769   340093  2.192400e-03\n",
       "6099  6100   33599  1403769   193828  2.139800e-03\n",
       "\n",
       "[6100 rows x 5 columns]"
      ]
     },
     "execution_count": 112,
     "metadata": {},
     "output_type": "execute_result"
    }
   ],
   "source": [
    "candidates_inference = candidates_to_rank.reset_index()\n",
    "candidates_inference = candidates_inference.rename(columns={\n",
    "    \"index\": \"rec_id\",\n",
    "    \"score\": \"als_score\",\n",
    "})\n",
    "candidates_inference[\"id\"] = candidates_inference.reset_index()[\"index\"] + 1\n",
    "candidates_inference = candidates_inference[[\"id\", \"rec_id\", \"user_id\", \"item_id\", \"als_score\"]]\n",
    "candidates_inference"
   ]
  },
  {
   "cell_type": "markdown",
   "metadata": {},
   "source": [
    "#### Adding features"
   ]
  },
  {
   "cell_type": "code",
   "execution_count": 113,
   "metadata": {},
   "outputs": [
    {
     "data": {
      "text/html": [
       "<div>\n",
       "<style scoped>\n",
       "    .dataframe tbody tr th:only-of-type {\n",
       "        vertical-align: middle;\n",
       "    }\n",
       "\n",
       "    .dataframe tbody tr th {\n",
       "        vertical-align: top;\n",
       "    }\n",
       "\n",
       "    .dataframe thead th {\n",
       "        text-align: right;\n",
       "    }\n",
       "</style>\n",
       "<table border=\"1\" class=\"dataframe\">\n",
       "  <thead>\n",
       "    <tr style=\"text-align: right;\">\n",
       "      <th></th>\n",
       "      <th>id</th>\n",
       "      <th>rec_id</th>\n",
       "      <th>user_id</th>\n",
       "      <th>item_id</th>\n",
       "      <th>als_score</th>\n",
       "      <th>category_id</th>\n",
       "      <th>parent_id</th>\n",
       "    </tr>\n",
       "  </thead>\n",
       "  <tbody>\n",
       "    <tr>\n",
       "      <th>0</th>\n",
       "      <td>1</td>\n",
       "      <td>1500</td>\n",
       "      <td>54791</td>\n",
       "      <td>37029</td>\n",
       "      <td>1.204752e-11</td>\n",
       "      <td>1483.0</td>\n",
       "      <td>561.0</td>\n",
       "    </tr>\n",
       "    <tr>\n",
       "      <th>1</th>\n",
       "      <td>2</td>\n",
       "      <td>1501</td>\n",
       "      <td>54791</td>\n",
       "      <td>334520</td>\n",
       "      <td>9.678128e-12</td>\n",
       "      <td>1483.0</td>\n",
       "      <td>561.0</td>\n",
       "    </tr>\n",
       "    <tr>\n",
       "      <th>2</th>\n",
       "      <td>3</td>\n",
       "      <td>1502</td>\n",
       "      <td>54791</td>\n",
       "      <td>320130</td>\n",
       "      <td>8.484969e-12</td>\n",
       "      <td>1483.0</td>\n",
       "      <td>561.0</td>\n",
       "    </tr>\n",
       "    <tr>\n",
       "      <th>3</th>\n",
       "      <td>4</td>\n",
       "      <td>1503</td>\n",
       "      <td>54791</td>\n",
       "      <td>344071</td>\n",
       "      <td>8.118300e-12</td>\n",
       "      <td>589.0</td>\n",
       "      <td>1308.0</td>\n",
       "    </tr>\n",
       "    <tr>\n",
       "      <th>4</th>\n",
       "      <td>5</td>\n",
       "      <td>1504</td>\n",
       "      <td>54791</td>\n",
       "      <td>420960</td>\n",
       "      <td>5.948470e-12</td>\n",
       "      <td>1529.0</td>\n",
       "      <td>805.0</td>\n",
       "    </tr>\n",
       "    <tr>\n",
       "      <th>...</th>\n",
       "      <td>...</td>\n",
       "      <td>...</td>\n",
       "      <td>...</td>\n",
       "      <td>...</td>\n",
       "      <td>...</td>\n",
       "      <td>...</td>\n",
       "      <td>...</td>\n",
       "    </tr>\n",
       "    <tr>\n",
       "      <th>6095</th>\n",
       "      <td>6096</td>\n",
       "      <td>33595</td>\n",
       "      <td>1403769</td>\n",
       "      <td>257040</td>\n",
       "      <td>2.368244e-03</td>\n",
       "      <td>683.0</td>\n",
       "      <td>1606.0</td>\n",
       "    </tr>\n",
       "    <tr>\n",
       "      <th>6096</th>\n",
       "      <td>6097</td>\n",
       "      <td>33596</td>\n",
       "      <td>1403769</td>\n",
       "      <td>448453</td>\n",
       "      <td>2.358791e-03</td>\n",
       "      <td>1089.0</td>\n",
       "      <td>1621.0</td>\n",
       "    </tr>\n",
       "    <tr>\n",
       "      <th>6097</th>\n",
       "      <td>6098</td>\n",
       "      <td>33597</td>\n",
       "      <td>1403769</td>\n",
       "      <td>372188</td>\n",
       "      <td>2.308544e-03</td>\n",
       "      <td>928.0</td>\n",
       "      <td>20.0</td>\n",
       "    </tr>\n",
       "    <tr>\n",
       "      <th>6098</th>\n",
       "      <td>6099</td>\n",
       "      <td>33598</td>\n",
       "      <td>1403769</td>\n",
       "      <td>340093</td>\n",
       "      <td>2.192400e-03</td>\n",
       "      <td>56.0</td>\n",
       "      <td>1497.0</td>\n",
       "    </tr>\n",
       "    <tr>\n",
       "      <th>6099</th>\n",
       "      <td>6100</td>\n",
       "      <td>33599</td>\n",
       "      <td>1403769</td>\n",
       "      <td>193828</td>\n",
       "      <td>2.139800e-03</td>\n",
       "      <td>819.0</td>\n",
       "      <td>798.0</td>\n",
       "    </tr>\n",
       "  </tbody>\n",
       "</table>\n",
       "<p>6099 rows × 7 columns</p>\n",
       "</div>"
      ],
      "text/plain": [
       "        id  rec_id  user_id  item_id     als_score  category_id  parent_id\n",
       "0        1    1500    54791    37029  1.204752e-11       1483.0      561.0\n",
       "1        2    1501    54791   334520  9.678128e-12       1483.0      561.0\n",
       "2        3    1502    54791   320130  8.484969e-12       1483.0      561.0\n",
       "3        4    1503    54791   344071  8.118300e-12        589.0     1308.0\n",
       "4        5    1504    54791   420960  5.948470e-12       1529.0      805.0\n",
       "...    ...     ...      ...      ...           ...          ...        ...\n",
       "6095  6096   33595  1403769   257040  2.368244e-03        683.0     1606.0\n",
       "6096  6097   33596  1403769   448453  2.358791e-03       1089.0     1621.0\n",
       "6097  6098   33597  1403769   372188  2.308544e-03        928.0       20.0\n",
       "6098  6099   33598  1403769   340093  2.192400e-03         56.0     1497.0\n",
       "6099  6100   33599  1403769   193828  2.139800e-03        819.0      798.0\n",
       "\n",
       "[6099 rows x 7 columns]"
      ]
     },
     "execution_count": 113,
     "metadata": {},
     "output_type": "execute_result"
    }
   ],
   "source": [
    "candidates_inference = candidates_inference.merge(\n",
    "    category_props[[\"item_id\", \"category_id\", \"parent_id\"]],\n",
    "    on=\"item_id\",\n",
    "    how=\"left\",\n",
    "    validate=\"many_to_one\"\n",
    ")\n",
    "\n",
    "candidates_inference = candidates_inference.dropna()\n",
    "candidates_inference"
   ]
  },
  {
   "cell_type": "code",
   "execution_count": 114,
   "metadata": {},
   "outputs": [],
   "source": [
    "candidates_inference[\"category_id\"] = candidates_inference[\"category_id\"].astype(\"int64\")\n",
    "candidates_inference[\"parent_id\"] = candidates_inference[\"parent_id\"].astype(\"int64\")\n",
    "candidates_inference = candidates_inference.merge(\n",
    "    availability_props[[\"item_id\", \"available\"]],\n",
    "    on=\"item_id\",\n",
    "    how=\"left\",\n",
    "    validate=\"many_to_one\",\n",
    ")"
   ]
  },
  {
   "cell_type": "code",
   "execution_count": 115,
   "metadata": {},
   "outputs": [
    {
     "data": {
      "text/html": [
       "<div>\n",
       "<style scoped>\n",
       "    .dataframe tbody tr th:only-of-type {\n",
       "        vertical-align: middle;\n",
       "    }\n",
       "\n",
       "    .dataframe tbody tr th {\n",
       "        vertical-align: top;\n",
       "    }\n",
       "\n",
       "    .dataframe thead th {\n",
       "        text-align: right;\n",
       "    }\n",
       "</style>\n",
       "<table border=\"1\" class=\"dataframe\">\n",
       "  <thead>\n",
       "    <tr style=\"text-align: right;\">\n",
       "      <th></th>\n",
       "      <th>id</th>\n",
       "      <th>rec_id</th>\n",
       "      <th>user_id</th>\n",
       "      <th>item_id</th>\n",
       "      <th>als_score</th>\n",
       "      <th>category_id</th>\n",
       "      <th>parent_id</th>\n",
       "      <th>available</th>\n",
       "    </tr>\n",
       "  </thead>\n",
       "  <tbody>\n",
       "    <tr>\n",
       "      <th>0</th>\n",
       "      <td>1</td>\n",
       "      <td>1500</td>\n",
       "      <td>54791</td>\n",
       "      <td>37029</td>\n",
       "      <td>1.204752e-11</td>\n",
       "      <td>1483</td>\n",
       "      <td>561</td>\n",
       "      <td>0</td>\n",
       "    </tr>\n",
       "    <tr>\n",
       "      <th>1</th>\n",
       "      <td>2</td>\n",
       "      <td>1501</td>\n",
       "      <td>54791</td>\n",
       "      <td>334520</td>\n",
       "      <td>9.678128e-12</td>\n",
       "      <td>1483</td>\n",
       "      <td>561</td>\n",
       "      <td>1</td>\n",
       "    </tr>\n",
       "    <tr>\n",
       "      <th>2</th>\n",
       "      <td>3</td>\n",
       "      <td>1502</td>\n",
       "      <td>54791</td>\n",
       "      <td>320130</td>\n",
       "      <td>8.484969e-12</td>\n",
       "      <td>1483</td>\n",
       "      <td>561</td>\n",
       "      <td>1</td>\n",
       "    </tr>\n",
       "    <tr>\n",
       "      <th>3</th>\n",
       "      <td>4</td>\n",
       "      <td>1503</td>\n",
       "      <td>54791</td>\n",
       "      <td>344071</td>\n",
       "      <td>8.118300e-12</td>\n",
       "      <td>589</td>\n",
       "      <td>1308</td>\n",
       "      <td>1</td>\n",
       "    </tr>\n",
       "    <tr>\n",
       "      <th>4</th>\n",
       "      <td>5</td>\n",
       "      <td>1504</td>\n",
       "      <td>54791</td>\n",
       "      <td>420960</td>\n",
       "      <td>5.948470e-12</td>\n",
       "      <td>1529</td>\n",
       "      <td>805</td>\n",
       "      <td>1</td>\n",
       "    </tr>\n",
       "    <tr>\n",
       "      <th>...</th>\n",
       "      <td>...</td>\n",
       "      <td>...</td>\n",
       "      <td>...</td>\n",
       "      <td>...</td>\n",
       "      <td>...</td>\n",
       "      <td>...</td>\n",
       "      <td>...</td>\n",
       "      <td>...</td>\n",
       "    </tr>\n",
       "    <tr>\n",
       "      <th>6094</th>\n",
       "      <td>6095</td>\n",
       "      <td>33595</td>\n",
       "      <td>1403769</td>\n",
       "      <td>257040</td>\n",
       "      <td>2.368244e-03</td>\n",
       "      <td>683</td>\n",
       "      <td>1606</td>\n",
       "      <td>0</td>\n",
       "    </tr>\n",
       "    <tr>\n",
       "      <th>6095</th>\n",
       "      <td>6096</td>\n",
       "      <td>33596</td>\n",
       "      <td>1403769</td>\n",
       "      <td>448453</td>\n",
       "      <td>2.358791e-03</td>\n",
       "      <td>1089</td>\n",
       "      <td>1621</td>\n",
       "      <td>1</td>\n",
       "    </tr>\n",
       "    <tr>\n",
       "      <th>6096</th>\n",
       "      <td>6097</td>\n",
       "      <td>33597</td>\n",
       "      <td>1403769</td>\n",
       "      <td>372188</td>\n",
       "      <td>2.308544e-03</td>\n",
       "      <td>928</td>\n",
       "      <td>20</td>\n",
       "      <td>1</td>\n",
       "    </tr>\n",
       "    <tr>\n",
       "      <th>6097</th>\n",
       "      <td>6098</td>\n",
       "      <td>33598</td>\n",
       "      <td>1403769</td>\n",
       "      <td>340093</td>\n",
       "      <td>2.192400e-03</td>\n",
       "      <td>56</td>\n",
       "      <td>1497</td>\n",
       "      <td>1</td>\n",
       "    </tr>\n",
       "    <tr>\n",
       "      <th>6098</th>\n",
       "      <td>6099</td>\n",
       "      <td>33599</td>\n",
       "      <td>1403769</td>\n",
       "      <td>193828</td>\n",
       "      <td>2.139800e-03</td>\n",
       "      <td>819</td>\n",
       "      <td>798</td>\n",
       "      <td>0</td>\n",
       "    </tr>\n",
       "  </tbody>\n",
       "</table>\n",
       "<p>6099 rows × 8 columns</p>\n",
       "</div>"
      ],
      "text/plain": [
       "        id  rec_id  user_id  item_id     als_score  category_id  parent_id  \\\n",
       "0        1    1500    54791    37029  1.204752e-11         1483        561   \n",
       "1        2    1501    54791   334520  9.678128e-12         1483        561   \n",
       "2        3    1502    54791   320130  8.484969e-12         1483        561   \n",
       "3        4    1503    54791   344071  8.118300e-12          589       1308   \n",
       "4        5    1504    54791   420960  5.948470e-12         1529        805   \n",
       "...    ...     ...      ...      ...           ...          ...        ...   \n",
       "6094  6095   33595  1403769   257040  2.368244e-03          683       1606   \n",
       "6095  6096   33596  1403769   448453  2.358791e-03         1089       1621   \n",
       "6096  6097   33597  1403769   372188  2.308544e-03          928         20   \n",
       "6097  6098   33598  1403769   340093  2.192400e-03           56       1497   \n",
       "6098  6099   33599  1403769   193828  2.139800e-03          819        798   \n",
       "\n",
       "      available  \n",
       "0             0  \n",
       "1             1  \n",
       "2             1  \n",
       "3             1  \n",
       "4             1  \n",
       "...         ...  \n",
       "6094          0  \n",
       "6095          1  \n",
       "6096          1  \n",
       "6097          1  \n",
       "6098          0  \n",
       "\n",
       "[6099 rows x 8 columns]"
      ]
     },
     "execution_count": 115,
     "metadata": {},
     "output_type": "execute_result"
    }
   ],
   "source": [
    "candidates_inference[\"id\"] = np.arange(1, candidates_inference.shape[0] + 1)\n",
    "candidates_inference"
   ]
  },
  {
   "cell_type": "code",
   "execution_count": 116,
   "metadata": {},
   "outputs": [],
   "source": [
    "candidates_inference.to_parquet(f\"{POSTGRES_DATA_DIR}/candidates_inference.parquet\")"
   ]
  },
  {
   "cell_type": "markdown",
   "metadata": {},
   "source": [
    "### Logging artifacts (Mlflow)"
   ]
  },
  {
   "cell_type": "markdown",
   "metadata": {},
   "source": [
    "Мы так же должны залогировать кастомную модель для инференс версии ALS, а также другие артефакты."
   ]
  },
  {
   "cell_type": "code",
   "execution_count": 117,
   "metadata": {},
   "outputs": [],
   "source": [
    "als_model_mlflow_inference = ALSModel(\n",
    "    model=als_model_inference,\n",
    "    user_ids_encoded=user_ids_encoded,\n",
    "    filter_already_liked_items=False,\n",
    "    N=3,\n",
    ")"
   ]
  },
  {
   "cell_type": "code",
   "execution_count": 118,
   "metadata": {},
   "outputs": [
    {
     "name": "stderr",
     "output_type": "stream",
     "text": [
      "/home/mle-user/mle_projects/final_projects/mle-pr-final/.venv_test/lib/python3.10/site-packages/_distutils_hack/__init__.py:16: UserWarning: Distutils was imported before Setuptools, but importing Setuptools also replaces the `distutils` module in `sys.modules`. This may lead to undesirable behaviors or errors. To avoid these issues, avoid using distutils directly, ensure that setuptools is installed in the traditional way (e.g. not an editable install), and/or make sure that setuptools is always imported before distutils.\n",
      "  warnings.warn(\n",
      "/home/mle-user/mle_projects/final_projects/mle-pr-final/.venv_test/lib/python3.10/site-packages/_distutils_hack/__init__.py:31: UserWarning: Setuptools is replacing distutils. Support for replacing an already imported distutils is deprecated. In the future, this condition will fail. Register concerns at https://github.com/pypa/setuptools/issues/new?template=distutils-deprecation.yml\n",
      "  warnings.warn(\n",
      "Registered model 'als_model_inference' already exists. Creating a new version of this model...\n",
      "2024/10/04 22:32:47 INFO mlflow.store.model_registry.abstract_store: Waiting up to 300 seconds for model version to finish creation. Model name: als_model_inference, version 3\n",
      "Created version '3' of model 'als_model_inference'.\n",
      "2024/10/04 22:32:47 WARNING mlflow.models.model: Input example should be provided to infer model signature if the model signature is not provided when logging the model.\n",
      "2024/10/04 22:32:47 INFO mlflow.tracking._tracking_service.client: 🏃 View run candidates_generation at: http://127.0.0.1:5000/#/experiments/19/runs/86917aa4bc634f088dd68f871865c417.\n",
      "2024/10/04 22:32:47 INFO mlflow.tracking._tracking_service.client: 🧪 View experiment at: http://127.0.0.1:5000/#/experiments/19.\n"
     ]
    }
   ],
   "source": [
    "RUN_NAME = \"candidates_generation\"\n",
    "REGISTERED_MODEL_NAME = \"als_model_inference\"\n",
    "with mlflow.start_run(run_name=RUN_NAME, experiment_id=experiment_id) as run:\n",
    "    \n",
    "    run_id = run.info.run_id\n",
    "    \n",
    "    # Logging recommendations generated for inference\n",
    "    mlflow.log_artifact(f\"{ASSETS_DIR}/personal_als_inference.parquet\", \"recommendations\")\n",
    "\n",
    "    # Logging candidates for train/inference\n",
    "    mlflow.log_artifact(f\"{POSTGRES_DATA_DIR}/candidates_train.parquet\", \"candidates\")\n",
    "    mlflow.log_artifact(f\"{POSTGRES_DATA_DIR}/candidates_inference.parquet\", \"candidates\")\n",
    "    \n",
    "    # Logging ALS model and its params\n",
    "    mlflow.log_params(als_params)\n",
    "    model_info = mlflow.pyfunc.log_model(\n",
    "        registered_model_name=REGISTERED_MODEL_NAME,\n",
    "        python_model=als_model_mlflow_inference,\n",
    "        pip_requirements = '../requirements.txt', \n",
    "        artifact_path='models',\n",
    "    )"
   ]
  },
  {
   "cell_type": "markdown",
   "metadata": {},
   "source": [
    "Попробуем еще раз загрузку и использование новой залогированной модели:"
   ]
  },
  {
   "cell_type": "code",
   "execution_count": 119,
   "metadata": {},
   "outputs": [
    {
     "data": {
      "application/vnd.jupyter.widget-view+json": {
       "model_id": "455b4b721db0496297a47372bcd82bf4",
       "version_major": 2,
       "version_minor": 0
      },
      "text/plain": [
       "Downloading artifacts:   0%|          | 0/5 [00:00<?, ?it/s]"
      ]
     },
     "metadata": {},
     "output_type": "display_data"
    }
   ],
   "source": [
    "als_model_loaded = mlflow.pyfunc.load_model(\n",
    "    model_uri=model_info.model_uri,\n",
    ")"
   ]
  },
  {
   "cell_type": "code",
   "execution_count": 120,
   "metadata": {},
   "outputs": [
    {
     "data": {
      "text/plain": [
       "(array([[ 10, 295,  98],\n",
       "        [391, 437,  10],\n",
       "        [187,  50, 269],\n",
       "        ...,\n",
       "        [457, 353,  54],\n",
       "        [305,  94, 153],\n",
       "        [305, 408,  31]], dtype=int32),\n",
       " array([[1.11202644e-10, 1.54290920e-11, 1.43053781e-11],\n",
       "        [3.70255649e-12, 3.41425607e-12, 1.48410320e-12],\n",
       "        [9.90612090e-01, 9.75087404e-01, 9.74491239e-01],\n",
       "        ...,\n",
       "        [2.60642966e-11, 8.89740278e-12, 7.81562055e-12],\n",
       "        [4.06123815e-11, 9.12269392e-12, 7.07309558e-12],\n",
       "        [9.99522090e-01, 9.91777837e-01, 9.77896214e-01]], dtype=float32))"
      ]
     },
     "execution_count": 120,
     "metadata": {},
     "output_type": "execute_result"
    }
   ],
   "source": [
    "als_model_loaded.predict(user_item_matrix_inference)"
   ]
  },
  {
   "cell_type": "markdown",
   "metadata": {},
   "source": [
    "## Ranking recommendations"
   ]
  },
  {
   "cell_type": "markdown",
   "metadata": {},
   "source": [
    "Теперь когда у нас есть тренировочные и инференс-данные, мы можем обучить модель на трейне, а потом использовать обученную модель, чтобы оценить вероятность, что пользователь добавит в корзину определенную рекомендацию. Это после этого позволит отранжировать рекомендации таким образом, что рекомендации для товаров с наибольшей вероятностью события `addtocart` будут в топе рэнкинга для определенного пользователя.\n",
    "\n",
    "В качестве модели будем использовать одну из реализаций градиентного бустинга - катбуст. Фичу `als_score` будем рассматривать как числовую и непрерывную, `available` - как бинарную, а `category_id` и `parent_id` - как категориальные. "
   ]
  },
  {
   "cell_type": "code",
   "execution_count": 121,
   "metadata": {},
   "outputs": [],
   "source": [
    "# Specifying features and target\n",
    "features = [\"als_score\", \"category_id\", \"parent_id\", \"available\"]\n",
    "cat_features = [\"category_id\", \"parent_id\"]\n",
    "target = [\"target\"]"
   ]
  },
  {
   "cell_type": "markdown",
   "metadata": {},
   "source": [
    "Ниже определим параметры модели:"
   ]
  },
  {
   "cell_type": "code",
   "execution_count": 122,
   "metadata": {},
   "outputs": [],
   "source": [
    "# Specifying model parameters (`learning_rate`` and `depth`` will be inferred based on `iterations`)\n",
    "catboost_params = {\n",
    "    \"iterations\": 6000,\n",
    "    \"verbose\": 500,\n",
    "    \"loss_function\": \"Logloss\",\n",
    "    \"auto_class_weights\": \"Balanced\",\n",
    "    \"random_seed\": RANDOM_STATE,\n",
    "}"
   ]
  },
  {
   "cell_type": "code",
   "execution_count": 123,
   "metadata": {},
   "outputs": [
    {
     "name": "stdout",
     "output_type": "stream",
     "text": [
      "Learning rate set to 0.003168\n",
      "0:\tlearn: 0.6912615\ttotal: 59.8ms\tremaining: 5m 58s\n",
      "500:\tlearn: 0.4971744\ttotal: 1.2s\tremaining: 13.1s\n",
      "1000:\tlearn: 0.4305683\ttotal: 2.33s\tremaining: 11.6s\n",
      "1500:\tlearn: 0.3933708\ttotal: 3.39s\tremaining: 10.2s\n",
      "2000:\tlearn: 0.3618905\ttotal: 4.46s\tremaining: 8.9s\n",
      "2500:\tlearn: 0.3248969\ttotal: 5.57s\tremaining: 7.79s\n",
      "3000:\tlearn: 0.2693308\ttotal: 6.79s\tremaining: 6.78s\n",
      "3500:\tlearn: 0.2064689\ttotal: 8.14s\tremaining: 5.81s\n",
      "4000:\tlearn: 0.1659159\ttotal: 9.51s\tremaining: 4.75s\n",
      "4500:\tlearn: 0.1420205\ttotal: 10.8s\tremaining: 3.61s\n",
      "5000:\tlearn: 0.1235568\ttotal: 12.2s\tremaining: 2.43s\n",
      "5500:\tlearn: 0.1089453\ttotal: 13.5s\tremaining: 1.22s\n",
      "5999:\tlearn: 0.0974595\ttotal: 14.8s\tremaining: 0us\n"
     ]
    },
    {
     "data": {
      "text/plain": [
       "<catboost.core.CatBoostClassifier at 0x7f5c10a49450>"
      ]
     },
     "execution_count": 123,
     "metadata": {},
     "output_type": "execute_result"
    }
   ],
   "source": [
    "# Pooling training data\n",
    "train_data = Pool(\n",
    "    data=candidates_train[features],\n",
    "    label=candidates_train[target],\n",
    "    cat_features=cat_features\n",
    ")\n",
    "\n",
    "model = CatBoostClassifier(**catboost_params)\n",
    "\n",
    "# Launching training\n",
    "model.fit(train_data)"
   ]
  },
  {
   "cell_type": "code",
   "execution_count": 124,
   "metadata": {},
   "outputs": [
    {
     "data": {
      "text/html": [
       "<div>\n",
       "<style scoped>\n",
       "    .dataframe tbody tr th:only-of-type {\n",
       "        vertical-align: middle;\n",
       "    }\n",
       "\n",
       "    .dataframe tbody tr th {\n",
       "        vertical-align: top;\n",
       "    }\n",
       "\n",
       "    .dataframe thead th {\n",
       "        text-align: right;\n",
       "    }\n",
       "</style>\n",
       "<table border=\"1\" class=\"dataframe\">\n",
       "  <thead>\n",
       "    <tr style=\"text-align: right;\">\n",
       "      <th></th>\n",
       "      <th>id</th>\n",
       "      <th>rec_id</th>\n",
       "      <th>user_id</th>\n",
       "      <th>item_id</th>\n",
       "      <th>als_score</th>\n",
       "      <th>category_id</th>\n",
       "      <th>parent_id</th>\n",
       "      <th>available</th>\n",
       "      <th>cb_score</th>\n",
       "      <th>rank</th>\n",
       "    </tr>\n",
       "  </thead>\n",
       "  <tbody>\n",
       "    <tr>\n",
       "      <th>0</th>\n",
       "      <td>1</td>\n",
       "      <td>1554</td>\n",
       "      <td>54791</td>\n",
       "      <td>116624</td>\n",
       "      <td>2.194877e-12</td>\n",
       "      <td>959</td>\n",
       "      <td>1095</td>\n",
       "      <td>0</td>\n",
       "      <td>0.385898</td>\n",
       "      <td>1</td>\n",
       "    </tr>\n",
       "    <tr>\n",
       "      <th>1</th>\n",
       "      <td>2</td>\n",
       "      <td>1551</td>\n",
       "      <td>54791</td>\n",
       "      <td>417927</td>\n",
       "      <td>2.242130e-12</td>\n",
       "      <td>959</td>\n",
       "      <td>1095</td>\n",
       "      <td>0</td>\n",
       "      <td>0.385677</td>\n",
       "      <td>2</td>\n",
       "    </tr>\n",
       "    <tr>\n",
       "      <th>2</th>\n",
       "      <td>3</td>\n",
       "      <td>1584</td>\n",
       "      <td>54791</td>\n",
       "      <td>393028</td>\n",
       "      <td>1.611422e-12</td>\n",
       "      <td>5</td>\n",
       "      <td>1637</td>\n",
       "      <td>0</td>\n",
       "      <td>0.304413</td>\n",
       "      <td>3</td>\n",
       "    </tr>\n",
       "    <tr>\n",
       "      <th>3</th>\n",
       "      <td>4</td>\n",
       "      <td>1508</td>\n",
       "      <td>54791</td>\n",
       "      <td>118914</td>\n",
       "      <td>5.266289e-12</td>\n",
       "      <td>1051</td>\n",
       "      <td>955</td>\n",
       "      <td>1</td>\n",
       "      <td>0.281061</td>\n",
       "      <td>4</td>\n",
       "    </tr>\n",
       "    <tr>\n",
       "      <th>4</th>\n",
       "      <td>5</td>\n",
       "      <td>1542</td>\n",
       "      <td>54791</td>\n",
       "      <td>85914</td>\n",
       "      <td>2.502044e-12</td>\n",
       "      <td>928</td>\n",
       "      <td>20</td>\n",
       "      <td>1</td>\n",
       "      <td>0.254072</td>\n",
       "      <td>5</td>\n",
       "    </tr>\n",
       "    <tr>\n",
       "      <th>...</th>\n",
       "      <td>...</td>\n",
       "      <td>...</td>\n",
       "      <td>...</td>\n",
       "      <td>...</td>\n",
       "      <td>...</td>\n",
       "      <td>...</td>\n",
       "      <td>...</td>\n",
       "      <td>...</td>\n",
       "      <td>...</td>\n",
       "      <td>...</td>\n",
       "    </tr>\n",
       "    <tr>\n",
       "      <th>6094</th>\n",
       "      <td>6095</td>\n",
       "      <td>33538</td>\n",
       "      <td>1403769</td>\n",
       "      <td>412898</td>\n",
       "      <td>6.312227e-03</td>\n",
       "      <td>491</td>\n",
       "      <td>679</td>\n",
       "      <td>0</td>\n",
       "      <td>0.008205</td>\n",
       "      <td>96</td>\n",
       "    </tr>\n",
       "    <tr>\n",
       "      <th>6095</th>\n",
       "      <td>6096</td>\n",
       "      <td>33521</td>\n",
       "      <td>1403769</td>\n",
       "      <td>210087</td>\n",
       "      <td>1.074475e-02</td>\n",
       "      <td>1385</td>\n",
       "      <td>1202</td>\n",
       "      <td>0</td>\n",
       "      <td>0.006586</td>\n",
       "      <td>97</td>\n",
       "    </tr>\n",
       "    <tr>\n",
       "      <th>6096</th>\n",
       "      <td>6097</td>\n",
       "      <td>33503</td>\n",
       "      <td>1403769</td>\n",
       "      <td>11670</td>\n",
       "      <td>3.777569e-02</td>\n",
       "      <td>1135</td>\n",
       "      <td>1329</td>\n",
       "      <td>0</td>\n",
       "      <td>0.003908</td>\n",
       "      <td>98</td>\n",
       "    </tr>\n",
       "    <tr>\n",
       "      <th>6097</th>\n",
       "      <td>6098</td>\n",
       "      <td>33599</td>\n",
       "      <td>1403769</td>\n",
       "      <td>193828</td>\n",
       "      <td>2.139800e-03</td>\n",
       "      <td>819</td>\n",
       "      <td>798</td>\n",
       "      <td>0</td>\n",
       "      <td>0.001841</td>\n",
       "      <td>99</td>\n",
       "    </tr>\n",
       "    <tr>\n",
       "      <th>6098</th>\n",
       "      <td>6099</td>\n",
       "      <td>33528</td>\n",
       "      <td>1403769</td>\n",
       "      <td>21455</td>\n",
       "      <td>8.725054e-03</td>\n",
       "      <td>535</td>\n",
       "      <td>426</td>\n",
       "      <td>0</td>\n",
       "      <td>0.001629</td>\n",
       "      <td>100</td>\n",
       "    </tr>\n",
       "  </tbody>\n",
       "</table>\n",
       "<p>6099 rows × 10 columns</p>\n",
       "</div>"
      ],
      "text/plain": [
       "        id  rec_id  user_id  item_id     als_score  category_id  parent_id  \\\n",
       "0        1    1554    54791   116624  2.194877e-12          959       1095   \n",
       "1        2    1551    54791   417927  2.242130e-12          959       1095   \n",
       "2        3    1584    54791   393028  1.611422e-12            5       1637   \n",
       "3        4    1508    54791   118914  5.266289e-12         1051        955   \n",
       "4        5    1542    54791    85914  2.502044e-12          928         20   \n",
       "...    ...     ...      ...      ...           ...          ...        ...   \n",
       "6094  6095   33538  1403769   412898  6.312227e-03          491        679   \n",
       "6095  6096   33521  1403769   210087  1.074475e-02         1385       1202   \n",
       "6096  6097   33503  1403769    11670  3.777569e-02         1135       1329   \n",
       "6097  6098   33599  1403769   193828  2.139800e-03          819        798   \n",
       "6098  6099   33528  1403769    21455  8.725054e-03          535        426   \n",
       "\n",
       "      available  cb_score  rank  \n",
       "0             0  0.385898     1  \n",
       "1             0  0.385677     2  \n",
       "2             0  0.304413     3  \n",
       "3             1  0.281061     4  \n",
       "4             1  0.254072     5  \n",
       "...         ...       ...   ...  \n",
       "6094          0  0.008205    96  \n",
       "6095          0  0.006586    97  \n",
       "6096          0  0.003908    98  \n",
       "6097          0  0.001841    99  \n",
       "6098          0  0.001629   100  \n",
       "\n",
       "[6099 rows x 10 columns]"
      ]
     },
     "execution_count": 124,
     "metadata": {},
     "output_type": "execute_result"
    }
   ],
   "source": [
    "# Predicting interaction probabilities\n",
    "inf_data = Pool(data=candidates_inference[features], cat_features=cat_features)\n",
    "predictions = model.predict_proba(inf_data)\n",
    "candidates_inference[\"cb_score\"] = predictions[:, 1]\n",
    "\n",
    "# Sorting the DataFrame to create rankings\n",
    "candidates_inference_ranked = candidates_inference.sort_values(\n",
    "    by=[\"user_id\", \"cb_score\"], ascending=[True, False]\n",
    ")\n",
    "\n",
    "# Ranking recommendations\n",
    "candidates_inference_ranked[\"rank\"] = candidates_inference_ranked.groupby(\"user_id\").cumcount() + 1\n",
    "\n",
    "candidates_inference_ranked[\"id\"] = np.arange(1, candidates_inference_ranked.shape[0] + 1)\n",
    "candidates_inference_ranked = candidates_inference_ranked.reset_index(drop=True)\n",
    "candidates_inference_ranked"
   ]
  },
  {
   "cell_type": "markdown",
   "metadata": {},
   "source": [
    "Итак на основе обученной модели мы смогли отранжировать тестовые рекомендации на этапе инференса. Теперь у каждого пользователя из теста есть ранжировки для топ-100 товаров.\n",
    "\n",
    "Посмотрим, какие факторы модель признала наиболее важными для оценки вероятностей:"
   ]
  },
  {
   "cell_type": "code",
   "execution_count": 125,
   "metadata": {},
   "outputs": [
    {
     "data": {
      "image/png": "[encoded data removed]",
      "text/plain": [
       "<Figure size 640x480 with 1 Axes>"
      ]
     },
     "metadata": {},
     "output_type": "display_data"
    }
   ],
   "source": [
    "fi = pd.Series(\n",
    "    model.feature_importances_,\n",
    "    index=features,\n",
    "    name=\"fi_final_recs\",\n",
    ").sort_values()\n",
    "\n",
    "fi.plot(kind=\"barh\")\n",
    "plt.title(\"Feature importances (Catboost)\")\n",
    "plt.ylabel(\"Feature\")\n",
    "plt.xlabel(\"Importance score\")\n",
    "plt.tight_layout()\n",
    "plt.savefig(f\"{ASSETS_DIR}/feature_importances.png\")\n",
    "plt.show()"
   ]
  },
  {
   "cell_type": "markdown",
   "metadata": {},
   "source": [
    "Наиболее важным фактором модель считает сами скоры ALS-модели, что логично, ведь это по сути оцененные рейтинги для рекомендаций товаров. Далее, примерно в одинаковом соотношении находятся категориальные переменные для категорий товаров и наименее всего приходится на доступность товара."
   ]
  },
  {
   "cell_type": "markdown",
   "metadata": {},
   "source": [
    "### Computing metrics"
   ]
  },
  {
   "cell_type": "markdown",
   "metadata": {},
   "source": [
    "Ранжированные рекомендации будут оцениваться исходя из `precision@10` и `recall@10` метрик. Сначала определим функции, которые будут отвечать за их расчет:"
   ]
  },
  {
   "cell_type": "code",
   "execution_count": 126,
   "metadata": {},
   "outputs": [],
   "source": [
    "def process_events_recs_for_binary_metrics(events_train, events_test, recs, top_k=None):\n",
    "    \"\"\"Labels <user_id, item_id> pairs for common users with features:\n",
    "    - gt => ground truth\n",
    "    - pr => prediction\n",
    "    top_k => using top-k recommendations for computation\n",
    "    \"\"\"\n",
    "    \n",
    "    events_test[\"gt\"] = True\n",
    "    common_users = set(events_test[\"user_id\"]) & set(recs[\"user_id\"])\n",
    "    \n",
    "    events_for_common_users = events_test[events_test[\"user_id\"].isin(common_users)].copy()\n",
    "    recs_for_common_users = recs[recs[\"user_id\"].isin(common_users)].copy()\n",
    "\n",
    "    recs_for_common_users = recs_for_common_users.sort_values([\"user_id\", \"score\"], ascending=[True, False])\n",
    "\n",
    "    events_for_common_users = events_for_common_users[events_for_common_users[\"item_id\"].isin(\n",
    "        events_train[\"item_id\"].unique()\n",
    "    )\n",
    "    ]\n",
    "\n",
    "    if top_k is not None:\n",
    "        recs_for_common_users = recs_for_common_users.groupby(\"user_id\").head(top_k)\n",
    "    \n",
    "    events_recs_common = events_for_common_users[[\"user_id\", \"item_id\", \"gt\"]].merge(\n",
    "        recs_for_common_users[[\"user_id\", \"item_id\", \"score\"]], \n",
    "        on=[\"user_id\", \"item_id\"], \n",
    "        how=\"outer\",\n",
    "    )\n",
    "\n",
    "    events_recs_common[\"gt\"] = events_recs_common[\"gt\"].fillna(False)\n",
    "    events_recs_common[\"pr\"] = ~events_recs_common[\"score\"].isnull()\n",
    "    \n",
    "    events_recs_common[\"tp\"] = events_recs_common[\"gt\"] & events_recs_common[\"pr\"]\n",
    "    events_recs_common[\"fp\"] = ~events_recs_common[\"gt\"] & events_recs_common[\"pr\"]\n",
    "    events_recs_common[\"fn\"] = events_recs_common[\"gt\"] & ~events_recs_common[\"pr\"]\n",
    "\n",
    "    return events_recs_common\n"
   ]
  },
  {
   "cell_type": "code",
   "execution_count": 127,
   "metadata": {},
   "outputs": [],
   "source": [
    "def compute_cls_metrics(events_recs_for_binary_metric):\n",
    "    \"\"\"Computes precision and recall.\"\"\"\n",
    "    \n",
    "    groupper = events_recs_for_binary_metric.groupby(\"user_id\")\n",
    "\n",
    "    # Computing precision\n",
    "    precision = groupper[\"tp\"].sum()/(groupper[\"tp\"].sum()+groupper[\"fp\"].sum())\n",
    "    precision = precision.fillna(0).mean()\n",
    "    \n",
    "    # Computing recall\n",
    "    recall = groupper[\"tp\"].sum()/(groupper[\"tp\"].sum()+groupper[\"fn\"].sum())\n",
    "    recall = recall.fillna(0).mean()\n",
    "\n",
    "    return precision, recall"
   ]
  },
  {
   "cell_type": "markdown",
   "metadata": {},
   "source": [
    "Считаем метрики:"
   ]
  },
  {
   "cell_type": "code",
   "execution_count": 128,
   "metadata": {},
   "outputs": [
    {
     "name": "stdout",
     "output_type": "stream",
     "text": [
      "Precision@10 = 0.06524 (6.524%)\n",
      "Recall@10 = 0.07024 (7.024%)\n"
     ]
    }
   ],
   "source": [
    "events_recs_for_binary_metric = process_events_recs_for_binary_metrics(\n",
    "    inference_data,\n",
    "    events_test_2,\n",
    "    candidates_inference_ranked.rename(columns={\"cb_score\": \"score\"}),\n",
    "    top_k=10,\n",
    ")\n",
    "\n",
    "precision_at_10_personal, recall_at_10_personal = compute_cls_metrics(events_recs_for_binary_metric)\n",
    "\n",
    "print(f\"Precision@10 = {precision_at_10_personal:.5f} ({precision_at_10_personal:.3%})\")\n",
    "print(f\"Recall@10 = {recall_at_10_personal:.5f} ({recall_at_10_personal:.3%})\")"
   ]
  },
  {
   "cell_type": "code",
   "execution_count": 129,
   "metadata": {},
   "outputs": [
    {
     "data": {
      "text/plain": [
       "{'precision_at_10': 0.06523967835443245, 'recall_at_10': 0.07024405949186102}"
      ]
     },
     "execution_count": 129,
     "metadata": {},
     "output_type": "execute_result"
    }
   ],
   "source": [
    "recommendation_metrics = {\n",
    "    \"precision_at_10\": precision_at_10_personal,\n",
    "    \"recall_at_10\": recall_at_10_personal\n",
    "}\n",
    "recommendation_metrics"
   ]
  },
  {
   "cell_type": "markdown",
   "metadata": {},
   "source": [
    "Получились не самые хорошие результаты, что может быть причиной наличия сильного дисбаланса классов в тренировочной выборке. Другими словами, среди топ-10 только 6.5% товаров было признано релевантными, а среди топ-10 только 7% товаров было индентифицировано.\n",
    "\n",
    "Сохраним данный ранкинг, а также модель, которая была использована для их получения:"
   ]
  },
  {
   "cell_type": "code",
   "execution_count": 130,
   "metadata": {},
   "outputs": [],
   "source": [
    "candidates_inference_ranked.to_parquet(f\"{ASSETS_DIR}/personal_recommendations.parquet\")"
   ]
  },
  {
   "cell_type": "code",
   "execution_count": 131,
   "metadata": {},
   "outputs": [],
   "source": [
    "model.save_model(f\"{POSTGRES_DATA_DIR}/catboost_model.cbm\")"
   ]
  },
  {
   "cell_type": "markdown",
   "metadata": {},
   "source": [
    "Заметим, что отранжированные рекомендации не сохраняем в директории Airflow, поскольку такие же рекомендации будут получены в ходе выполнения одного из графов, о чем будет подробнее рассказано в секции Airflow."
   ]
  },
  {
   "cell_type": "markdown",
   "metadata": {},
   "source": [
    "### Logging artifacts (Mlflow)"
   ]
  },
  {
   "cell_type": "code",
   "execution_count": 132,
   "metadata": {},
   "outputs": [
    {
     "name": "stderr",
     "output_type": "stream",
     "text": [
      "/home/mle-user/mle_projects/final_projects/mle-pr-final/.venv_test/lib/python3.10/site-packages/_distutils_hack/__init__.py:16: UserWarning: Distutils was imported before Setuptools, but importing Setuptools also replaces the `distutils` module in `sys.modules`. This may lead to undesirable behaviors or errors. To avoid these issues, avoid using distutils directly, ensure that setuptools is installed in the traditional way (e.g. not an editable install), and/or make sure that setuptools is always imported before distutils.\n",
      "  warnings.warn(\n",
      "/home/mle-user/mle_projects/final_projects/mle-pr-final/.venv_test/lib/python3.10/site-packages/_distutils_hack/__init__.py:31: UserWarning: Setuptools is replacing distutils. Support for replacing an already imported distutils is deprecated. In the future, this condition will fail. Register concerns at https://github.com/pypa/setuptools/issues/new?template=distutils-deprecation.yml\n",
      "  warnings.warn(\n",
      "Registered model 'cb_ranking_model' already exists. Creating a new version of this model...\n",
      "2024/10/04 23:03:59 INFO mlflow.store.model_registry.abstract_store: Waiting up to 60 seconds for model version to finish creation. Model name: cb_ranking_model, version 2\n",
      "Created version '2' of model 'cb_ranking_model'.\n",
      "2024/10/04 23:03:59 WARNING mlflow.models.model: Input example should be provided to infer model signature if the model signature is not provided when logging the model.\n",
      "2024/10/04 23:03:59 INFO mlflow.tracking._tracking_service.client: 🏃 View run recommendations_ranking at: http://127.0.0.1:5000/#/experiments/19/runs/f8c2570058d04dcab775bf0075000926.\n",
      "2024/10/04 23:03:59 INFO mlflow.tracking._tracking_service.client: 🧪 View experiment at: http://127.0.0.1:5000/#/experiments/19.\n"
     ]
    }
   ],
   "source": [
    "RUN_NAME = \"recommendations_ranking\"\n",
    "REGISTERED_MODEL_NAME = \"cb_ranking_model\"\n",
    "with mlflow.start_run(run_name=RUN_NAME, experiment_id=experiment_id) as run:\n",
    "    \n",
    "    run_id = run.info.run_id\n",
    "    mlflow.log_params(catboost_params)\n",
    "    mlflow.log_metrics(recommendation_metrics)\n",
    "\n",
    "    mlflow.log_artifact(f\"{ASSETS_DIR}/personal_recommendations.parquet\", \"recommendations\")\n",
    "    mlflow.log_artifact(f\"{ASSETS_DIR}/feature_importances.png\", \"cb_model\")\n",
    "\n",
    "    model_info = mlflow.catboost.log_model( \n",
    "            registered_model_name=REGISTERED_MODEL_NAME,\n",
    "            cb_model=model,\n",
    "            await_registration_for=60,\n",
    "            artifact_path='models',\n",
    "            pip_requirements=\"../requirements.txt\",\n",
    "    )"
   ]
  },
  {
   "cell_type": "markdown",
   "metadata": {},
   "source": [
    "## Simple Catboost parameters tuning"
   ]
  },
  {
   "cell_type": "markdown",
   "metadata": {},
   "source": [
    "Результаты, полученные на предыдущем этапе не вдохновляют, поэтом может попробовать немного потюнить параметры катбуста. Ввиду сложности и специфичности расчета метрик качества, не представляется возможно использования каких-то автоматизированных средств поиска и оптимизации гиперпараметров. Поэтому возьмем две комбинации параметров и посмотрим на метрики."
   ]
  },
  {
   "cell_type": "markdown",
   "metadata": {},
   "source": [
    "### Test 1"
   ]
  },
  {
   "cell_type": "code",
   "execution_count": 133,
   "metadata": {},
   "outputs": [],
   "source": [
    "catboost_params = {\n",
    "    \"iterations\": 1700,\n",
    "    \"learning_rate\": 0.1,\n",
    "    \"depth\": 5,\n",
    "    \"verbose\": 200,\n",
    "    \"loss_function\": \"Logloss\",\n",
    "    \"auto_class_weights\": \"Balanced\",\n",
    "    \"random_seed\": RANDOM_STATE,\n",
    "}"
   ]
  },
  {
   "cell_type": "code",
   "execution_count": 134,
   "metadata": {},
   "outputs": [
    {
     "name": "stdout",
     "output_type": "stream",
     "text": [
      "0:\tlearn: 0.6529755\ttotal: 3.13ms\tremaining: 5.32s\n",
      "200:\tlearn: 0.1171000\ttotal: 454ms\tremaining: 3.38s\n",
      "400:\tlearn: 0.0539480\ttotal: 956ms\tremaining: 3.1s\n",
      "600:\tlearn: 0.0334988\ttotal: 1.46s\tremaining: 2.67s\n",
      "800:\tlearn: 0.0257362\ttotal: 1.95s\tremaining: 2.19s\n",
      "1000:\tlearn: 0.0241743\ttotal: 2.38s\tremaining: 1.66s\n",
      "1200:\tlearn: 0.0228792\ttotal: 2.8s\tremaining: 1.16s\n",
      "1400:\tlearn: 0.0205593\ttotal: 3.24s\tremaining: 692ms\n",
      "1600:\tlearn: 0.0193689\ttotal: 3.67s\tremaining: 227ms\n",
      "1699:\tlearn: 0.0181817\ttotal: 3.88s\tremaining: 0us\n"
     ]
    },
    {
     "data": {
      "text/plain": [
       "<catboost.core.CatBoostClassifier at 0x7f5c438f46a0>"
      ]
     },
     "execution_count": 134,
     "metadata": {},
     "output_type": "execute_result"
    }
   ],
   "source": [
    "# Pooling training data\n",
    "train_data = Pool(\n",
    "    data=candidates_train[features],\n",
    "    label=candidates_train[target],\n",
    "    cat_features=cat_features\n",
    ")\n",
    "\n",
    "model = CatBoostClassifier(**catboost_params)\n",
    "\n",
    "# Launching training\n",
    "model.fit(train_data)"
   ]
  },
  {
   "cell_type": "code",
   "execution_count": 135,
   "metadata": {},
   "outputs": [
    {
     "data": {
      "text/html": [
       "<div>\n",
       "<style scoped>\n",
       "    .dataframe tbody tr th:only-of-type {\n",
       "        vertical-align: middle;\n",
       "    }\n",
       "\n",
       "    .dataframe tbody tr th {\n",
       "        vertical-align: top;\n",
       "    }\n",
       "\n",
       "    .dataframe thead th {\n",
       "        text-align: right;\n",
       "    }\n",
       "</style>\n",
       "<table border=\"1\" class=\"dataframe\">\n",
       "  <thead>\n",
       "    <tr style=\"text-align: right;\">\n",
       "      <th></th>\n",
       "      <th>id</th>\n",
       "      <th>rec_id</th>\n",
       "      <th>user_id</th>\n",
       "      <th>item_id</th>\n",
       "      <th>als_score</th>\n",
       "      <th>category_id</th>\n",
       "      <th>parent_id</th>\n",
       "      <th>available</th>\n",
       "      <th>cb_score</th>\n",
       "      <th>rank</th>\n",
       "    </tr>\n",
       "  </thead>\n",
       "  <tbody>\n",
       "    <tr>\n",
       "      <th>0</th>\n",
       "      <td>1</td>\n",
       "      <td>1551</td>\n",
       "      <td>54791</td>\n",
       "      <td>417927</td>\n",
       "      <td>2.242130e-12</td>\n",
       "      <td>959</td>\n",
       "      <td>1095</td>\n",
       "      <td>0</td>\n",
       "      <td>0.243722</td>\n",
       "      <td>1</td>\n",
       "    </tr>\n",
       "    <tr>\n",
       "      <th>1</th>\n",
       "      <td>2</td>\n",
       "      <td>1554</td>\n",
       "      <td>54791</td>\n",
       "      <td>116624</td>\n",
       "      <td>2.194877e-12</td>\n",
       "      <td>959</td>\n",
       "      <td>1095</td>\n",
       "      <td>0</td>\n",
       "      <td>0.243722</td>\n",
       "      <td>2</td>\n",
       "    </tr>\n",
       "    <tr>\n",
       "      <th>2</th>\n",
       "      <td>3</td>\n",
       "      <td>1584</td>\n",
       "      <td>54791</td>\n",
       "      <td>393028</td>\n",
       "      <td>1.611422e-12</td>\n",
       "      <td>5</td>\n",
       "      <td>1637</td>\n",
       "      <td>0</td>\n",
       "      <td>0.075361</td>\n",
       "      <td>3</td>\n",
       "    </tr>\n",
       "    <tr>\n",
       "      <th>3</th>\n",
       "      <td>4</td>\n",
       "      <td>1553</td>\n",
       "      <td>54791</td>\n",
       "      <td>42002</td>\n",
       "      <td>2.203550e-12</td>\n",
       "      <td>1415</td>\n",
       "      <td>14</td>\n",
       "      <td>0</td>\n",
       "      <td>0.064321</td>\n",
       "      <td>4</td>\n",
       "    </tr>\n",
       "    <tr>\n",
       "      <th>4</th>\n",
       "      <td>5</td>\n",
       "      <td>1536</td>\n",
       "      <td>54791</td>\n",
       "      <td>92361</td>\n",
       "      <td>2.624674e-12</td>\n",
       "      <td>959</td>\n",
       "      <td>1095</td>\n",
       "      <td>1</td>\n",
       "      <td>0.039543</td>\n",
       "      <td>5</td>\n",
       "    </tr>\n",
       "    <tr>\n",
       "      <th>...</th>\n",
       "      <td>...</td>\n",
       "      <td>...</td>\n",
       "      <td>...</td>\n",
       "      <td>...</td>\n",
       "      <td>...</td>\n",
       "      <td>...</td>\n",
       "      <td>...</td>\n",
       "      <td>...</td>\n",
       "      <td>...</td>\n",
       "      <td>...</td>\n",
       "    </tr>\n",
       "    <tr>\n",
       "      <th>6094</th>\n",
       "      <td>6095</td>\n",
       "      <td>33538</td>\n",
       "      <td>1403769</td>\n",
       "      <td>412898</td>\n",
       "      <td>6.312227e-03</td>\n",
       "      <td>491</td>\n",
       "      <td>679</td>\n",
       "      <td>0</td>\n",
       "      <td>0.000029</td>\n",
       "      <td>96</td>\n",
       "    </tr>\n",
       "    <tr>\n",
       "      <th>6095</th>\n",
       "      <td>6096</td>\n",
       "      <td>33535</td>\n",
       "      <td>1403769</td>\n",
       "      <td>301721</td>\n",
       "      <td>6.762858e-03</td>\n",
       "      <td>470</td>\n",
       "      <td>520</td>\n",
       "      <td>1</td>\n",
       "      <td>0.000028</td>\n",
       "      <td>97</td>\n",
       "    </tr>\n",
       "    <tr>\n",
       "      <th>6096</th>\n",
       "      <td>6097</td>\n",
       "      <td>33503</td>\n",
       "      <td>1403769</td>\n",
       "      <td>11670</td>\n",
       "      <td>3.777569e-02</td>\n",
       "      <td>1135</td>\n",
       "      <td>1329</td>\n",
       "      <td>0</td>\n",
       "      <td>0.000014</td>\n",
       "      <td>98</td>\n",
       "    </tr>\n",
       "    <tr>\n",
       "      <th>6097</th>\n",
       "      <td>6098</td>\n",
       "      <td>33512</td>\n",
       "      <td>1403769</td>\n",
       "      <td>321905</td>\n",
       "      <td>1.550334e-02</td>\n",
       "      <td>1051</td>\n",
       "      <td>955</td>\n",
       "      <td>0</td>\n",
       "      <td>0.000011</td>\n",
       "      <td>99</td>\n",
       "    </tr>\n",
       "    <tr>\n",
       "      <th>6098</th>\n",
       "      <td>6099</td>\n",
       "      <td>33528</td>\n",
       "      <td>1403769</td>\n",
       "      <td>21455</td>\n",
       "      <td>8.725054e-03</td>\n",
       "      <td>535</td>\n",
       "      <td>426</td>\n",
       "      <td>0</td>\n",
       "      <td>0.000002</td>\n",
       "      <td>100</td>\n",
       "    </tr>\n",
       "  </tbody>\n",
       "</table>\n",
       "<p>6099 rows × 10 columns</p>\n",
       "</div>"
      ],
      "text/plain": [
       "        id  rec_id  user_id  item_id     als_score  category_id  parent_id  \\\n",
       "0        1    1551    54791   417927  2.242130e-12          959       1095   \n",
       "1        2    1554    54791   116624  2.194877e-12          959       1095   \n",
       "2        3    1584    54791   393028  1.611422e-12            5       1637   \n",
       "3        4    1553    54791    42002  2.203550e-12         1415         14   \n",
       "4        5    1536    54791    92361  2.624674e-12          959       1095   \n",
       "...    ...     ...      ...      ...           ...          ...        ...   \n",
       "6094  6095   33538  1403769   412898  6.312227e-03          491        679   \n",
       "6095  6096   33535  1403769   301721  6.762858e-03          470        520   \n",
       "6096  6097   33503  1403769    11670  3.777569e-02         1135       1329   \n",
       "6097  6098   33512  1403769   321905  1.550334e-02         1051        955   \n",
       "6098  6099   33528  1403769    21455  8.725054e-03          535        426   \n",
       "\n",
       "      available  cb_score  rank  \n",
       "0             0  0.243722     1  \n",
       "1             0  0.243722     2  \n",
       "2             0  0.075361     3  \n",
       "3             0  0.064321     4  \n",
       "4             1  0.039543     5  \n",
       "...         ...       ...   ...  \n",
       "6094          0  0.000029    96  \n",
       "6095          1  0.000028    97  \n",
       "6096          0  0.000014    98  \n",
       "6097          0  0.000011    99  \n",
       "6098          0  0.000002   100  \n",
       "\n",
       "[6099 rows x 10 columns]"
      ]
     },
     "execution_count": 135,
     "metadata": {},
     "output_type": "execute_result"
    }
   ],
   "source": [
    "# Predicting interaction probabilities\n",
    "inf_data = Pool(data=candidates_inference[features], cat_features=cat_features)\n",
    "predictions = model.predict_proba(inf_data)\n",
    "candidates_inference[\"cb_score\"] = predictions[:, 1]\n",
    "\n",
    "# Sorting the DataFrame to create rankings\n",
    "candidates_inference_ranked = candidates_inference.sort_values(\n",
    "    by=[\"user_id\", \"cb_score\"], ascending=[True, False]\n",
    ")\n",
    "\n",
    "# Ranking recommendations\n",
    "candidates_inference_ranked[\"rank\"] = candidates_inference_ranked.groupby(\"user_id\").cumcount() + 1\n",
    "\n",
    "candidates_inference_ranked[\"id\"] = np.arange(1, candidates_inference_ranked.shape[0] + 1)\n",
    "candidates_inference_ranked = candidates_inference_ranked.reset_index(drop=True)\n",
    "candidates_inference_ranked"
   ]
  },
  {
   "cell_type": "code",
   "execution_count": 136,
   "metadata": {},
   "outputs": [
    {
     "data": {
      "image/png": "[encoded data removed]",
      "text/plain": [
       "<Figure size 640x480 with 1 Axes>"
      ]
     },
     "metadata": {},
     "output_type": "display_data"
    }
   ],
   "source": [
    "fi = pd.Series(\n",
    "    model.feature_importances_,\n",
    "    index=features,\n",
    "    name=\"fi_final_recs\",\n",
    ").sort_values()\n",
    "\n",
    "fi.plot(kind=\"barh\")\n",
    "plt.title(\"Feature importances (Catboost) - Test 1\")\n",
    "plt.ylabel(\"Feature\")\n",
    "plt.xlabel(\"Importance score\")\n",
    "plt.tight_layout()\n",
    "plt.savefig(f\"{ASSETS_DIR}/feature_importances_2.png\")\n",
    "plt.show()"
   ]
  },
  {
   "cell_type": "code",
   "execution_count": 137,
   "metadata": {},
   "outputs": [
    {
     "name": "stdout",
     "output_type": "stream",
     "text": [
      "Precision@10 = 0.05623 (5.623%)\n",
      "Recall@10 = 0.08716 (8.716%)\n"
     ]
    }
   ],
   "source": [
    "events_recs_for_binary_metric = process_events_recs_for_binary_metrics(\n",
    "    inference_data,\n",
    "    events_test_2,\n",
    "    candidates_inference_ranked.rename(columns={\"cb_score\": \"score\"}),\n",
    "    top_k=10,\n",
    ")\n",
    "\n",
    "precision_at_10_personal, recall_at_10_personal = compute_cls_metrics(events_recs_for_binary_metric)\n",
    "\n",
    "print(f\"Precision@10 = {precision_at_10_personal:.5f} ({precision_at_10_personal:.3%})\")\n",
    "print(f\"Recall@10 = {recall_at_10_personal:.5f} ({recall_at_10_personal:.3%})\")"
   ]
  },
  {
   "cell_type": "code",
   "execution_count": 138,
   "metadata": {},
   "outputs": [
    {
     "data": {
      "text/plain": [
       "{'precision_at_10': 0.05623256524895869, 'recall_at_10': 0.08716407104555893}"
      ]
     },
     "execution_count": 138,
     "metadata": {},
     "output_type": "execute_result"
    }
   ],
   "source": [
    "recommendation_metrics = {\n",
    "    \"precision_at_10\": precision_at_10_personal,\n",
    "    \"recall_at_10\": recall_at_10_personal\n",
    "}\n",
    "recommendation_metrics"
   ]
  },
  {
   "cell_type": "code",
   "execution_count": 139,
   "metadata": {},
   "outputs": [],
   "source": [
    "candidates_inference_ranked.to_parquet(f\"{ASSETS_DIR}/personal_recommendations_2.parquet\")"
   ]
  },
  {
   "cell_type": "code",
   "execution_count": 140,
   "metadata": {},
   "outputs": [
    {
     "name": "stderr",
     "output_type": "stream",
     "text": [
      "/home/mle-user/mle_projects/final_projects/mle-pr-final/.venv_test/lib/python3.10/site-packages/_distutils_hack/__init__.py:16: UserWarning: Distutils was imported before Setuptools, but importing Setuptools also replaces the `distutils` module in `sys.modules`. This may lead to undesirable behaviors or errors. To avoid these issues, avoid using distutils directly, ensure that setuptools is installed in the traditional way (e.g. not an editable install), and/or make sure that setuptools is always imported before distutils.\n",
      "  warnings.warn(\n",
      "/home/mle-user/mle_projects/final_projects/mle-pr-final/.venv_test/lib/python3.10/site-packages/_distutils_hack/__init__.py:31: UserWarning: Setuptools is replacing distutils. Support for replacing an already imported distutils is deprecated. In the future, this condition will fail. Register concerns at https://github.com/pypa/setuptools/issues/new?template=distutils-deprecation.yml\n",
      "  warnings.warn(\n",
      "Registered model 'cb_ranking_model' already exists. Creating a new version of this model...\n",
      "2024/10/04 23:12:44 INFO mlflow.store.model_registry.abstract_store: Waiting up to 60 seconds for model version to finish creation. Model name: cb_ranking_model, version 3\n",
      "Created version '3' of model 'cb_ranking_model'.\n",
      "2024/10/04 23:12:44 WARNING mlflow.models.model: Input example should be provided to infer model signature if the model signature is not provided when logging the model.\n",
      "2024/10/04 23:12:44 INFO mlflow.tracking._tracking_service.client: 🏃 View run recommendations_ranking_t1 at: http://127.0.0.1:5000/#/experiments/19/runs/527782c40a544808b7b9dcf023199d3a.\n",
      "2024/10/04 23:12:44 INFO mlflow.tracking._tracking_service.client: 🧪 View experiment at: http://127.0.0.1:5000/#/experiments/19.\n"
     ]
    }
   ],
   "source": [
    "RUN_NAME = \"recommendations_ranking_t1\"\n",
    "REGISTERED_MODEL_NAME = \"cb_ranking_model\"\n",
    "with mlflow.start_run(run_name=RUN_NAME, experiment_id=experiment_id) as run:\n",
    "    \n",
    "    run_id = run.info.run_id\n",
    "    mlflow.log_params(catboost_params)\n",
    "    mlflow.log_metrics(recommendation_metrics)\n",
    "\n",
    "    mlflow.log_artifact(f\"{ASSETS_DIR}/personal_recommendations_2.parquet\", \"recommendations\")\n",
    "    mlflow.log_artifact(f\"{ASSETS_DIR}/feature_importances_2.png\", \"cb_model\")\n",
    "\n",
    "    model_info = mlflow.catboost.log_model( \n",
    "            registered_model_name=REGISTERED_MODEL_NAME,\n",
    "            cb_model=model,\n",
    "            await_registration_for=60,\n",
    "            artifact_path='models',\n",
    "            pip_requirements=\"../requirements.txt\",\n",
    "    )"
   ]
  },
  {
   "cell_type": "markdown",
   "metadata": {},
   "source": [
    "### Test 2"
   ]
  },
  {
   "cell_type": "code",
   "execution_count": 141,
   "metadata": {},
   "outputs": [],
   "source": [
    "catboost_params = {\n",
    "    \"iterations\": 3000,\n",
    "    \"verbose\": 500,\n",
    "    \"loss_function\": \"Logloss\",\n",
    "    \"auto_class_weights\": \"Balanced\",\n",
    "    \"random_seed\": RANDOM_STATE,\n",
    "}"
   ]
  },
  {
   "cell_type": "code",
   "execution_count": 142,
   "metadata": {},
   "outputs": [
    {
     "name": "stdout",
     "output_type": "stream",
     "text": [
      "Learning rate set to 0.005981\n",
      "0:\tlearn: 0.6895978\ttotal: 3.23ms\tremaining: 9.7s\n",
      "500:\tlearn: 0.4393918\ttotal: 1.17s\tremaining: 5.84s\n",
      "1000:\tlearn: 0.3689681\ttotal: 2.25s\tremaining: 4.5s\n",
      "1500:\tlearn: 0.2885911\ttotal: 3.39s\tremaining: 3.38s\n",
      "2000:\tlearn: 0.1810796\ttotal: 4.7s\tremaining: 2.35s\n",
      "2500:\tlearn: 0.1311618\ttotal: 6.01s\tremaining: 1.2s\n",
      "2999:\tlearn: 0.1039103\ttotal: 7.34s\tremaining: 0us\n"
     ]
    },
    {
     "data": {
      "text/plain": [
       "<catboost.core.CatBoostClassifier at 0x7f5c4392dab0>"
      ]
     },
     "execution_count": 142,
     "metadata": {},
     "output_type": "execute_result"
    }
   ],
   "source": [
    "# Pooling training data\n",
    "train_data = Pool(\n",
    "    data=candidates_train[features],\n",
    "    label=candidates_train[target],\n",
    "    cat_features=cat_features\n",
    ")\n",
    "\n",
    "model = CatBoostClassifier(**catboost_params)\n",
    "\n",
    "# Launching training\n",
    "model.fit(train_data)"
   ]
  },
  {
   "cell_type": "code",
   "execution_count": 143,
   "metadata": {},
   "outputs": [
    {
     "data": {
      "text/html": [
       "<div>\n",
       "<style scoped>\n",
       "    .dataframe tbody tr th:only-of-type {\n",
       "        vertical-align: middle;\n",
       "    }\n",
       "\n",
       "    .dataframe tbody tr th {\n",
       "        vertical-align: top;\n",
       "    }\n",
       "\n",
       "    .dataframe thead th {\n",
       "        text-align: right;\n",
       "    }\n",
       "</style>\n",
       "<table border=\"1\" class=\"dataframe\">\n",
       "  <thead>\n",
       "    <tr style=\"text-align: right;\">\n",
       "      <th></th>\n",
       "      <th>id</th>\n",
       "      <th>rec_id</th>\n",
       "      <th>user_id</th>\n",
       "      <th>item_id</th>\n",
       "      <th>als_score</th>\n",
       "      <th>category_id</th>\n",
       "      <th>parent_id</th>\n",
       "      <th>available</th>\n",
       "      <th>cb_score</th>\n",
       "      <th>rank</th>\n",
       "    </tr>\n",
       "  </thead>\n",
       "  <tbody>\n",
       "    <tr>\n",
       "      <th>0</th>\n",
       "      <td>1</td>\n",
       "      <td>1554</td>\n",
       "      <td>54791</td>\n",
       "      <td>116624</td>\n",
       "      <td>2.194877e-12</td>\n",
       "      <td>959</td>\n",
       "      <td>1095</td>\n",
       "      <td>0</td>\n",
       "      <td>0.441740</td>\n",
       "      <td>1</td>\n",
       "    </tr>\n",
       "    <tr>\n",
       "      <th>1</th>\n",
       "      <td>2</td>\n",
       "      <td>1551</td>\n",
       "      <td>54791</td>\n",
       "      <td>417927</td>\n",
       "      <td>2.242130e-12</td>\n",
       "      <td>959</td>\n",
       "      <td>1095</td>\n",
       "      <td>0</td>\n",
       "      <td>0.435370</td>\n",
       "      <td>2</td>\n",
       "    </tr>\n",
       "    <tr>\n",
       "      <th>2</th>\n",
       "      <td>3</td>\n",
       "      <td>1508</td>\n",
       "      <td>54791</td>\n",
       "      <td>118914</td>\n",
       "      <td>5.266289e-12</td>\n",
       "      <td>1051</td>\n",
       "      <td>955</td>\n",
       "      <td>1</td>\n",
       "      <td>0.324898</td>\n",
       "      <td>3</td>\n",
       "    </tr>\n",
       "    <tr>\n",
       "      <th>3</th>\n",
       "      <td>4</td>\n",
       "      <td>1584</td>\n",
       "      <td>54791</td>\n",
       "      <td>393028</td>\n",
       "      <td>1.611422e-12</td>\n",
       "      <td>5</td>\n",
       "      <td>1637</td>\n",
       "      <td>0</td>\n",
       "      <td>0.296031</td>\n",
       "      <td>4</td>\n",
       "    </tr>\n",
       "    <tr>\n",
       "      <th>4</th>\n",
       "      <td>5</td>\n",
       "      <td>1536</td>\n",
       "      <td>54791</td>\n",
       "      <td>92361</td>\n",
       "      <td>2.624674e-12</td>\n",
       "      <td>959</td>\n",
       "      <td>1095</td>\n",
       "      <td>1</td>\n",
       "      <td>0.273581</td>\n",
       "      <td>5</td>\n",
       "    </tr>\n",
       "    <tr>\n",
       "      <th>...</th>\n",
       "      <td>...</td>\n",
       "      <td>...</td>\n",
       "      <td>...</td>\n",
       "      <td>...</td>\n",
       "      <td>...</td>\n",
       "      <td>...</td>\n",
       "      <td>...</td>\n",
       "      <td>...</td>\n",
       "      <td>...</td>\n",
       "      <td>...</td>\n",
       "    </tr>\n",
       "    <tr>\n",
       "      <th>6094</th>\n",
       "      <td>6095</td>\n",
       "      <td>33521</td>\n",
       "      <td>1403769</td>\n",
       "      <td>210087</td>\n",
       "      <td>1.074475e-02</td>\n",
       "      <td>1385</td>\n",
       "      <td>1202</td>\n",
       "      <td>0</td>\n",
       "      <td>0.009332</td>\n",
       "      <td>96</td>\n",
       "    </tr>\n",
       "    <tr>\n",
       "      <th>6095</th>\n",
       "      <td>6096</td>\n",
       "      <td>33512</td>\n",
       "      <td>1403769</td>\n",
       "      <td>321905</td>\n",
       "      <td>1.550334e-02</td>\n",
       "      <td>1051</td>\n",
       "      <td>955</td>\n",
       "      <td>0</td>\n",
       "      <td>0.008317</td>\n",
       "      <td>97</td>\n",
       "    </tr>\n",
       "    <tr>\n",
       "      <th>6096</th>\n",
       "      <td>6097</td>\n",
       "      <td>33503</td>\n",
       "      <td>1403769</td>\n",
       "      <td>11670</td>\n",
       "      <td>3.777569e-02</td>\n",
       "      <td>1135</td>\n",
       "      <td>1329</td>\n",
       "      <td>0</td>\n",
       "      <td>0.004268</td>\n",
       "      <td>98</td>\n",
       "    </tr>\n",
       "    <tr>\n",
       "      <th>6097</th>\n",
       "      <td>6098</td>\n",
       "      <td>33599</td>\n",
       "      <td>1403769</td>\n",
       "      <td>193828</td>\n",
       "      <td>2.139800e-03</td>\n",
       "      <td>819</td>\n",
       "      <td>798</td>\n",
       "      <td>0</td>\n",
       "      <td>0.002282</td>\n",
       "      <td>99</td>\n",
       "    </tr>\n",
       "    <tr>\n",
       "      <th>6098</th>\n",
       "      <td>6099</td>\n",
       "      <td>33528</td>\n",
       "      <td>1403769</td>\n",
       "      <td>21455</td>\n",
       "      <td>8.725054e-03</td>\n",
       "      <td>535</td>\n",
       "      <td>426</td>\n",
       "      <td>0</td>\n",
       "      <td>0.001899</td>\n",
       "      <td>100</td>\n",
       "    </tr>\n",
       "  </tbody>\n",
       "</table>\n",
       "<p>6099 rows × 10 columns</p>\n",
       "</div>"
      ],
      "text/plain": [
       "        id  rec_id  user_id  item_id     als_score  category_id  parent_id  \\\n",
       "0        1    1554    54791   116624  2.194877e-12          959       1095   \n",
       "1        2    1551    54791   417927  2.242130e-12          959       1095   \n",
       "2        3    1508    54791   118914  5.266289e-12         1051        955   \n",
       "3        4    1584    54791   393028  1.611422e-12            5       1637   \n",
       "4        5    1536    54791    92361  2.624674e-12          959       1095   \n",
       "...    ...     ...      ...      ...           ...          ...        ...   \n",
       "6094  6095   33521  1403769   210087  1.074475e-02         1385       1202   \n",
       "6095  6096   33512  1403769   321905  1.550334e-02         1051        955   \n",
       "6096  6097   33503  1403769    11670  3.777569e-02         1135       1329   \n",
       "6097  6098   33599  1403769   193828  2.139800e-03          819        798   \n",
       "6098  6099   33528  1403769    21455  8.725054e-03          535        426   \n",
       "\n",
       "      available  cb_score  rank  \n",
       "0             0  0.441740     1  \n",
       "1             0  0.435370     2  \n",
       "2             1  0.324898     3  \n",
       "3             0  0.296031     4  \n",
       "4             1  0.273581     5  \n",
       "...         ...       ...   ...  \n",
       "6094          0  0.009332    96  \n",
       "6095          0  0.008317    97  \n",
       "6096          0  0.004268    98  \n",
       "6097          0  0.002282    99  \n",
       "6098          0  0.001899   100  \n",
       "\n",
       "[6099 rows x 10 columns]"
      ]
     },
     "execution_count": 143,
     "metadata": {},
     "output_type": "execute_result"
    }
   ],
   "source": [
    "# Predicting interaction probabilities\n",
    "inf_data = Pool(data=candidates_inference[features], cat_features=cat_features)\n",
    "predictions = model.predict_proba(inf_data)\n",
    "candidates_inference[\"cb_score\"] = predictions[:, 1]\n",
    "\n",
    "# Sorting the DataFrame to create rankings\n",
    "candidates_inference_ranked = candidates_inference.sort_values(\n",
    "    by=[\"user_id\", \"cb_score\"], ascending=[True, False]\n",
    ")\n",
    "\n",
    "# Ranking recommendations\n",
    "candidates_inference_ranked[\"rank\"] = candidates_inference_ranked.groupby(\"user_id\").cumcount() + 1\n",
    "\n",
    "candidates_inference_ranked[\"id\"] = np.arange(1, candidates_inference_ranked.shape[0] + 1)\n",
    "candidates_inference_ranked = candidates_inference_ranked.reset_index(drop=True)\n",
    "candidates_inference_ranked"
   ]
  },
  {
   "cell_type": "code",
   "execution_count": 144,
   "metadata": {},
   "outputs": [
    {
     "data": {
      "image/png": "[encoded data removed]",
      "text/plain": [
       "<Figure size 640x480 with 1 Axes>"
      ]
     },
     "metadata": {},
     "output_type": "display_data"
    }
   ],
   "source": [
    "fi = pd.Series(\n",
    "    model.feature_importances_,\n",
    "    index=features,\n",
    "    name=\"fi_final_recs\",\n",
    ").sort_values()\n",
    "\n",
    "fi.plot(kind=\"barh\")\n",
    "plt.title(\"Feature importances (Catboost) - Test 2\")\n",
    "plt.ylabel(\"Feature\")\n",
    "plt.xlabel(\"Importance score\")\n",
    "plt.tight_layout()\n",
    "plt.savefig(f\"{ASSETS_DIR}/feature_importances_3.png\")\n",
    "plt.show()"
   ]
  },
  {
   "cell_type": "code",
   "execution_count": 145,
   "metadata": {},
   "outputs": [
    {
     "name": "stdout",
     "output_type": "stream",
     "text": [
      "Precision@10 = 0.06532 (6.532%)\n",
      "Recall@10 = 0.07733 (7.733%)\n"
     ]
    }
   ],
   "source": [
    "events_recs_for_binary_metric = process_events_recs_for_binary_metrics(\n",
    "    inference_data,\n",
    "    events_test_2,\n",
    "    candidates_inference_ranked.rename(columns={\"cb_score\": \"score\"}),\n",
    "    top_k=10,\n",
    ")\n",
    "\n",
    "precision_at_10_personal, recall_at_10_personal = compute_cls_metrics(events_recs_for_binary_metric)\n",
    "\n",
    "print(f\"Precision@10 = {precision_at_10_personal:.5f} ({precision_at_10_personal:.3%})\")\n",
    "print(f\"Recall@10 = {recall_at_10_personal:.5f} ({recall_at_10_personal:.3%})\")"
   ]
  },
  {
   "cell_type": "code",
   "execution_count": 146,
   "metadata": {},
   "outputs": [
    {
     "data": {
      "text/plain": [
       "{'precision_at_10': 0.0653177423669227, 'recall_at_10': 0.077330959245234}"
      ]
     },
     "execution_count": 146,
     "metadata": {},
     "output_type": "execute_result"
    }
   ],
   "source": [
    "recommendation_metrics = {\n",
    "    \"precision_at_10\": precision_at_10_personal,\n",
    "    \"recall_at_10\": recall_at_10_personal\n",
    "}\n",
    "recommendation_metrics"
   ]
  },
  {
   "cell_type": "code",
   "execution_count": 147,
   "metadata": {},
   "outputs": [],
   "source": [
    "candidates_inference_ranked.to_parquet(f\"{ASSETS_DIR}/personal_recommendations_3.parquet\")"
   ]
  },
  {
   "cell_type": "code",
   "execution_count": 148,
   "metadata": {},
   "outputs": [
    {
     "name": "stderr",
     "output_type": "stream",
     "text": [
      "/home/mle-user/mle_projects/final_projects/mle-pr-final/.venv_test/lib/python3.10/site-packages/_distutils_hack/__init__.py:16: UserWarning: Distutils was imported before Setuptools, but importing Setuptools also replaces the `distutils` module in `sys.modules`. This may lead to undesirable behaviors or errors. To avoid these issues, avoid using distutils directly, ensure that setuptools is installed in the traditional way (e.g. not an editable install), and/or make sure that setuptools is always imported before distutils.\n",
      "  warnings.warn(\n",
      "/home/mle-user/mle_projects/final_projects/mle-pr-final/.venv_test/lib/python3.10/site-packages/_distutils_hack/__init__.py:31: UserWarning: Setuptools is replacing distutils. Support for replacing an already imported distutils is deprecated. In the future, this condition will fail. Register concerns at https://github.com/pypa/setuptools/issues/new?template=distutils-deprecation.yml\n",
      "  warnings.warn(\n",
      "Registered model 'cb_ranking_model' already exists. Creating a new version of this model...\n",
      "2024/10/04 23:17:11 INFO mlflow.store.model_registry.abstract_store: Waiting up to 60 seconds for model version to finish creation. Model name: cb_ranking_model, version 4\n",
      "Created version '4' of model 'cb_ranking_model'.\n",
      "2024/10/04 23:17:11 WARNING mlflow.models.model: Input example should be provided to infer model signature if the model signature is not provided when logging the model.\n",
      "2024/10/04 23:17:11 INFO mlflow.tracking._tracking_service.client: 🏃 View run recommendations_ranking_t2 at: http://127.0.0.1:5000/#/experiments/19/runs/fffe13d741cf438e869d9f02453ca558.\n",
      "2024/10/04 23:17:11 INFO mlflow.tracking._tracking_service.client: 🧪 View experiment at: http://127.0.0.1:5000/#/experiments/19.\n"
     ]
    }
   ],
   "source": [
    "RUN_NAME = \"recommendations_ranking_t2\"\n",
    "REGISTERED_MODEL_NAME = \"cb_ranking_model\"\n",
    "with mlflow.start_run(run_name=RUN_NAME, experiment_id=experiment_id) as run:\n",
    "    \n",
    "    run_id = run.info.run_id\n",
    "    mlflow.log_params(catboost_params)\n",
    "    mlflow.log_metrics(recommendation_metrics)\n",
    "\n",
    "    mlflow.log_artifact(f\"{ASSETS_DIR}/personal_recommendations_3.parquet\", \"recommendations\")\n",
    "    mlflow.log_artifact(f\"{ASSETS_DIR}/feature_importances_3.png\", \"cb_model\")\n",
    "\n",
    "    model_info = mlflow.catboost.log_model( \n",
    "            registered_model_name=REGISTERED_MODEL_NAME,\n",
    "            cb_model=model,\n",
    "            await_registration_for=60,\n",
    "            artifact_path='models',\n",
    "            pip_requirements=\"../requirements.txt\",\n",
    "    )"
   ]
  },
  {
   "cell_type": "markdown",
   "metadata": {},
   "source": [
    "### Choosing the best performing model"
   ]
  },
  {
   "cell_type": "markdown",
   "metadata": {},
   "source": [
    "Если воспользоваться UI Mlflow, то можно наглядно посмотреть на сравнение полученных метрик, в ходе чего видим, что последняя модель с 3000 деревьев показала некоторое улучшение в `recall@10`. Выберем нее в качестве лучшей модели. \n",
    "\n",
    "Загрузим такую модель из Mlflow (она была у нас последней, поэтому у нас уже есть `model_uri`):"
   ]
  },
  {
   "cell_type": "code",
   "execution_count": 150,
   "metadata": {},
   "outputs": [
    {
     "data": {
      "application/vnd.jupyter.widget-view+json": {
       "model_id": "77c633958d224f1e8adf7fd9337348f3",
       "version_major": 2,
       "version_minor": 0
      },
      "text/plain": [
       "Downloading artifacts:   0%|          | 0/5 [00:00<?, ?it/s]"
      ]
     },
     "metadata": {},
     "output_type": "display_data"
    }
   ],
   "source": [
    "best_cb_model = mlflow.catboost.load_model(\n",
    "    model_uri=model_info.model_uri\n",
    ")"
   ]
  },
  {
   "cell_type": "code",
   "execution_count": 161,
   "metadata": {},
   "outputs": [
    {
     "data": {
      "text/plain": [
       "{'random_seed': 2049,\n",
       " 'auto_class_weights': 'Balanced',\n",
       " 'loss_function': 'Logloss',\n",
       " 'iterations': 3000,\n",
       " 'verbose': 500}"
      ]
     },
     "execution_count": 161,
     "metadata": {},
     "output_type": "execute_result"
    }
   ],
   "source": [
    "best_cb_model.get_params()"
   ]
  },
  {
   "cell_type": "code",
   "execution_count": 155,
   "metadata": {},
   "outputs": [
    {
     "data": {
      "text/plain": [
       "True"
      ]
     },
     "execution_count": 155,
     "metadata": {},
     "output_type": "execute_result"
    }
   ],
   "source": [
    "best_cb_model.is_fitted()"
   ]
  },
  {
   "cell_type": "code",
   "execution_count": 159,
   "metadata": {},
   "outputs": [
    {
     "data": {
      "text/plain": [
       "catboost.core.Pool"
      ]
     },
     "execution_count": 159,
     "metadata": {},
     "output_type": "execute_result"
    }
   ],
   "source": [
    "type(inf_data)"
   ]
  },
  {
   "cell_type": "code",
   "execution_count": 160,
   "metadata": {},
   "outputs": [
    {
     "data": {
      "text/plain": [
       "array([0, 0, 0, ..., 0, 0, 0])"
      ]
     },
     "execution_count": 160,
     "metadata": {},
     "output_type": "execute_result"
    }
   ],
   "source": [
    "best_cb_model.predict(inf_data)"
   ]
  },
  {
   "cell_type": "markdown",
   "metadata": {},
   "source": [
    "Перезапишем модель, которую сохраняли во время первого прогона модели:"
   ]
  },
  {
   "cell_type": "code",
   "execution_count": 162,
   "metadata": {},
   "outputs": [],
   "source": [
    "best_cb_model.save_model(f\"{POSTGRES_DATA_DIR}/catboost_model.cbm\")"
   ]
  },
  {
   "cell_type": "markdown",
   "metadata": {},
   "source": [
    "## Conclusion"
   ]
  },
  {
   "cell_type": "code",
   "execution_count": null,
   "metadata": {},
   "outputs": [],
   "source": []
  },
  {
   "cell_type": "code",
   "execution_count": null,
   "metadata": {},
   "outputs": [],
   "source": []
  }
 ],
 "metadata": {
  "kernelspec": {
   "display_name": ".venv_test",
   "language": "python",
   "name": "python3"
  },
  "language_info": {
   "codemirror_mode": {
    "name": "ipython",
    "version": 3
   },
   "file_extension": ".py",
   "mimetype": "text/x-python",
   "name": "python",
   "nbconvert_exporter": "python",
   "pygments_lexer": "ipython3",
   "version": "3.10.12"
  }
 },
 "nbformat": 4,
 "nbformat_minor": 4
}
